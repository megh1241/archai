{
 "cells": [
  {
   "cell_type": "code",
   "execution_count": 1,
   "metadata": {},
   "outputs": [],
   "source": [
    "import sys\n",
    "import os\n",
    "\n",
    "from archai.datasets.cv.mnist_dataset_provider import MnistDatasetProvider\n",
    "\n",
    "dataset_provider = MnistDatasetProvider()\n",
    "tr_data = dataset_provider.get_train_dataset()\n",
    "\n",
    "sys.path.append(os.path.realpath('scripts'))"
   ]
  },
  {
   "cell_type": "code",
   "execution_count": 2,
   "metadata": {},
   "outputs": [
    {
     "name": "stdout",
     "output_type": "stream",
     "text": [
      "[1, 1, 28, 28]\n"
     ]
    }
   ],
   "source": [
    "import numpy as np\n",
    "shape = tr_data.data[0].shape\n",
    "shape = [1,1] + list(shape)\n",
    "print(shape)"
   ]
  },
  {
   "cell_type": "code",
   "execution_count": 3,
   "metadata": {},
   "outputs": [],
   "source": [
    "import math\n",
    "import torch\n",
    "from torch import nn\n",
    "from model import MyModel\n",
    "from archai.datasets.cv.mnist_dataset_provider import MnistDatasetProvider\n",
    "from store import ArchaiStore\n",
    "from tqdm import tqdm\n",
    "\n",
    "class Trainer:\n",
    "    def __init__(self, training_epochs: float = 1.0, lr: float = 1e-4, device: str = 'cpu'):\n",
    "        self.training_epochs = training_epochs\n",
    "        self.device = device\n",
    "        self.lr = lr\n",
    "        self.model = None\n",
    "        self.val_acc = None\n",
    "        self.shape = None\n",
    "\n",
    "    def evaluate(self, model, dataset_provider, progress_bar=False) -> float:\n",
    "        # Loads the dataset\n",
    "        tr_data = dataset_provider.get_train_dataset()\n",
    "        val_data = dataset_provider.get_val_dataset()\n",
    "\n",
    "        self.shape = tr_data[0][0].shape\n",
    "\n",
    "        tr_dl = torch.utils.data.DataLoader(tr_data, batch_size=16, shuffle=True, num_workers=4)\n",
    "        val_dl = torch.utils.data.DataLoader(val_data, batch_size=16, shuffle=False, num_workers=4)\n",
    "\n",
    "        # Training settings\n",
    "        optimizer = torch.optim.Adam(model.parameters(), lr=self.lr)\n",
    "        criterion = nn.CrossEntropyLoss()\n",
    "\n",
    "        model.train()\n",
    "        model.to(self.device)\n",
    "\n",
    "        # Partial training\n",
    "        epoch_iter = range(math.ceil(self.training_epochs))\n",
    "        if progress_bar:\n",
    "\n",
    "            epoch_iter = tqdm(epoch_iter, desc=f'Training model {model.get_archid()}')\n",
    "        for epoch_nb in epoch_iter:\n",
    "            # Early stops for fractional values of training epochs (e.g, 0.2)\n",
    "            early_stop = len(tr_dl) + 1\n",
    "            if 0 < (self.training_epochs - epoch_nb) < 1:\n",
    "                early_stop = int((self.training_epochs - epoch_nb) * len(tr_dl))\n",
    "\n",
    "            for i, (x, y) in enumerate(tr_dl):\n",
    "                if i >= early_stop:\n",
    "                    break\n",
    "\n",
    "                optimizer.zero_grad()\n",
    "\n",
    "                pred = model(x.to(self.device))\n",
    "                loss = criterion(pred, y.to(self.device))\n",
    "\n",
    "                loss.backward()\n",
    "                optimizer.step()\n",
    "\n",
    "        # Evaluates final model\n",
    "        model.eval()\n",
    "\n",
    "        with torch.no_grad():\n",
    "            val_pred, val_target = [], []\n",
    "\n",
    "            for x, y in val_dl:\n",
    "                val_pred.append(model(x.to(self.device)).argmax(axis=1).to('cpu'))\n",
    "                val_target.append(y.to('cpu'))\n",
    "\n",
    "            val_pred, val_target = torch.cat(val_pred, axis=0), torch.cat(val_target, axis=0)\n",
    "            val_acc = (val_pred.squeeze() == val_target.squeeze()).numpy().mean()\n",
    "\n",
    "        # Returns model to cpu\n",
    "        model.cpu()\n",
    "\n",
    "        self.model = model\n",
    "        self.val_acc = val_acc\n",
    "        return val_acc\n"
   ]
  },
  {
   "cell_type": "code",
   "execution_count": 4,
   "metadata": {},
   "outputs": [
    {
     "name": "stderr",
     "output_type": "stream",
     "text": [
      "Training model (5, 3, 32): 100%|██████████| 10/10 [05:27<00:00, 32.75s/it]\n"
     ]
    },
    {
     "data": {
      "text/plain": [
       "0.9854"
      ]
     },
     "execution_count": 4,
     "metadata": {},
     "output_type": "execute_result"
    }
   ],
   "source": [
    "model = MyModel()\n",
    "dataset_provider = MnistDatasetProvider()\n",
    "trainer = Trainer(training_epochs=10, device='cuda')\n",
    "trainer.evaluate(model, dataset_provider, True)"
   ]
  },
  {
   "cell_type": "code",
   "execution_count": 5,
   "metadata": {},
   "outputs": [
    {
     "name": "stdout",
     "output_type": "stream",
     "text": [
      "[1, 1, 28, 28]\n"
     ]
    }
   ],
   "source": [
    "import numpy as np\n",
    "shape = tr_data.data[0].shape\n",
    "shape = [1,1] + list(shape)\n",
    "print(shape)\n",
    "\n",
    "dummy_input = torch.randn(shape, device=\"cpu\")\n",
    "torch.onnx.export(model.model, dummy_input, \"model.onnx\",\n",
    "                  input_names = ['input'],  \n",
    "                  output_names = ['output']) "
   ]
  },
  {
   "cell_type": "code",
   "execution_count": 13,
   "metadata": {},
   "outputs": [
    {
     "name": "stdout",
     "output_type": "stream",
     "text": [
      "0.9854\n",
      "data has shape: torch.Size([28, 28])\n"
     ]
    },
    {
     "data": {
      "image/png": "[encoded data removed]",
      "text/plain": [
       "<Figure size 200x200 with 1 Axes>"
      ]
     },
     "metadata": {},
     "output_type": "display_data"
    },
    {
     "name": "stdout",
     "output_type": "stream",
     "text": [
      "input: input, [1, 1, 28, 28], tensor(float)\n",
      "Testing 10000 rows\n",
      "### Failed: 5 and got 2 - two\n",
      "### Failed: 3 and got 5 - five\n"
     ]
    },
    {
     "name": "stderr",
     "output_type": "stream",
     "text": [
      "c:\\anaconda3\\envs\\archai\\lib\\site-packages\\torchvision\\datasets\\mnist.py:65: UserWarning: train_labels has been renamed targets\n",
      "  warnings.warn(\"train_labels has been renamed targets\")\n"
     ]
    },
    {
     "name": "stdout",
     "output_type": "stream",
     "text": [
      "### Failed: 9 and got 8 - eight\n",
      "### Failed: 8 and got 3 - three\n",
      "### Failed: 5 and got 8 - eight\n",
      "### Failed: 4 and got 2 - two\n",
      "### Failed: 4 and got 9 - nine\n",
      "### Failed: 6 and got 0 - zero\n",
      "### Failed: 3 and got 5 - five\n",
      "### Failed: 0 and got 4 - four\n",
      "### Failed: 8 and got 2 - two\n",
      "### Failed: 2 and got 1 - one\n",
      "### Failed: 7 and got 1 - one\n",
      "### Failed: 4 and got 8 - eight\n",
      "### Failed: 7 and got 0 - zero\n",
      "### Failed: 8 and got 9 - nine\n",
      "### Failed: 6 and got 9 - nine\n",
      "### Failed: 5 and got 2 - two\n",
      "### Failed: 8 and got 0 - zero\n",
      "### Failed: 9 and got 0 - zero\n",
      "### Failed: 0 and got 9 - nine\n",
      "### Failed: 7 and got 2 - two\n",
      "### Failed: 9 and got 4 - four\n",
      "### Failed: 4 and got 9 - nine\n",
      "### Failed: 9 and got 2 - two\n",
      "### Failed: 7 and got 1 - one\n",
      "### Failed: 5 and got 7 - seven\n",
      "### Failed: 8 and got 3 - three\n",
      "### Failed: 5 and got 3 - three\n",
      "### Failed: 8 and got 3 - three\n",
      "### Failed: 6 and got 0 - zero\n",
      "### Failed: 2 and got 3 - three\n",
      "### Failed: 9 and got 8 - eight\n",
      "### Failed: 3 and got 7 - seven\n",
      "### Failed: 8 and got 3 - three\n",
      "### Failed: 9 and got 4 - four\n",
      "### Failed: 7 and got 2 - two\n",
      "### Failed: 6 and got 8 - eight\n",
      "### Failed: 5 and got 6 - six\n",
      "### Failed: 4 and got 8 - eight\n",
      "### Failed: 4 and got 9 - nine\n",
      "### Failed: 8 and got 0 - zero\n",
      "### Failed: 2 and got 0 - zero\n",
      "### Failed: 8 and got 0 - zero\n",
      "### Failed: 6 and got 0 - zero\n",
      "### Failed: 9 and got 2 - two\n",
      "### Failed: 4 and got 9 - nine\n",
      "### Failed: 6 and got 1 - one\n",
      "### Failed: 1 and got 2 - two\n",
      "### Failed: 7 and got 2 - two\n",
      "### Failed: 9 and got 4 - four\n",
      "### Failed: 3 and got 5 - five\n",
      "### Failed: 0 and got 5 - five\n",
      "### Failed: 5 and got 3 - three\n",
      "### Failed: 9 and got 8 - eight\n",
      "### Failed: 9 and got 8 - eight\n",
      "### Failed: 6 and got 4 - four\n",
      "### Failed: 4 and got 9 - nine\n",
      "### Failed: 6 and got 5 - five\n",
      "### Failed: 2 and got 0 - zero\n",
      "### Failed: 6 and got 0 - zero\n",
      "### Failed: 9 and got 0 - zero\n",
      "### Failed: 5 and got 3 - three\n",
      "### Failed: 7 and got 2 - two\n",
      "### Failed: 6 and got 1 - one\n",
      "### Failed: 6 and got 0 - zero\n",
      "### Failed: 7 and got 4 - four\n",
      "### Failed: 6 and got 0 - zero\n",
      "### Failed: 6 and got 0 - zero\n",
      "### Failed: 8 and got 0 - zero\n",
      "### Failed: 4 and got 9 - nine\n",
      "### Failed: 4 and got 7 - seven\n",
      "### Failed: 8 and got 0 - zero\n",
      "### Failed: 9 and got 0 - zero\n",
      "### Failed: 6 and got 8 - eight\n",
      "### Failed: 9 and got 8 - eight\n",
      "### Failed: 6 and got 8 - eight\n",
      "### Failed: 9 and got 3 - three\n",
      "### Failed: 1 and got 2 - two\n",
      "### Failed: 6 and got 0 - zero\n",
      "### Failed: 2 and got 5 - five\n",
      "### Failed: 6 and got 0 - zero\n",
      "### Failed: 4 and got 8 - eight\n",
      "### Failed: 5 and got 0 - zero\n",
      "### Failed: 7 and got 4 - four\n",
      "### Failed: 4 and got 9 - nine\n",
      "### Failed: 6 and got 0 - zero\n",
      "### Failed: 6 and got 8 - eight\n",
      "### Failed: 7 and got 2 - two\n",
      "### Failed: 5 and got 3 - three\n",
      "### Failed: 7 and got 9 - nine\n",
      "### Failed: 6 and got 0 - zero\n",
      "### Failed: 6 and got 0 - zero\n",
      "### Failed: 1 and got 7 - seven\n",
      "### Failed: 6 and got 8 - eight\n",
      "### Failed: 9 and got 2 - two\n",
      "### Failed: 2 and got 0 - zero\n",
      "### Failed: 5 and got 3 - three\n",
      "### Failed: 9 and got 2 - two\n",
      "### Failed: 4 and got 9 - nine\n",
      "### Failed: 9 and got 8 - eight\n",
      "### Failed: 8 and got 2 - two\n",
      "### Failed: 8 and got 3 - three\n",
      "### Failed: 6 and got 0 - zero\n",
      "### Failed: 8 and got 9 - nine\n",
      "### Failed: 9 and got 7 - seven\n",
      "### Failed: 6 and got 1 - one\n",
      "### Failed: 6 and got 0 - zero\n",
      "### Failed: 9 and got 4 - four\n",
      "### Failed: 6 and got 8 - eight\n",
      "### Failed: 4 and got 9 - nine\n",
      "### Failed: 5 and got 3 - three\n",
      "### Failed: 3 and got 8 - eight\n",
      "### Failed: 5 and got 8 - eight\n",
      "### Failed: 9 and got 0 - zero\n",
      "### Failed: 9 and got 0 - zero\n",
      "### Failed: 9 and got 8 - eight\n",
      "### Failed: 9 and got 0 - zero\n",
      "### Failed: 9 and got 2 - two\n",
      "### Failed: 9 and got 0 - zero\n",
      "### Failed: 6 and got 5 - five\n",
      "### Failed: 7 and got 1 - one\n",
      "### Failed: 0 and got 8 - eight\n",
      "### Failed: 6 and got 4 - four\n",
      "### Failed: 0 and got 8 - eight\n",
      "### Failed: 4 and got 8 - eight\n",
      "### Failed: 4 and got 9 - nine\n",
      "### Failed: 7 and got 9 - nine\n",
      "### Failed: 7 and got 9 - nine\n",
      "### Failed: 4 and got 9 - nine\n",
      "### Failed: 0 and got 2 - two\n",
      "### Failed: 4 and got 7 - seven\n",
      "### Failed: 6 and got 0 - zero\n",
      "### Failed: 7 and got 2 - two\n",
      "### Failed: 7 and got 2 - two\n",
      "### Failed: 7 and got 2 - two\n",
      "### Failed: 9 and got 5 - five\n",
      "### Failed: 6 and got 2 - two\n",
      "### Failed: 9 and got 7 - seven\n",
      "### Failed: 6 and got 1 - one\n",
      "### Failed: 5 and got 6 - six\n",
      "### Failed: 5 and got 8 - eight\n",
      "### Failed: 2 and got 8 - eight\n",
      "### Failed: 4 and got 9 - nine\n",
      "### Failed: 6 and got 0 - zero\n",
      "### Failed: 2 and got 8 - eight\n",
      "\n",
      "Pass rate is  98.54 %\n"
     ]
    }
   ],
   "source": [
    "import onnxruntime as ort\n",
    "import numpy as np\n",
    "\n",
    "print (trainer.val_acc)\n",
    "val_data = dataset_provider.get_val_dataset()\n",
    "count = val_data.data.shape[0]\n",
    "test = np.random.choice(count, 1)[0]\n",
    "data = val_data.data[test]\n",
    "\n",
    "import matplotlib.pyplot as plt\n",
    "\n",
    "plt.figure(figsize=(2,2))\n",
    "plt.imshow(data, cmap='gray')\n",
    "print(f'data has shape: {data.shape}')\n",
    "plt.axis('off')\n",
    "plt.show()\n",
    "\n",
    "ort_sess = ort.InferenceSession('model.onnx', providers=['CUDAExecutionProvider'])\n",
    "for i in ort_sess.get_inputs():\n",
    "    print(f'input: {i.name}, {i.shape}, {i.type}')\n",
    "    \n",
    "print(f'Testing {count} rows')\n",
    "failed = 0\n",
    "for i in range(val_data.data.shape[0]):\n",
    "    data = val_data.data[i]    \n",
    "    expected = int(val_data.train_labels[i])\n",
    "\n",
    "    while len(data.shape) < 4:\n",
    "        data = np.expand_dims(data, axis=0)\n",
    "    outputs = ort_sess.run(None, {'input': data.astype(np.float32) / 255.0})\n",
    "    result = outputs[0]\n",
    "    index = np.argmax(result)\n",
    "    label = val_data.classes[index]\n",
    "    if expected != index:\n",
    "        print(f'### Failed: {expected} and got {label}')\n",
    "        failed += 1\n",
    "          \n",
    "print(\"\")\n",
    "rate = (count - failed) * 100 / count\n",
    "print(f'Pass rate is  {rate} %')"
   ]
  },
  {
   "cell_type": "code",
   "execution_count": 8,
   "metadata": {},
   "outputs": [
    {
     "name": "stdout",
     "output_type": "stream",
     "text": [
      "input: input, [1, 1, 28, 28], tensor(float)\n"
     ]
    }
   ],
   "source": [
    "ort_sess = ort.InferenceSession('model.onnx', providers=['CUDAExecutionProvider'])\n",
    "for i in ort_sess.get_inputs():\n",
    "    print(f'input: {i.name}, {i.shape}, {i.type}')"
   ]
  },
  {
   "cell_type": "code",
   "execution_count": null,
   "metadata": {},
   "outputs": [],
   "source": []
  }
 ],
 "metadata": {
  "kernelspec": {
   "display_name": "archai",
   "language": "python",
   "name": "python3"
  },
  "language_info": {
   "codemirror_mode": {
    "name": "ipython",
    "version": 3
   },
   "file_extension": ".py",
   "mimetype": "text/x-python",
   "name": "python",
   "nbconvert_exporter": "python",
   "pygments_lexer": "ipython3",
   "version": "3.10.9"
  },
  "orig_nbformat": 4
 },
 "nbformat": 4,
 "nbformat_minor": 2
}
