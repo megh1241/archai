{
 "cells": [
  {
   "attachments": {},
   "cell_type": "markdown",
   "metadata": {},
   "source": [
    "# Distributed Search\n",
    "\n",
    "This notebook and accompanying code shows how to run an Archai Network Architecture Search (NAS) using\n",
    "an Azure Machine Learning Workspace with distributed partial training of models on a GPU cluster.\n",
    "This example requires a storage account and Azure machine learning workspace specified in a config.json\n",
    "file like this:\n",
    "\n",
    "```json\n",
    "{\n",
    "    \"subscription_id\": \"...\",\n",
    "    \"resource_group\": \"...\",\n",
    "    \"workspace_name\": \"...\",\n",
    "    \"storage_account_key\": \"...\",\n",
    "    \"storage_account_name\": \"...\"\n",
    "}\n",
    "```"
   ]
  },
  {
   "cell_type": "code",
   "execution_count": 1,
   "metadata": {},
   "outputs": [
    {
     "name": "stdout",
     "output_type": "stream",
     "text": [
      "Using storage account: archaimnistmodels\n"
     ]
    }
   ],
   "source": [
    "import sys\n",
    "import os\n",
    "import json\n",
    "import archai.common.azureml_helper as aml_helper\n",
    "from azure.ai.ml.entities import UserIdentityConfiguration\n",
    "\n",
    "sys.path.append(os.path.realpath('scripts'))\n",
    "\n",
    "# make sure we have a scripts dir for the code to run our jobs.\n",
    "import os\n",
    "scripts_dir = \"./scripts\"\n",
    "os.makedirs(scripts_dir, exist_ok=True)\n",
    "\n",
    "config_file = \"../.azureml/config.json\"\n",
    "config = json.load(open(config_file, 'r'))\n",
    "\n",
    "for required_key in ['subscription_id', 'resource_group', 'workspace_name', 'storage_account_key', 'storage_account_name']:\n",
    "    if not required_key in config:\n",
    "        print(f\"### Error: please add a {required_key} to {config_file}\")\n",
    "\n",
    "storage_account_key = config['storage_account_key']    \n",
    "storage_account_name = config['storage_account_name']\n",
    "\n",
    "print(f'Using storage account: {storage_account_name}')\n",
    "\n",
    "# This is the AML experiment name \n",
    "experiment_name = 'mnist_test_run'"
   ]
  },
  {
   "attachments": {},
   "cell_type": "markdown",
   "metadata": {},
   "source": [
    "Our [search.py](scripts/search.py) will use a ConfigSearchSpace based on the following parameters, the model defined in [model.py](scripts/model.py) will take various configurations and build different shape CNN models for each configuration as shown below. Each time you execute this cell it will generate a new random CNN model."
   ]
  },
  {
   "cell_type": "code",
   "execution_count": 2,
   "metadata": {},
   "outputs": [
    {
     "name": "stdout",
     "output_type": "stream",
     "text": [
      "ArchConfig({\n",
      "    \"nb_layers\": 1,\n",
      "    \"kernel_size\": 5,\n",
      "    \"hidden_dim\": 32\n",
      "})\n"
     ]
    },
    {
     "data": {
      "text/plain": [
       "MyModel(\n",
       "  (model): Sequential(\n",
       "    (0): Conv2d(1, 32, kernel_size=(5, 5), stride=(1, 1), padding=(2, 2))\n",
       "    (1): BatchNorm2d(32, eps=1e-05, momentum=0.1, affine=True, track_running_stats=True)\n",
       "    (2): ReLU()\n",
       "    (3): AdaptiveAvgPool2d(output_size=(1, 1))\n",
       "    (4): Conv2d(32, 10, kernel_size=(1, 1), stride=(1, 1))\n",
       "  )\n",
       ")"
      ]
     },
     "execution_count": 2,
     "metadata": {},
     "output_type": "execute_result"
    }
   ],
   "source": [
    "from archai.discrete_search.search_spaces.config import ArchParamTree, DiscreteChoice\n",
    "from model import MyModel\n",
    "\n",
    "arch_param_tree = ArchParamTree({\n",
    "    'nb_layers': DiscreteChoice(list(range(1, 13))),\n",
    "    'kernel_size': DiscreteChoice([1, 3, 5, 7]),\n",
    "    'hidden_dim': DiscreteChoice([16, 32, 64, 128])\n",
    "})\n",
    "\n",
    "arch_config = arch_param_tree.sample_config()\n",
    "print(arch_config)\n",
    "\n",
    "MyModel(arch_config)"
   ]
  },
  {
   "attachments": {},
   "cell_type": "markdown",
   "metadata": {},
   "source": [
    "Get a handle to the workspace"
   ]
  },
  {
   "cell_type": "code",
   "execution_count": 3,
   "metadata": {},
   "outputs": [
    {
     "name": "stderr",
     "output_type": "stream",
     "text": [
      "Found the config file in: ..\\.azureml\\config.json\n"
     ]
    },
    {
     "name": "stdout",
     "output_type": "stream",
     "text": [
      "Using workspace \"snpe-aml-workspace\" in resource group \"snpe-aml-rg\"\n"
     ]
    }
   ],
   "source": [
    "ml_client = aml_helper.get_aml_client_from_file(config_path=config_file)\n",
    "print(f'Using workspace \"{ml_client.workspace_name}\" in resource group \"{ml_client.resource_group_name}\"')"
   ]
  },
  {
   "attachments": {},
   "cell_type": "markdown",
   "metadata": {},
   "source": [
    "Create the compute clusters that we need"
   ]
  },
  {
   "cell_type": "code",
   "execution_count": 4,
   "metadata": {},
   "outputs": [
    {
     "name": "stdout",
     "output_type": "stream",
     "text": [
      "You already have a cluster named nas-cpu-cluster-D14-v2, we'll reuse it as is.\n",
      "You already have a cluster named nas-gpu-cluster-NC6, we'll reuse it as is.\n"
     ]
    }
   ],
   "source": [
    "# Create cpu cluster for running the search\n",
    "cpu_compute_name = \"nas-cpu-cluster-D14-v2\"\n",
    "aml_helper.create_compute_cluster(ml_client, cpu_compute_name, size=\"Standard_D14_v2\", location=\"westus2\")\n",
    "\n",
    "# Create gpu cluster for running the search\n",
    "gpu_compute_name = \"nas-gpu-cluster-NC6\"\n",
    "aml_helper.create_compute_cluster(ml_client, gpu_compute_name, size=\"Standard_NC6\", location=\"westus2\", max_instances=8)"
   ]
  },
  {
   "attachments": {},
   "cell_type": "markdown",
   "metadata": {},
   "source": [
    "Create the AML Environment from our conda.yaml file"
   ]
  },
  {
   "cell_type": "code",
   "execution_count": 5,
   "metadata": {},
   "outputs": [
    {
     "name": "stdout",
     "output_type": "stream",
     "text": [
      "Environment with name aml-archai is registered to workspace, the environment version is 0.1.7\n"
     ]
    }
   ],
   "source": [
    "archai_job_env = aml_helper.create_environment_from_file(ml_client, conda_file=\"conda.yaml\", version='0.1.7')"
   ]
  },
  {
   "attachments": {},
   "cell_type": "markdown",
   "metadata": {},
   "source": [
    "Ensure our storage account is setup with `models` blob store container and `status` table"
   ]
  },
  {
   "cell_type": "code",
   "execution_count": 6,
   "metadata": {},
   "outputs": [],
   "source": [
    "from store import ArchaiStore\n",
    "\n",
    "# Register the datastore with AML\n",
    "data_store_name = \"datasets\"\n",
    "data_container_name = \"datasets\"\n",
    "model_store_name = \"models\"\n",
    "model_container_name = \"models\"\n",
    "root_folder = experiment_name\n",
    "\n",
    "# make sure the datasets container exists\n",
    "store = ArchaiStore(storage_account_name, storage_account_key, blob_container_name=data_container_name)\n",
    "store.upload_blob(root_folder, config_file)\n",
    "\n",
    "# make sure the models container exists\n",
    "store = ArchaiStore(storage_account_name, storage_account_key, blob_container_name=model_container_name)\n",
    "store.upload_blob(\"config\", config_file)\n",
    "\n",
    "datastore_path = f'azureml://datastores/{data_store_name}/paths/{root_folder}'\n",
    "results_path = f'azureml://datastores/{model_store_name}/paths/{root_folder}'"
   ]
  },
  {
   "attachments": {},
   "cell_type": "markdown",
   "metadata": {},
   "source": [
    "Register the `models` blob store container in the ML workspace `datastores`"
   ]
  },
  {
   "cell_type": "code",
   "execution_count": 7,
   "metadata": {},
   "outputs": [],
   "source": [
    "from azure.ai.ml.entities import AzureBlobDatastore\n",
    "from azure.ai.ml.entities._credentials import AccountKeyConfiguration\n",
    "\n",
    "try:\n",
    "    model_store = ml_client.datastores.get(model_store_name)\n",
    "except:    \n",
    "    model_store = AzureBlobDatastore(\n",
    "        name=model_store_name,\n",
    "        description=\"Datastore pointing to our models blob container.\",\n",
    "        account_name=storage_account_name,\n",
    "        container_name=model_container_name,\n",
    "        credentials=AccountKeyConfiguration(\n",
    "            account_key=storage_account_key\n",
    "        ),\n",
    "    )\n",
    "\n",
    "    ml_client.create_or_update(model_store)"
   ]
  },
  {
   "attachments": {},
   "cell_type": "markdown",
   "metadata": {},
   "source": [
    "Register the `datasets` blob store container in the ML workspace `datastores`"
   ]
  },
  {
   "cell_type": "code",
   "execution_count": 8,
   "metadata": {},
   "outputs": [],
   "source": [
    "try:\n",
    "    data_store = ml_client.datastores.get(data_store_name)\n",
    "except:\n",
    "    data_store = AzureBlobDatastore(\n",
    "        name=data_store_name,\n",
    "        description=\"Datastore pointing to our dataset container.\",\n",
    "        account_name=storage_account_name,\n",
    "        container_name=data_container_name,\n",
    "        credentials=AccountKeyConfiguration(\n",
    "            account_key=storage_account_key\n",
    "        ),\n",
    "    )\n",
    "\n",
    "    ml_client.create_or_update(data_store)"
   ]
  },
  {
   "attachments": {},
   "cell_type": "markdown",
   "metadata": {},
   "source": [
    "Create a pipeline command that prepares our MNIST dataset using `prep_data_store.py`"
   ]
  },
  {
   "cell_type": "code",
   "execution_count": 9,
   "metadata": {},
   "outputs": [],
   "source": [
    "from azure.ai.ml import command\n",
    "from azure.ai.ml import Input, Output\n",
    "\n",
    "data_prep_component = command(\n",
    "    name=\"data_prep2\",\n",
    "    display_name=\"Data preparation for training\",\n",
    "    description=\"Downloads the remote dataset to our blob store.\",\n",
    "    inputs= {\n",
    "        \"name\": Input(type='string')\n",
    "    },\n",
    "    outputs= {\n",
    "        \"data\": Output(type=\"uri_folder\", path=datastore_path, mode=\"rw_mount\")\n",
    "    },\n",
    "\n",
    "    # The source folder of the component\n",
    "    code=scripts_dir,\n",
    "    command=\"\"\"python3 prep_data_store.py \\\n",
    "            --path ${{outputs.data}} \\\n",
    "            \"\"\",\n",
    "    environment=f\"{archai_job_env.name}:{archai_job_env.version}\",\n",
    ")"
   ]
  },
  {
   "attachments": {},
   "cell_type": "markdown",
   "metadata": {},
   "source": [
    "Create a command that kids of the Archai Search using `search.py`"
   ]
  },
  {
   "cell_type": "code",
   "execution_count": 10,
   "metadata": {},
   "outputs": [
    {
     "name": "stdout",
     "output_type": "stream",
     "text": [
      "--data_dir azureml://datastores/datasets/paths/mnist_test_run --output_dir azureml://datastores/models/paths/mnist_test_run --environment \"aml-archai:0.1.7\" --experiment \"mnist_test_run\" --compute \"nas-gpu-cluster-NC6\" --config \"7b22737562736372697074696f6e5f6964223a202263386237663931332d363066622d343735392d613331302d666335363330653536663939222c20227265736f757263655f67726f7570223a2022736e70652d616d6c2d7267222c2022776f726b73706163655f6e616d65223a2022736e70652d616d6c2d776f726b7370616365222c2022696f745f7265736f757263655f67726f7570223a2022736e70652d6465766963652d6875622d7267222c2022696f745f6875625f6e616d65223a20224d7372536e7065446576696365487562222c20226c6f636174696f6e223a202277657374757332222c202273746f726167655f6163636f756e745f6b6579223a202279485a4459454c3045774a65754c54517747395047713867564f6d78777031593836686e54367239735732666659535967686f4c496a694973712f4353454e45766471785a78546b713872482b4153747548445944773d3d222c202273746f726167655f6163636f756e745f6e616d65223a20226172636861696d6e6973746d6f64656c73227d\" --partial_training_epochs 0.1 --full_training_epochs 10 \n"
     ]
    }
   ],
   "source": [
    "environment_name = f'{archai_job_env.name}:{archai_job_env.version}'\n",
    "hex_config = bytes(json.dumps(config), encoding='utf-8').hex()\n",
    "\n",
    "partial_epochs = 0.1\n",
    "full_epochs = 10\n",
    "\n",
    "output_path = results_path + '/' + experiment_name\n",
    "fixed_args = f'--data_dir {datastore_path} ' + \\\n",
    "             f'--output_dir {results_path} ' + \\\n",
    "             f'--environment \"{environment_name}\" ' + \\\n",
    "             f'--experiment \"{experiment_name}\" ' + \\\n",
    "             f'--compute \"{gpu_compute_name}\" ' + \\\n",
    "             f'--config \"{hex_config}\" ' + \\\n",
    "             f'--partial_training_epochs {partial_epochs} ' + \\\n",
    "             f'--full_training_epochs {full_epochs} '\n",
    "\n",
    "print(fixed_args)\n",
    "\n",
    "search_component = command(\n",
    "    name=\"search\",\n",
    "    display_name=\"The Archai NAS search\",\n",
    "    description=\"Runs the NAS search algorithm.\",    \n",
    "    inputs= {\n",
    "        \"data\": Input(type=\"uri_folder\")\n",
    "    },\n",
    "    outputs= {\n",
    "        \"results\": Output(type=\"uri_folder\", path=output_path, mode=\"rw_mount\")\n",
    "    },\n",
    "    code=scripts_dir,\n",
    "    identity= UserIdentityConfiguration(),\n",
    "    command='python3 search.py --local_output ${{outputs.results}} ' + \\\n",
    "        fixed_args,\n",
    "    environment=f\"{archai_job_env.name}:{archai_job_env.version}\",\n",
    ")"
   ]
  },
  {
   "attachments": {},
   "cell_type": "markdown",
   "metadata": {},
   "source": [
    "Create an AML pipeline with the data prep and search components piping the output of the data prep to the search component."
   ]
  },
  {
   "cell_type": "code",
   "execution_count": 11,
   "metadata": {},
   "outputs": [],
   "source": [
    "from azure.ai.ml import dsl, Input, Output\n",
    "\n",
    "@dsl.pipeline(\n",
    "    compute=cpu_compute_name,\n",
    "    description=\"Data prep pipeline\",\n",
    ")\n",
    "def mnist_search_pipeline():\n",
    "    # using data_prep_function like a python call with its own inputs\n",
    "    data_prep_job = data_prep_component(\n",
    "        name=\"MNIST\"\n",
    "    )\n",
    "\n",
    "    # check the dataset\n",
    "    check_job = search_component(\n",
    "        data=data_prep_job.outputs.data\n",
    "    )\n",
    "    \n",
    "    return { \"data\": data_prep_job.outputs.data }"
   ]
  },
  {
   "attachments": {},
   "cell_type": "markdown",
   "metadata": {},
   "source": [
    "Run the search pipeline"
   ]
  },
  {
   "cell_type": "code",
   "execution_count": 12,
   "metadata": {},
   "outputs": [
    {
     "name": "stderr",
     "output_type": "stream",
     "text": [
      "\u001b[32mUploading scripts (0.05 MBs): 100%|##########| 48835/48835 [00:01<00:00, 41929.89it/s]\n",
      "\u001b[39m\n",
      "\n"
     ]
    },
    {
     "ename": "NameError",
     "evalue": "name 'printf' is not defined",
     "output_type": "error",
     "traceback": [
      "\u001b[1;31m---------------------------------------------------------------------------\u001b[0m",
      "\u001b[1;31mNameError\u001b[0m                                 Traceback (most recent call last)",
      "Cell \u001b[1;32mIn[12], line 10\u001b[0m\n\u001b[0;32m      3\u001b[0m \u001b[39m# submit the pipeline job\u001b[39;00m\n\u001b[0;32m      4\u001b[0m pipeline_job \u001b[39m=\u001b[39m ml_client\u001b[39m.\u001b[39mjobs\u001b[39m.\u001b[39mcreate_or_update(\n\u001b[0;32m      5\u001b[0m     pipeline,\n\u001b[0;32m      6\u001b[0m     \u001b[39m# Project's name\u001b[39;00m\n\u001b[0;32m      7\u001b[0m     experiment_name\u001b[39m=\u001b[39mexperiment_name,\n\u001b[0;32m      8\u001b[0m )\n\u001b[1;32m---> 10\u001b[0m printf(\u001b[39mf\u001b[39m\u001b[39m'\u001b[39m\u001b[39mStarted pipeline: \u001b[39m\u001b[39m{\u001b[39;00mpipeline_job\u001b[39m.\u001b[39mname\u001b[39m}\u001b[39;00m\u001b[39m'\u001b[39m)\n",
      "\u001b[1;31mNameError\u001b[0m: name 'printf' is not defined"
     ]
    }
   ],
   "source": [
    "pipeline = mnist_search_pipeline()\n",
    "\n",
    "# submit the pipeline job\n",
    "pipeline_job = ml_client.jobs.create_or_update(\n",
    "    pipeline,\n",
    "    # Project's name\n",
    "    experiment_name=experiment_name,\n",
    ")\n",
    "\n"
   ]
  },
  {
   "attachments": {},
   "cell_type": "markdown",
   "metadata": {},
   "source": [
    "Open the pipeline azure ML studio portal in your web browser (This works when you are running this notbook in VS code)."
   ]
  },
  {
   "cell_type": "code",
   "execution_count": 14,
   "metadata": {},
   "outputs": [
    {
     "name": "stdout",
     "output_type": "stream",
     "text": [
      "Started pipeline: green_rabbit_xrrr45dcpn\n"
     ]
    }
   ],
   "source": [
    "import webbrowser\n",
    "webbrowser.open(pipeline_job.services[\"Studio\"].endpoint)\n",
    "\n",
    "job_name = pipeline_job.name\n",
    "print(f'Started pipeline: {job_name}')\n",
    "# you can fetch this pipeline job again if you needed to restart this notebook using:\n",
    "pipeline_job = ml_client.jobs.get(job_name)"
   ]
  },
  {
   "attachments": {},
   "cell_type": "markdown",
   "metadata": {},
   "source": [
    "## Plots\n",
    "\n",
    "Take a look at the pareto curve plots.  This cell can be run multiple times and you will see updates as each iteration finishes.\n",
    "You can even run this later after restarting the jupyter notebook because it is not dependent on variable state it is only\n",
    "dependent on the persistent 'models' blob store."
   ]
  },
  {
   "cell_type": "code",
   "execution_count": 17,
   "metadata": {},
   "outputs": [
    {
     "name": "stdout",
     "output_type": "stream",
     "text": [
      "Fetching results for mnist_test_run...\n",
      "Downloading file: pareto.json to mnist_test_run\\pareto.json ...\n",
      "Downloading file: pareto_FLOPs_vs_AmlTrainingValAccuracy.png to mnist_test_run\\pareto_FLOPs_vs_AmlTrainingValAccuracy.png ...\n",
      "Downloading file: pareto_ONNX_Latency_ms_vs_AmlTrainingValAccuracy.png to mnist_test_run\\pareto_ONNX_Latency_ms_vs_AmlTrainingValAccuracy.png ...\n",
      "Downloading file: pareto_ONNX_Latency_ms_vs_FLOPs.png to mnist_test_run\\pareto_ONNX_Latency_ms_vs_FLOPs.png ...\n",
      "Downloading file: pareto_models_iter_1 to mnist_test_run\\pareto_models_iter_1 ...\n",
      "Downloading file: pareto_models_iter_1/1c49cd4b3c29c4482bbd8ace9d40955431a257ca.json to mnist_test_run\\pareto_models_iter_1/1c49cd4b3c29c4482bbd8ace9d40955431a257ca.json ...\n",
      "### Error downloading to local file: [Errno 2] No such file or directory: 'mnist_test_run\\\\pareto_models_iter_1/1c49cd4b3c29c4482bbd8ace9d40955431a257ca.json'\n",
      "Downloading file: pareto_models_iter_1/210e69e2747f166859b1f50833b84eefc24c8f81.json to mnist_test_run\\pareto_models_iter_1/210e69e2747f166859b1f50833b84eefc24c8f81.json ...\n",
      "### Error downloading to local file: [Errno 2] No such file or directory: 'mnist_test_run\\\\pareto_models_iter_1/210e69e2747f166859b1f50833b84eefc24c8f81.json'\n",
      "Downloading file: pareto_models_iter_1/38d8c718b0cbc2bb15e31f117035c044e8b6099c.json to mnist_test_run\\pareto_models_iter_1/38d8c718b0cbc2bb15e31f117035c044e8b6099c.json ...\n",
      "### Error downloading to local file: [Errno 2] No such file or directory: 'mnist_test_run\\\\pareto_models_iter_1/38d8c718b0cbc2bb15e31f117035c044e8b6099c.json'\n",
      "Downloading file: pareto_models_iter_1/7aaeb315c1f7311c887725adca7ada25c8c255c7.json to mnist_test_run\\pareto_models_iter_1/7aaeb315c1f7311c887725adca7ada25c8c255c7.json ...\n",
      "### Error downloading to local file: [Errno 2] No such file or directory: 'mnist_test_run\\\\pareto_models_iter_1/7aaeb315c1f7311c887725adca7ada25c8c255c7.json'\n",
      "Downloading file: pareto_models_iter_1/7bcef7573b94dfad8512daa2b287475967cd6909.json to mnist_test_run\\pareto_models_iter_1/7bcef7573b94dfad8512daa2b287475967cd6909.json ...\n",
      "### Error downloading to local file: [Errno 2] No such file or directory: 'mnist_test_run\\\\pareto_models_iter_1/7bcef7573b94dfad8512daa2b287475967cd6909.json'\n",
      "Downloading file: pareto_models_iter_1/a01e51b6b0e5bc8245b8b1b672173436931d8e68.json to mnist_test_run\\pareto_models_iter_1/a01e51b6b0e5bc8245b8b1b672173436931d8e68.json ...\n",
      "### Error downloading to local file: [Errno 2] No such file or directory: 'mnist_test_run\\\\pareto_models_iter_1/a01e51b6b0e5bc8245b8b1b672173436931d8e68.json'\n",
      "Downloading file: pareto_models_iter_1/be7841a9c073b73f16f5ec65b6fa03f546a6d936.json to mnist_test_run\\pareto_models_iter_1/be7841a9c073b73f16f5ec65b6fa03f546a6d936.json ...\n",
      "### Error downloading to local file: [Errno 2] No such file or directory: 'mnist_test_run\\\\pareto_models_iter_1/be7841a9c073b73f16f5ec65b6fa03f546a6d936.json'\n",
      "Downloading file: pareto_models_iter_2 to mnist_test_run\\pareto_models_iter_2 ...\n",
      "Downloading file: pareto_models_iter_2/210e69e2747f166859b1f50833b84eefc24c8f81.json to mnist_test_run\\pareto_models_iter_2/210e69e2747f166859b1f50833b84eefc24c8f81.json ...\n",
      "### Error downloading to local file: [Errno 2] No such file or directory: 'mnist_test_run\\\\pareto_models_iter_2/210e69e2747f166859b1f50833b84eefc24c8f81.json'\n",
      "Downloading file: pareto_models_iter_2/30e6c4ed7cc065c09bdcc0d68774b15d565db56c.json to mnist_test_run\\pareto_models_iter_2/30e6c4ed7cc065c09bdcc0d68774b15d565db56c.json ...\n",
      "### Error downloading to local file: [Errno 2] No such file or directory: 'mnist_test_run\\\\pareto_models_iter_2/30e6c4ed7cc065c09bdcc0d68774b15d565db56c.json'\n",
      "Downloading file: pareto_models_iter_2/38d8c718b0cbc2bb15e31f117035c044e8b6099c.json to mnist_test_run\\pareto_models_iter_2/38d8c718b0cbc2bb15e31f117035c044e8b6099c.json ...\n",
      "### Error downloading to local file: [Errno 2] No such file or directory: 'mnist_test_run\\\\pareto_models_iter_2/38d8c718b0cbc2bb15e31f117035c044e8b6099c.json'\n",
      "Downloading file: pareto_models_iter_2/3a07ce71ad63d5820dea60056adb1ae4951c41fd.json to mnist_test_run\\pareto_models_iter_2/3a07ce71ad63d5820dea60056adb1ae4951c41fd.json ...\n",
      "### Error downloading to local file: [Errno 2] No such file or directory: 'mnist_test_run\\\\pareto_models_iter_2/3a07ce71ad63d5820dea60056adb1ae4951c41fd.json'\n",
      "Downloading file: pareto_models_iter_2/5d3ab570fb0955bf587eddb16cc2bc7501f835f2.json to mnist_test_run\\pareto_models_iter_2/5d3ab570fb0955bf587eddb16cc2bc7501f835f2.json ...\n",
      "### Error downloading to local file: [Errno 2] No such file or directory: 'mnist_test_run\\\\pareto_models_iter_2/5d3ab570fb0955bf587eddb16cc2bc7501f835f2.json'\n",
      "Downloading file: pareto_models_iter_2/7bcef7573b94dfad8512daa2b287475967cd6909.json to mnist_test_run\\pareto_models_iter_2/7bcef7573b94dfad8512daa2b287475967cd6909.json ...\n",
      "### Error downloading to local file: [Errno 2] No such file or directory: 'mnist_test_run\\\\pareto_models_iter_2/7bcef7573b94dfad8512daa2b287475967cd6909.json'\n",
      "Downloading file: pareto_models_iter_2/8e102049a7ee79dcdc1bf8834aef414ac3709a41.json to mnist_test_run\\pareto_models_iter_2/8e102049a7ee79dcdc1bf8834aef414ac3709a41.json ...\n",
      "### Error downloading to local file: [Errno 2] No such file or directory: 'mnist_test_run\\\\pareto_models_iter_2/8e102049a7ee79dcdc1bf8834aef414ac3709a41.json'\n",
      "Downloading file: pareto_models_iter_2/9d53f0479e4fb954fbd9d8105bba31c3849dcaaf.json to mnist_test_run\\pareto_models_iter_2/9d53f0479e4fb954fbd9d8105bba31c3849dcaaf.json ...\n",
      "### Error downloading to local file: [Errno 2] No such file or directory: 'mnist_test_run\\\\pareto_models_iter_2/9d53f0479e4fb954fbd9d8105bba31c3849dcaaf.json'\n",
      "Downloading file: pareto_models_iter_2/b51b5d38c92a135e6c53a43a393c7757b87c9c22.json to mnist_test_run\\pareto_models_iter_2/b51b5d38c92a135e6c53a43a393c7757b87c9c22.json ...\n",
      "### Error downloading to local file: [Errno 2] No such file or directory: 'mnist_test_run\\\\pareto_models_iter_2/b51b5d38c92a135e6c53a43a393c7757b87c9c22.json'\n",
      "Downloading file: pareto_models_iter_2/be7841a9c073b73f16f5ec65b6fa03f546a6d936.json to mnist_test_run\\pareto_models_iter_2/be7841a9c073b73f16f5ec65b6fa03f546a6d936.json ...\n",
      "### Error downloading to local file: [Errno 2] No such file or directory: 'mnist_test_run\\\\pareto_models_iter_2/be7841a9c073b73f16f5ec65b6fa03f546a6d936.json'\n",
      "Downloading file: pareto_models_iter_2/cb1fda9f59b2496fefae0cc10d78f2ec958be75a.json to mnist_test_run\\pareto_models_iter_2/cb1fda9f59b2496fefae0cc10d78f2ec958be75a.json ...\n",
      "### Error downloading to local file: [Errno 2] No such file or directory: 'mnist_test_run\\\\pareto_models_iter_2/cb1fda9f59b2496fefae0cc10d78f2ec958be75a.json'\n",
      "Downloading file: pareto_models_iter_3 to mnist_test_run\\pareto_models_iter_3 ...\n",
      "Downloading file: pareto_models_iter_3/210e69e2747f166859b1f50833b84eefc24c8f81.json to mnist_test_run\\pareto_models_iter_3/210e69e2747f166859b1f50833b84eefc24c8f81.json ...\n",
      "### Error downloading to local file: [Errno 2] No such file or directory: 'mnist_test_run\\\\pareto_models_iter_3/210e69e2747f166859b1f50833b84eefc24c8f81.json'\n",
      "Downloading file: pareto_models_iter_3/2ef83f40a2c0a2cb0f044852e1f48bd9930a9bd6.json to mnist_test_run\\pareto_models_iter_3/2ef83f40a2c0a2cb0f044852e1f48bd9930a9bd6.json ...\n",
      "### Error downloading to local file: [Errno 2] No such file or directory: 'mnist_test_run\\\\pareto_models_iter_3/2ef83f40a2c0a2cb0f044852e1f48bd9930a9bd6.json'\n",
      "Downloading file: pareto_models_iter_3/30e6c4ed7cc065c09bdcc0d68774b15d565db56c.json to mnist_test_run\\pareto_models_iter_3/30e6c4ed7cc065c09bdcc0d68774b15d565db56c.json ...\n",
      "### Error downloading to local file: [Errno 2] No such file or directory: 'mnist_test_run\\\\pareto_models_iter_3/30e6c4ed7cc065c09bdcc0d68774b15d565db56c.json'\n",
      "Downloading file: pareto_models_iter_3/3a07ce71ad63d5820dea60056adb1ae4951c41fd.json to mnist_test_run\\pareto_models_iter_3/3a07ce71ad63d5820dea60056adb1ae4951c41fd.json ...\n",
      "### Error downloading to local file: [Errno 2] No such file or directory: 'mnist_test_run\\\\pareto_models_iter_3/3a07ce71ad63d5820dea60056adb1ae4951c41fd.json'\n",
      "Downloading file: pareto_models_iter_3/5d3ab570fb0955bf587eddb16cc2bc7501f835f2.json to mnist_test_run\\pareto_models_iter_3/5d3ab570fb0955bf587eddb16cc2bc7501f835f2.json ...\n",
      "### Error downloading to local file: [Errno 2] No such file or directory: 'mnist_test_run\\\\pareto_models_iter_3/5d3ab570fb0955bf587eddb16cc2bc7501f835f2.json'\n",
      "Downloading file: pareto_models_iter_3/779cd3ec879d82b492104d258f039a63483a7e2f.json to mnist_test_run\\pareto_models_iter_3/779cd3ec879d82b492104d258f039a63483a7e2f.json ...\n",
      "### Error downloading to local file: [Errno 2] No such file or directory: 'mnist_test_run\\\\pareto_models_iter_3/779cd3ec879d82b492104d258f039a63483a7e2f.json'\n",
      "Downloading file: pareto_models_iter_3/8e102049a7ee79dcdc1bf8834aef414ac3709a41.json to mnist_test_run\\pareto_models_iter_3/8e102049a7ee79dcdc1bf8834aef414ac3709a41.json ...\n",
      "### Error downloading to local file: [Errno 2] No such file or directory: 'mnist_test_run\\\\pareto_models_iter_3/8e102049a7ee79dcdc1bf8834aef414ac3709a41.json'\n",
      "Downloading file: pareto_models_iter_3/9d53f0479e4fb954fbd9d8105bba31c3849dcaaf.json to mnist_test_run\\pareto_models_iter_3/9d53f0479e4fb954fbd9d8105bba31c3849dcaaf.json ...\n",
      "### Error downloading to local file: [Errno 2] No such file or directory: 'mnist_test_run\\\\pareto_models_iter_3/9d53f0479e4fb954fbd9d8105bba31c3849dcaaf.json'\n",
      "Downloading file: pareto_models_iter_3/a997af4e3f091e6c6714f475a5873a655ef1614e.json to mnist_test_run\\pareto_models_iter_3/a997af4e3f091e6c6714f475a5873a655ef1614e.json ...\n",
      "### Error downloading to local file: [Errno 2] No such file or directory: 'mnist_test_run\\\\pareto_models_iter_3/a997af4e3f091e6c6714f475a5873a655ef1614e.json'\n",
      "Downloading file: pareto_models_iter_3/b51b5d38c92a135e6c53a43a393c7757b87c9c22.json to mnist_test_run\\pareto_models_iter_3/b51b5d38c92a135e6c53a43a393c7757b87c9c22.json ...\n",
      "### Error downloading to local file: [Errno 2] No such file or directory: 'mnist_test_run\\\\pareto_models_iter_3/b51b5d38c92a135e6c53a43a393c7757b87c9c22.json'\n",
      "Downloading file: pareto_models_iter_3/be7841a9c073b73f16f5ec65b6fa03f546a6d936.json to mnist_test_run\\pareto_models_iter_3/be7841a9c073b73f16f5ec65b6fa03f546a6d936.json ...\n",
      "### Error downloading to local file: [Errno 2] No such file or directory: 'mnist_test_run\\\\pareto_models_iter_3/be7841a9c073b73f16f5ec65b6fa03f546a6d936.json'\n",
      "Downloading file: pareto_models_iter_3/cb1fda9f59b2496fefae0cc10d78f2ec958be75a.json to mnist_test_run\\pareto_models_iter_3/cb1fda9f59b2496fefae0cc10d78f2ec958be75a.json ...\n",
      "### Error downloading to local file: [Errno 2] No such file or directory: 'mnist_test_run\\\\pareto_models_iter_3/cb1fda9f59b2496fefae0cc10d78f2ec958be75a.json'\n",
      "Downloading file: pareto_models_iter_3/e93feda07c620ff5cd6abff6734ce757580f75f5.json to mnist_test_run\\pareto_models_iter_3/e93feda07c620ff5cd6abff6734ce757580f75f5.json ...\n",
      "### Error downloading to local file: [Errno 2] No such file or directory: 'mnist_test_run\\\\pareto_models_iter_3/e93feda07c620ff5cd6abff6734ce757580f75f5.json'\n",
      "Downloading file: pareto_models_iter_3/f14bb2c31d7e54f794c2d139be87de7a79996c9b.json to mnist_test_run\\pareto_models_iter_3/f14bb2c31d7e54f794c2d139be87de7a79996c9b.json ...\n",
      "### Error downloading to local file: [Errno 2] No such file or directory: 'mnist_test_run\\\\pareto_models_iter_3/f14bb2c31d7e54f794c2d139be87de7a79996c9b.json'\n",
      "Downloading file: pareto_models_iter_4 to mnist_test_run\\pareto_models_iter_4 ...\n",
      "Downloading file: pareto_models_iter_4/210e69e2747f166859b1f50833b84eefc24c8f81.json to mnist_test_run\\pareto_models_iter_4/210e69e2747f166859b1f50833b84eefc24c8f81.json ...\n",
      "### Error downloading to local file: [Errno 2] No such file or directory: 'mnist_test_run\\\\pareto_models_iter_4/210e69e2747f166859b1f50833b84eefc24c8f81.json'\n",
      "Downloading file: pareto_models_iter_4/2cd19afd5bfd5d023454471fc9bf2dcd4ab37c8f.json to mnist_test_run\\pareto_models_iter_4/2cd19afd5bfd5d023454471fc9bf2dcd4ab37c8f.json ...\n",
      "### Error downloading to local file: [Errno 2] No such file or directory: 'mnist_test_run\\\\pareto_models_iter_4/2cd19afd5bfd5d023454471fc9bf2dcd4ab37c8f.json'\n",
      "Downloading file: pareto_models_iter_4/2ef83f40a2c0a2cb0f044852e1f48bd9930a9bd6.json to mnist_test_run\\pareto_models_iter_4/2ef83f40a2c0a2cb0f044852e1f48bd9930a9bd6.json ...\n",
      "### Error downloading to local file: [Errno 2] No such file or directory: 'mnist_test_run\\\\pareto_models_iter_4/2ef83f40a2c0a2cb0f044852e1f48bd9930a9bd6.json'\n",
      "Downloading file: pareto_models_iter_4/30e6c4ed7cc065c09bdcc0d68774b15d565db56c.json to mnist_test_run\\pareto_models_iter_4/30e6c4ed7cc065c09bdcc0d68774b15d565db56c.json ...\n",
      "### Error downloading to local file: [Errno 2] No such file or directory: 'mnist_test_run\\\\pareto_models_iter_4/30e6c4ed7cc065c09bdcc0d68774b15d565db56c.json'\n",
      "Downloading file: pareto_models_iter_4/3a07ce71ad63d5820dea60056adb1ae4951c41fd.json to mnist_test_run\\pareto_models_iter_4/3a07ce71ad63d5820dea60056adb1ae4951c41fd.json ...\n",
      "### Error downloading to local file: [Errno 2] No such file or directory: 'mnist_test_run\\\\pareto_models_iter_4/3a07ce71ad63d5820dea60056adb1ae4951c41fd.json'\n",
      "Downloading file: pareto_models_iter_4/42076d5008a44f65c8abac537aa8adf85dcb0a55.json to mnist_test_run\\pareto_models_iter_4/42076d5008a44f65c8abac537aa8adf85dcb0a55.json ...\n",
      "### Error downloading to local file: [Errno 2] No such file or directory: 'mnist_test_run\\\\pareto_models_iter_4/42076d5008a44f65c8abac537aa8adf85dcb0a55.json'\n",
      "Downloading file: pareto_models_iter_4/5c3002d79e7dd5c3e2e96df26be4be2631e4f5b3.json to mnist_test_run\\pareto_models_iter_4/5c3002d79e7dd5c3e2e96df26be4be2631e4f5b3.json ...\n",
      "### Error downloading to local file: [Errno 2] No such file or directory: 'mnist_test_run\\\\pareto_models_iter_4/5c3002d79e7dd5c3e2e96df26be4be2631e4f5b3.json'\n",
      "Downloading file: pareto_models_iter_4/5d3ab570fb0955bf587eddb16cc2bc7501f835f2.json to mnist_test_run\\pareto_models_iter_4/5d3ab570fb0955bf587eddb16cc2bc7501f835f2.json ...\n",
      "### Error downloading to local file: [Errno 2] No such file or directory: 'mnist_test_run\\\\pareto_models_iter_4/5d3ab570fb0955bf587eddb16cc2bc7501f835f2.json'\n",
      "Downloading file: pareto_models_iter_4/779cd3ec879d82b492104d258f039a63483a7e2f.json to mnist_test_run\\pareto_models_iter_4/779cd3ec879d82b492104d258f039a63483a7e2f.json ...\n",
      "### Error downloading to local file: [Errno 2] No such file or directory: 'mnist_test_run\\\\pareto_models_iter_4/779cd3ec879d82b492104d258f039a63483a7e2f.json'\n",
      "Downloading file: pareto_models_iter_4/781f6db586b52471d12e036a1f1134cea4b40ec9.json to mnist_test_run\\pareto_models_iter_4/781f6db586b52471d12e036a1f1134cea4b40ec9.json ...\n",
      "### Error downloading to local file: [Errno 2] No such file or directory: 'mnist_test_run\\\\pareto_models_iter_4/781f6db586b52471d12e036a1f1134cea4b40ec9.json'\n",
      "Downloading file: pareto_models_iter_4/789c829710e398de35ff9c1f2115ebefe098e256.json to mnist_test_run\\pareto_models_iter_4/789c829710e398de35ff9c1f2115ebefe098e256.json ...\n",
      "### Error downloading to local file: [Errno 2] No such file or directory: 'mnist_test_run\\\\pareto_models_iter_4/789c829710e398de35ff9c1f2115ebefe098e256.json'\n",
      "Downloading file: pareto_models_iter_4/8e102049a7ee79dcdc1bf8834aef414ac3709a41.json to mnist_test_run\\pareto_models_iter_4/8e102049a7ee79dcdc1bf8834aef414ac3709a41.json ...\n",
      "### Error downloading to local file: [Errno 2] No such file or directory: 'mnist_test_run\\\\pareto_models_iter_4/8e102049a7ee79dcdc1bf8834aef414ac3709a41.json'\n",
      "Downloading file: pareto_models_iter_4/90bf06f1efa42fe0e0f311bc92e49a876066bd93.json to mnist_test_run\\pareto_models_iter_4/90bf06f1efa42fe0e0f311bc92e49a876066bd93.json ...\n",
      "### Error downloading to local file: [Errno 2] No such file or directory: 'mnist_test_run\\\\pareto_models_iter_4/90bf06f1efa42fe0e0f311bc92e49a876066bd93.json'\n",
      "Downloading file: pareto_models_iter_4/9d53f0479e4fb954fbd9d8105bba31c3849dcaaf.json to mnist_test_run\\pareto_models_iter_4/9d53f0479e4fb954fbd9d8105bba31c3849dcaaf.json ...\n",
      "### Error downloading to local file: [Errno 2] No such file or directory: 'mnist_test_run\\\\pareto_models_iter_4/9d53f0479e4fb954fbd9d8105bba31c3849dcaaf.json'\n",
      "Downloading file: pareto_models_iter_4/9f105dbd738e1c449ccbc60f38ba59208e296e34.json to mnist_test_run\\pareto_models_iter_4/9f105dbd738e1c449ccbc60f38ba59208e296e34.json ...\n",
      "### Error downloading to local file: [Errno 2] No such file or directory: 'mnist_test_run\\\\pareto_models_iter_4/9f105dbd738e1c449ccbc60f38ba59208e296e34.json'\n",
      "Downloading file: pareto_models_iter_4/a938fdf4ccd1af64da359b356a764d0a10536602.json to mnist_test_run\\pareto_models_iter_4/a938fdf4ccd1af64da359b356a764d0a10536602.json ...\n",
      "### Error downloading to local file: [Errno 2] No such file or directory: 'mnist_test_run\\\\pareto_models_iter_4/a938fdf4ccd1af64da359b356a764d0a10536602.json'\n",
      "Downloading file: pareto_models_iter_4/a997af4e3f091e6c6714f475a5873a655ef1614e.json to mnist_test_run\\pareto_models_iter_4/a997af4e3f091e6c6714f475a5873a655ef1614e.json ...\n",
      "### Error downloading to local file: [Errno 2] No such file or directory: 'mnist_test_run\\\\pareto_models_iter_4/a997af4e3f091e6c6714f475a5873a655ef1614e.json'\n",
      "Downloading file: pareto_models_iter_4/acbe4f76a7aaf7444125b7f7c81ac9eb2054868b.json to mnist_test_run\\pareto_models_iter_4/acbe4f76a7aaf7444125b7f7c81ac9eb2054868b.json ...\n",
      "### Error downloading to local file: [Errno 2] No such file or directory: 'mnist_test_run\\\\pareto_models_iter_4/acbe4f76a7aaf7444125b7f7c81ac9eb2054868b.json'\n",
      "Downloading file: pareto_models_iter_4/be7841a9c073b73f16f5ec65b6fa03f546a6d936.json to mnist_test_run\\pareto_models_iter_4/be7841a9c073b73f16f5ec65b6fa03f546a6d936.json ...\n",
      "### Error downloading to local file: [Errno 2] No such file or directory: 'mnist_test_run\\\\pareto_models_iter_4/be7841a9c073b73f16f5ec65b6fa03f546a6d936.json'\n",
      "Downloading file: pareto_models_iter_4/cb1fda9f59b2496fefae0cc10d78f2ec958be75a.json to mnist_test_run\\pareto_models_iter_4/cb1fda9f59b2496fefae0cc10d78f2ec958be75a.json ...\n",
      "### Error downloading to local file: [Errno 2] No such file or directory: 'mnist_test_run\\\\pareto_models_iter_4/cb1fda9f59b2496fefae0cc10d78f2ec958be75a.json'\n",
      "Downloading file: pareto_models_iter_4/d62d2ddd5af77537a26ca9d1e8b924a79029db06.json to mnist_test_run\\pareto_models_iter_4/d62d2ddd5af77537a26ca9d1e8b924a79029db06.json ...\n",
      "### Error downloading to local file: [Errno 2] No such file or directory: 'mnist_test_run\\\\pareto_models_iter_4/d62d2ddd5af77537a26ca9d1e8b924a79029db06.json'\n",
      "Downloading file: pareto_models_iter_4/e93feda07c620ff5cd6abff6734ce757580f75f5.json to mnist_test_run\\pareto_models_iter_4/e93feda07c620ff5cd6abff6734ce757580f75f5.json ...\n",
      "### Error downloading to local file: [Errno 2] No such file or directory: 'mnist_test_run\\\\pareto_models_iter_4/e93feda07c620ff5cd6abff6734ce757580f75f5.json'\n",
      "Downloading file: pareto_models_iter_4/f14bb2c31d7e54f794c2d139be87de7a79996c9b.json to mnist_test_run\\pareto_models_iter_4/f14bb2c31d7e54f794c2d139be87de7a79996c9b.json ...\n",
      "### Error downloading to local file: [Errno 2] No such file or directory: 'mnist_test_run\\\\pareto_models_iter_4/f14bb2c31d7e54f794c2d139be87de7a79996c9b.json'\n",
      "Downloading file: pareto_models_iter_5 to mnist_test_run\\pareto_models_iter_5 ...\n",
      "Downloading file: pareto_models_iter_5/210e69e2747f166859b1f50833b84eefc24c8f81.json to mnist_test_run\\pareto_models_iter_5/210e69e2747f166859b1f50833b84eefc24c8f81.json ...\n",
      "### Error downloading to local file: [Errno 2] No such file or directory: 'mnist_test_run\\\\pareto_models_iter_5/210e69e2747f166859b1f50833b84eefc24c8f81.json'\n",
      "Downloading file: pareto_models_iter_5/2641726b76b7908a0f9c629177dac01c43875d3e.json to mnist_test_run\\pareto_models_iter_5/2641726b76b7908a0f9c629177dac01c43875d3e.json ...\n",
      "### Error downloading to local file: [Errno 2] No such file or directory: 'mnist_test_run\\\\pareto_models_iter_5/2641726b76b7908a0f9c629177dac01c43875d3e.json'\n",
      "Downloading file: pareto_models_iter_5/2cd19afd5bfd5d023454471fc9bf2dcd4ab37c8f.json to mnist_test_run\\pareto_models_iter_5/2cd19afd5bfd5d023454471fc9bf2dcd4ab37c8f.json ...\n",
      "### Error downloading to local file: [Errno 2] No such file or directory: 'mnist_test_run\\\\pareto_models_iter_5/2cd19afd5bfd5d023454471fc9bf2dcd4ab37c8f.json'\n",
      "Downloading file: pareto_models_iter_5/2ef83f40a2c0a2cb0f044852e1f48bd9930a9bd6.json to mnist_test_run\\pareto_models_iter_5/2ef83f40a2c0a2cb0f044852e1f48bd9930a9bd6.json ...\n",
      "### Error downloading to local file: [Errno 2] No such file or directory: 'mnist_test_run\\\\pareto_models_iter_5/2ef83f40a2c0a2cb0f044852e1f48bd9930a9bd6.json'\n",
      "Downloading file: pareto_models_iter_5/30e6c4ed7cc065c09bdcc0d68774b15d565db56c.json to mnist_test_run\\pareto_models_iter_5/30e6c4ed7cc065c09bdcc0d68774b15d565db56c.json ...\n",
      "### Error downloading to local file: [Errno 2] No such file or directory: 'mnist_test_run\\\\pareto_models_iter_5/30e6c4ed7cc065c09bdcc0d68774b15d565db56c.json'\n",
      "Downloading file: pareto_models_iter_5/38ff94d7d8aaae60f8ed8022f551aa536506366a.json to mnist_test_run\\pareto_models_iter_5/38ff94d7d8aaae60f8ed8022f551aa536506366a.json ...\n",
      "### Error downloading to local file: [Errno 2] No such file or directory: 'mnist_test_run\\\\pareto_models_iter_5/38ff94d7d8aaae60f8ed8022f551aa536506366a.json'\n",
      "Downloading file: pareto_models_iter_5/3a07ce71ad63d5820dea60056adb1ae4951c41fd.json to mnist_test_run\\pareto_models_iter_5/3a07ce71ad63d5820dea60056adb1ae4951c41fd.json ...\n",
      "### Error downloading to local file: [Errno 2] No such file or directory: 'mnist_test_run\\\\pareto_models_iter_5/3a07ce71ad63d5820dea60056adb1ae4951c41fd.json'\n",
      "Downloading file: pareto_models_iter_5/42076d5008a44f65c8abac537aa8adf85dcb0a55.json to mnist_test_run\\pareto_models_iter_5/42076d5008a44f65c8abac537aa8adf85dcb0a55.json ...\n",
      "### Error downloading to local file: [Errno 2] No such file or directory: 'mnist_test_run\\\\pareto_models_iter_5/42076d5008a44f65c8abac537aa8adf85dcb0a55.json'\n",
      "Downloading file: pareto_models_iter_5/5c3002d79e7dd5c3e2e96df26be4be2631e4f5b3.json to mnist_test_run\\pareto_models_iter_5/5c3002d79e7dd5c3e2e96df26be4be2631e4f5b3.json ...\n",
      "### Error downloading to local file: [Errno 2] No such file or directory: 'mnist_test_run\\\\pareto_models_iter_5/5c3002d79e7dd5c3e2e96df26be4be2631e4f5b3.json'\n",
      "Downloading file: pareto_models_iter_5/5d3ab570fb0955bf587eddb16cc2bc7501f835f2.json to mnist_test_run\\pareto_models_iter_5/5d3ab570fb0955bf587eddb16cc2bc7501f835f2.json ...\n",
      "### Error downloading to local file: [Errno 2] No such file or directory: 'mnist_test_run\\\\pareto_models_iter_5/5d3ab570fb0955bf587eddb16cc2bc7501f835f2.json'\n",
      "Downloading file: pareto_models_iter_5/779cd3ec879d82b492104d258f039a63483a7e2f.json to mnist_test_run\\pareto_models_iter_5/779cd3ec879d82b492104d258f039a63483a7e2f.json ...\n",
      "### Error downloading to local file: [Errno 2] No such file or directory: 'mnist_test_run\\\\pareto_models_iter_5/779cd3ec879d82b492104d258f039a63483a7e2f.json'\n",
      "Downloading file: pareto_models_iter_5/781f6db586b52471d12e036a1f1134cea4b40ec9.json to mnist_test_run\\pareto_models_iter_5/781f6db586b52471d12e036a1f1134cea4b40ec9.json ...\n",
      "### Error downloading to local file: [Errno 2] No such file or directory: 'mnist_test_run\\\\pareto_models_iter_5/781f6db586b52471d12e036a1f1134cea4b40ec9.json'\n",
      "Downloading file: pareto_models_iter_5/789c829710e398de35ff9c1f2115ebefe098e256.json to mnist_test_run\\pareto_models_iter_5/789c829710e398de35ff9c1f2115ebefe098e256.json ...\n",
      "### Error downloading to local file: [Errno 2] No such file or directory: 'mnist_test_run\\\\pareto_models_iter_5/789c829710e398de35ff9c1f2115ebefe098e256.json'\n",
      "Downloading file: pareto_models_iter_5/8e102049a7ee79dcdc1bf8834aef414ac3709a41.json to mnist_test_run\\pareto_models_iter_5/8e102049a7ee79dcdc1bf8834aef414ac3709a41.json ...\n",
      "### Error downloading to local file: [Errno 2] No such file or directory: 'mnist_test_run\\\\pareto_models_iter_5/8e102049a7ee79dcdc1bf8834aef414ac3709a41.json'\n",
      "Downloading file: pareto_models_iter_5/90bf06f1efa42fe0e0f311bc92e49a876066bd93.json to mnist_test_run\\pareto_models_iter_5/90bf06f1efa42fe0e0f311bc92e49a876066bd93.json ...\n",
      "### Error downloading to local file: [Errno 2] No such file or directory: 'mnist_test_run\\\\pareto_models_iter_5/90bf06f1efa42fe0e0f311bc92e49a876066bd93.json'\n",
      "Downloading file: pareto_models_iter_5/9d53f0479e4fb954fbd9d8105bba31c3849dcaaf.json to mnist_test_run\\pareto_models_iter_5/9d53f0479e4fb954fbd9d8105bba31c3849dcaaf.json ...\n",
      "### Error downloading to local file: [Errno 2] No such file or directory: 'mnist_test_run\\\\pareto_models_iter_5/9d53f0479e4fb954fbd9d8105bba31c3849dcaaf.json'\n",
      "Downloading file: pareto_models_iter_5/9f105dbd738e1c449ccbc60f38ba59208e296e34.json to mnist_test_run\\pareto_models_iter_5/9f105dbd738e1c449ccbc60f38ba59208e296e34.json ...\n",
      "### Error downloading to local file: [Errno 2] No such file or directory: 'mnist_test_run\\\\pareto_models_iter_5/9f105dbd738e1c449ccbc60f38ba59208e296e34.json'\n",
      "Downloading file: pareto_models_iter_5/a938fdf4ccd1af64da359b356a764d0a10536602.json to mnist_test_run\\pareto_models_iter_5/a938fdf4ccd1af64da359b356a764d0a10536602.json ...\n",
      "### Error downloading to local file: [Errno 2] No such file or directory: 'mnist_test_run\\\\pareto_models_iter_5/a938fdf4ccd1af64da359b356a764d0a10536602.json'\n",
      "Downloading file: pareto_models_iter_5/a997af4e3f091e6c6714f475a5873a655ef1614e.json to mnist_test_run\\pareto_models_iter_5/a997af4e3f091e6c6714f475a5873a655ef1614e.json ...\n",
      "### Error downloading to local file: [Errno 2] No such file or directory: 'mnist_test_run\\\\pareto_models_iter_5/a997af4e3f091e6c6714f475a5873a655ef1614e.json'\n",
      "Downloading file: pareto_models_iter_5/ab6bde48d77e42f2559ac070e36904ae6b1c0f2b.json to mnist_test_run\\pareto_models_iter_5/ab6bde48d77e42f2559ac070e36904ae6b1c0f2b.json ...\n",
      "### Error downloading to local file: [Errno 2] No such file or directory: 'mnist_test_run\\\\pareto_models_iter_5/ab6bde48d77e42f2559ac070e36904ae6b1c0f2b.json'\n",
      "Downloading file: pareto_models_iter_5/acbe4f76a7aaf7444125b7f7c81ac9eb2054868b.json to mnist_test_run\\pareto_models_iter_5/acbe4f76a7aaf7444125b7f7c81ac9eb2054868b.json ...\n",
      "### Error downloading to local file: [Errno 2] No such file or directory: 'mnist_test_run\\\\pareto_models_iter_5/acbe4f76a7aaf7444125b7f7c81ac9eb2054868b.json'\n",
      "Downloading file: pareto_models_iter_5/be7841a9c073b73f16f5ec65b6fa03f546a6d936.json to mnist_test_run\\pareto_models_iter_5/be7841a9c073b73f16f5ec65b6fa03f546a6d936.json ...\n",
      "### Error downloading to local file: [Errno 2] No such file or directory: 'mnist_test_run\\\\pareto_models_iter_5/be7841a9c073b73f16f5ec65b6fa03f546a6d936.json'\n",
      "Downloading file: pareto_models_iter_5/c11b3549c49c1c58af2d6b7e2ed8e4f929ba4123.json to mnist_test_run\\pareto_models_iter_5/c11b3549c49c1c58af2d6b7e2ed8e4f929ba4123.json ...\n",
      "### Error downloading to local file: [Errno 2] No such file or directory: 'mnist_test_run\\\\pareto_models_iter_5/c11b3549c49c1c58af2d6b7e2ed8e4f929ba4123.json'\n",
      "Downloading file: pareto_models_iter_5/cb1fda9f59b2496fefae0cc10d78f2ec958be75a.json to mnist_test_run\\pareto_models_iter_5/cb1fda9f59b2496fefae0cc10d78f2ec958be75a.json ...\n",
      "### Error downloading to local file: [Errno 2] No such file or directory: 'mnist_test_run\\\\pareto_models_iter_5/cb1fda9f59b2496fefae0cc10d78f2ec958be75a.json'\n",
      "Downloading file: pareto_models_iter_5/d62d2ddd5af77537a26ca9d1e8b924a79029db06.json to mnist_test_run\\pareto_models_iter_5/d62d2ddd5af77537a26ca9d1e8b924a79029db06.json ...\n",
      "### Error downloading to local file: [Errno 2] No such file or directory: 'mnist_test_run\\\\pareto_models_iter_5/d62d2ddd5af77537a26ca9d1e8b924a79029db06.json'\n",
      "Downloading file: pareto_models_iter_5/e0c26f1fa6f1e51822d0f496e899d9c415050dc9.json to mnist_test_run\\pareto_models_iter_5/e0c26f1fa6f1e51822d0f496e899d9c415050dc9.json ...\n",
      "### Error downloading to local file: [Errno 2] No such file or directory: 'mnist_test_run\\\\pareto_models_iter_5/e0c26f1fa6f1e51822d0f496e899d9c415050dc9.json'\n",
      "Downloading file: pareto_models_iter_5/e93feda07c620ff5cd6abff6734ce757580f75f5.json to mnist_test_run\\pareto_models_iter_5/e93feda07c620ff5cd6abff6734ce757580f75f5.json ...\n",
      "### Error downloading to local file: [Errno 2] No such file or directory: 'mnist_test_run\\\\pareto_models_iter_5/e93feda07c620ff5cd6abff6734ce757580f75f5.json'\n",
      "Downloading file: pareto_models_iter_5/f14bb2c31d7e54f794c2d139be87de7a79996c9b.json to mnist_test_run\\pareto_models_iter_5/f14bb2c31d7e54f794c2d139be87de7a79996c9b.json ...\n",
      "### Error downloading to local file: [Errno 2] No such file or directory: 'mnist_test_run\\\\pareto_models_iter_5/f14bb2c31d7e54f794c2d139be87de7a79996c9b.json'\n",
      "Downloading file: search_state_1.csv to mnist_test_run\\search_state_1.csv ...\n",
      "Downloading file: search_state_2.csv to mnist_test_run\\search_state_2.csv ...\n",
      "Downloading file: search_state_3.csv to mnist_test_run\\search_state_3.csv ...\n",
      "Downloading file: search_state_4.csv to mnist_test_run\\search_state_4.csv ...\n",
      "Downloading file: search_state_5.csv to mnist_test_run\\search_state_5.csv ...\n",
      "Downloading file: top_models.json to mnist_test_run\\top_models.json ...\n"
     ]
    },
    {
     "data": {
      "image/png": "[encoded data removed]",
      "text/plain": [
       "<IPython.core.display.Image object>"
      ]
     },
     "metadata": {},
     "output_type": "display_data"
    },
    {
     "data": {
      "image/png": "[encoded data removed]",
      "text/plain": [
       "<IPython.core.display.Image object>"
      ]
     },
     "metadata": {},
     "output_type": "display_data"
    },
    {
     "data": {
      "image/png": "[encoded data removed]",
      "text/plain": [
       "<IPython.core.display.Image object>"
      ]
     },
     "metadata": {},
     "output_type": "display_data"
    }
   ],
   "source": [
    "from results import get_results, show_results, download_best_models\n",
    "from store import ArchaiStore\n",
    "store = ArchaiStore(storage_account_name, storage_account_key, blob_container_name=model_container_name)\n",
    "\n",
    "print(f'Fetching results for {experiment_name}...')\n",
    "blob_path = root_folder + '/' + experiment_name\n",
    "output_folder = experiment_name\n",
    "\n",
    "get_results(store, blob_path, output_folder)\n",
    "show_results(output_folder)\n",
    "download_best_models(store, experiment_name, output_folder)\n",
    "    "
   ]
  },
  {
   "attachments": {},
   "cell_type": "markdown",
   "metadata": {},
   "source": [
    "## Test ONNX Runtime Inference on the Best Model\n",
    "\n",
    "When the search pipeline completes you should have a `top_models.json` file in the experiment_name output folder and you can use that to find the most accurate model and run it through the ONNX runtime to see if the ONNX inference gets the same accuracy."
   ]
  },
  {
   "cell_type": "code",
   "execution_count": 20,
   "metadata": {},
   "outputs": [
    {
     "name": "stdout",
     "output_type": "stream",
     "text": [
      "The top model is id_cede8c68_6268_4fc5_bb65_f557b051800e with accuracy 0.9957 and architecture nb_layers=7, kernel_size=7, hidden_dim=32\n",
      "Downloading file: model.onnx to mnist_test_run\\top_model\\model.onnx ...\n",
      "Downloading file: results.json to mnist_test_run\\top_model\\results.json ...\n"
     ]
    }
   ],
   "source": [
    "# find the top model in the json results.\n",
    "filename = os.path.join(output_folder, \"top_models.json\")\n",
    "best_of_the_best = None\n",
    "top_accuracy = 0\n",
    "row = None\n",
    "if not os.path.isfile(filename):\n",
    "    raise Exception(f\"Could not find {filename} file. Please wait for job to finish.\")\n",
    "\n",
    "results = json.load(open(filename, \"r\"))\n",
    "models = results['top_models']\n",
    "for a in models:\n",
    "    if type(a) is dict and 'val_acc' in a:\n",
    "        val_acc = a['val_acc']\n",
    "        if val_acc > top_accuracy:\n",
    "            top_accuracy = val_acc\n",
    "            best_of_the_best = a['job_id']\n",
    "            row = a\n",
    "\n",
    "arch = f\"nb_layers={row['nb_layers']}, kernel_size={row['kernel_size']}, hidden_dim={row['hidden_dim']}\"\n",
    "print(f\"The top model is {best_of_the_best} with accuracy {top_accuracy} and architecture {arch}\")\n",
    "\n",
    "blob_path = root_folder + '/' + best_of_the_best\n",
    "model_output = os.path.join(output_folder, 'top_model')\n",
    "get_results(store, blob_path, model_output)\n",
    "\n",
    "model_path = os.path.join(model_output, 'model.onnx')\n"
   ]
  },
  {
   "cell_type": "code",
   "execution_count": 21,
   "metadata": {},
   "outputs": [
    {
     "name": "stdout",
     "output_type": "stream",
     "text": [
      "Downloading http://yann.lecun.com/exdb/mnist/train-images-idx3-ubyte.gz\n",
      "Downloading http://yann.lecun.com/exdb/mnist/train-images-idx3-ubyte.gz to dataroot\\MNIST\\raw\\train-images-idx3-ubyte.gz\n"
     ]
    },
    {
     "data": {
      "application/vnd.jupyter.widget-view+json": {
       "model_id": "3bf7c5ee0f2e4f93a876e800cd91d472",
       "version_major": 2,
       "version_minor": 0
      },
      "text/plain": [
       "  0%|          | 0/9912422 [00:00<?, ?it/s]"
      ]
     },
     "metadata": {},
     "output_type": "display_data"
    },
    {
     "name": "stdout",
     "output_type": "stream",
     "text": [
      "Extracting dataroot\\MNIST\\raw\\train-images-idx3-ubyte.gz to dataroot\\MNIST\\raw\n",
      "\n",
      "Downloading http://yann.lecun.com/exdb/mnist/train-labels-idx1-ubyte.gz\n",
      "Downloading http://yann.lecun.com/exdb/mnist/train-labels-idx1-ubyte.gz to dataroot\\MNIST\\raw\\train-labels-idx1-ubyte.gz\n"
     ]
    },
    {
     "data": {
      "application/vnd.jupyter.widget-view+json": {
       "model_id": "67685a6e0ade4d698386fbef7be9fb9d",
       "version_major": 2,
       "version_minor": 0
      },
      "text/plain": [
       "  0%|          | 0/28881 [00:00<?, ?it/s]"
      ]
     },
     "metadata": {},
     "output_type": "display_data"
    },
    {
     "name": "stdout",
     "output_type": "stream",
     "text": [
      "Extracting dataroot\\MNIST\\raw\\train-labels-idx1-ubyte.gz to dataroot\\MNIST\\raw\n",
      "\n",
      "Downloading http://yann.lecun.com/exdb/mnist/t10k-images-idx3-ubyte.gz\n",
      "Downloading http://yann.lecun.com/exdb/mnist/t10k-images-idx3-ubyte.gz to dataroot\\MNIST\\raw\\t10k-images-idx3-ubyte.gz\n"
     ]
    },
    {
     "data": {
      "application/vnd.jupyter.widget-view+json": {
       "model_id": "573c187316104ce5b3a3c73dab122770",
       "version_major": 2,
       "version_minor": 0
      },
      "text/plain": [
       "  0%|          | 0/1648877 [00:00<?, ?it/s]"
      ]
     },
     "metadata": {},
     "output_type": "display_data"
    },
    {
     "name": "stdout",
     "output_type": "stream",
     "text": [
      "Extracting dataroot\\MNIST\\raw\\t10k-images-idx3-ubyte.gz to dataroot\\MNIST\\raw\n",
      "\n",
      "Downloading http://yann.lecun.com/exdb/mnist/t10k-labels-idx1-ubyte.gz\n",
      "Downloading http://yann.lecun.com/exdb/mnist/t10k-labels-idx1-ubyte.gz to dataroot\\MNIST\\raw\\t10k-labels-idx1-ubyte.gz\n"
     ]
    },
    {
     "data": {
      "application/vnd.jupyter.widget-view+json": {
       "model_id": "2ef6bd55111d4ef3896497fec2f5f19c",
       "version_major": 2,
       "version_minor": 0
      },
      "text/plain": [
       "  0%|          | 0/4542 [00:00<?, ?it/s]"
      ]
     },
     "metadata": {},
     "output_type": "display_data"
    },
    {
     "name": "stdout",
     "output_type": "stream",
     "text": [
      "Extracting dataroot\\MNIST\\raw\\t10k-labels-idx1-ubyte.gz to dataroot\\MNIST\\raw\n",
      "\n",
      "data has shape: torch.Size([28, 28])\n"
     ]
    },
    {
     "data": {
      "image/png": "[encoded data removed]",
      "text/plain": [
       "<Figure size 200x200 with 1 Axes>"
      ]
     },
     "metadata": {},
     "output_type": "display_data"
    },
    {
     "name": "stdout",
     "output_type": "stream",
     "text": [
      "input: input, [1, 1, 28, 28], tensor(float)\n",
      "Testing 10000 rows\n"
     ]
    },
    {
     "name": "stderr",
     "output_type": "stream",
     "text": [
      "c:\\anaconda3\\envs\\archai\\lib\\site-packages\\torchvision\\datasets\\mnist.py:65: UserWarning: train_labels has been renamed targets\n",
      "  warnings.warn(\"train_labels has been renamed targets\")\n"
     ]
    },
    {
     "name": "stdout",
     "output_type": "stream",
     "text": [
      "Failed 43 out of 10000 rows\n",
      "Inference pass rate is  99.57 %.\n",
      "How does this compare with the training validation accuracy of 0.9957\n",
      "Success! The model is working as expected.\n"
     ]
    }
   ],
   "source": [
    "# Great, now let's test if this model works as advertised.\n",
    "from archai.datasets.cv.mnist_dataset_provider import MnistDatasetProvider\n",
    "import onnxruntime as ort\n",
    "import numpy as np\n",
    "\n",
    "dataset_provider = MnistDatasetProvider()\n",
    "val_data = dataset_provider.get_val_dataset()\n",
    "count = val_data.data.shape[0]\n",
    "test = np.random.choice(count, 1)[0]\n",
    "data = val_data.data[test]\n",
    "\n",
    "import matplotlib.pyplot as plt\n",
    "\n",
    "# check what the images look like.\n",
    "plt.figure(figsize=(2,2))\n",
    "plt.imshow(data, cmap='gray')\n",
    "print(f'data has shape: {data.shape}')\n",
    "plt.axis('off')\n",
    "plt.show()\n",
    "\n",
    "# Now run the ONNX runtime on this the validation set.\n",
    "# You can change this to `CUDAExecutionProvider` if you have a GPU and have\n",
    "# installed the CUDA runtime.\n",
    "ort_sess = ort.InferenceSession(model_path, providers=['CPUExecutionProvider'])\n",
    "for i in ort_sess.get_inputs():\n",
    "    print(f'input: {i.name}, {i.shape}, {i.type}')\n",
    "    \n",
    "print(f'Testing {count} rows')\n",
    "failed = 0\n",
    "for i in range(val_data.data.shape[0]):\n",
    "    data = val_data.data[i]    \n",
    "    expected = int(val_data.train_labels[i])\n",
    "\n",
    "    while len(data.shape) < 4:\n",
    "        data = np.expand_dims(data, axis=0)\n",
    "    outputs = ort_sess.run(None, {'input': data.astype(np.float32) / 255.0})\n",
    "    result = outputs[0]\n",
    "    index = np.argmax(result)\n",
    "    label = val_data.classes[index]\n",
    "    if expected != index:\n",
    "        # print(f'### Failed: {expected} and got {label}')\n",
    "        failed += 1\n",
    "          \n",
    "rate = (count - failed) * 100 / count\n",
    "print(f\"Failed {failed} out of {count} rows\")\n",
    "print(f'Inference pass rate is  {rate} %.')\n",
    "print(f'How does this compare with the training validation accuracy of {top_accuracy}')\n",
    "if np.isclose(rate, top_accuracy* 100, atol=0.1):\n",
    "    print('Success! The model is working as expected.')\n",
    "else:\n",
    "    print('The onnx runtime is giving different results.')\n"
   ]
  },
  {
   "cell_type": "code",
   "execution_count": null,
   "metadata": {},
   "outputs": [],
   "source": []
  }
 ],
 "metadata": {
  "kernelspec": {
   "display_name": "archai",
   "language": "python",
   "name": "python3"
  },
  "language_info": {
   "codemirror_mode": {
    "name": "ipython",
    "version": 3
   },
   "file_extension": ".py",
   "mimetype": "text/x-python",
   "name": "python",
   "nbconvert_exporter": "python",
   "pygments_lexer": "ipython3",
   "version": "3.10.9"
  },
  "orig_nbformat": 4,
  "vscode": {
   "interpreter": {
    "hash": "799abcba35f70097d02fca042963180a03ec3451fe1b7671ac5d22383cd0232c"
   }
  }
 },
 "nbformat": 4,
 "nbformat_minor": 2
}
