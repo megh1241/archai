{
 "cells": [
  {
   "cell_type": "code",
   "execution_count": 1,
   "metadata": {},
   "outputs": [
    {
     "name": "stdout",
     "output_type": "stream",
     "text": [
      "Using storage account: archaimnistmodels\n"
     ]
    }
   ],
   "source": [
    "# Connect to Azure Machine Learning Workspace \n",
    "import sys\n",
    "import os\n",
    "import json\n",
    "import archai.common.azureml_helper as aml_helper\n",
    "\n",
    "sys.path.append(os.path.realpath('scripts'))\n",
    "\n",
    "from cnn_search_space import CNNSearchSpace\n",
    "\n",
    "# make sure we have a scripts dir for the code to run our jobs.\n",
    "import os\n",
    "scripts_dir = \"./scripts\"\n",
    "os.makedirs(scripts_dir, exist_ok=True)\n",
    "\n",
    "config_file = \"../.azureml/config.json\"\n",
    "config = json.load(open(config_file, 'r'))\n",
    "\n",
    "for required_key in ['subscription_id', 'resource_group', 'workspace_name', 'storage_account_key', 'storage_account_name']:\n",
    "    if not required_key in config:\n",
    "        print(f\"### Error: please add a {required_key} to {config_file}\")\n",
    "\n",
    "storage_account_key = config['storage_account_key']    \n",
    "storage_account_name = config['storage_account_name']\n",
    "\n",
    "print(f'Using storage account: {storage_account_name}')"
   ]
  },
  {
   "cell_type": "code",
   "execution_count": 2,
   "metadata": {},
   "outputs": [
    {
     "name": "stderr",
     "output_type": "stream",
     "text": [
      "Found the config file in: ..\\.azureml\\config.json\n"
     ]
    }
   ],
   "source": [
    "# Get a handle to the workspace\n",
    "ml_client = aml_helper.get_aml_client_from_file(config_path=config_file)"
   ]
  },
  {
   "cell_type": "code",
   "execution_count": 3,
   "metadata": {},
   "outputs": [
    {
     "name": "stdout",
     "output_type": "stream",
     "text": [
      "You already have a cluster named nas-cpu-cluster-D14-v2, we'll reuse it as is.\n",
      "You already have a cluster named nas-gpu-cluster-NC6, we'll reuse it as is.\n"
     ]
    }
   ],
   "source": [
    "# Create cpu cluster for running the search\n",
    "cpu_compute_name = \"nas-cpu-cluster-D14-v2\"\n",
    "aml_helper.create_compute_cluster(ml_client, cpu_compute_name, size=\"Standard_D14_v2\", location=\"westus\")\n",
    "\n",
    "# Create gpu cluster for running the search\n",
    "gpu_compute_name = \"nas-gpu-cluster-NC6\"\n",
    "aml_helper.create_compute_cluster(ml_client, gpu_compute_name, size=\"Standard_NC6\", location=\"westus\")"
   ]
  },
  {
   "cell_type": "code",
   "execution_count": 4,
   "metadata": {},
   "outputs": [
    {
     "name": "stdout",
     "output_type": "stream",
     "text": [
      "Environment with name aml-archai is registered to workspace, the environment version is 0.1.3\n"
     ]
    }
   ],
   "source": [
    "archai_job_env = aml_helper.create_environment_from_file(ml_client, conda_file=\"conda.yaml\", version='0.1.3')"
   ]
  },
  {
   "cell_type": "code",
   "execution_count": 5,
   "metadata": {},
   "outputs": [
    {
     "data": {
      "text/plain": [
       "AzureBlobDatastore({'type': <DatastoreType.AZURE_BLOB: 'AzureBlob'>, 'name': 'models', 'description': 'Datastore pointing to our models blob container.', 'tags': {}, 'properties': {}, 'print_as_yaml': True, 'id': '/subscriptions/c8b7f913-60fb-4759-a310-fc5630e56f99/resourceGroups/snpe-aml-rg/providers/Microsoft.MachineLearningServices/workspaces/snpe-aml-workspace/datastores/models', 'Resource__source_path': None, 'base_path': 'd:\\\\git\\\\microsoft\\\\archai\\\\docs\\\\advanced_guide\\\\cloud\\\\notebooks\\\\distributed_search', 'creation_context': None, 'serialize': <msrest.serialization.Serializer object at 0x000001C92E0E1F60>, 'credentials': {'type': 'account_key'}, 'container_name': 'models', 'account_name': 'archaimnistmodels', 'endpoint': 'core.windows.net', 'protocol': 'https'})"
      ]
     },
     "execution_count": 5,
     "metadata": {},
     "output_type": "execute_result"
    }
   ],
   "source": [
    "from azure.ai.ml.entities import AzureBlobDatastore\n",
    "from azure.ai.ml.entities._credentials import AccountKeyConfiguration\n",
    "\n",
    "model_container_name = \"models\"\n",
    "# Create a blob store container for storing our NAS generated models in.\n",
    "blob_store = AzureBlobDatastore(\n",
    "    name=\"models\",\n",
    "    description=\"Datastore pointing to our models blob container.\",\n",
    "    account_name=storage_account_name,\n",
    "    container_name=model_container_name,\n",
    "    credentials=AccountKeyConfiguration(\n",
    "        account_key=storage_account_key\n",
    "    ),\n",
    ")\n",
    "\n",
    "ml_client.create_or_update(blob_store)"
   ]
  },
  {
   "cell_type": "code",
   "execution_count": 6,
   "metadata": {},
   "outputs": [
    {
     "data": {
      "text/plain": [
       "AzureBlobDatastore({'type': <DatastoreType.AZURE_BLOB: 'AzureBlob'>, 'name': 'datasets', 'description': 'Datastore pointing to our dataset container.', 'tags': {}, 'properties': {}, 'print_as_yaml': True, 'id': '/subscriptions/c8b7f913-60fb-4759-a310-fc5630e56f99/resourceGroups/snpe-aml-rg/providers/Microsoft.MachineLearningServices/workspaces/snpe-aml-workspace/datastores/datasets', 'Resource__source_path': None, 'base_path': 'd:\\\\git\\\\microsoft\\\\archai\\\\docs\\\\advanced_guide\\\\cloud\\\\notebooks\\\\distributed_search', 'creation_context': None, 'serialize': <msrest.serialization.Serializer object at 0x000001C92E4EBE20>, 'credentials': {'type': 'account_key'}, 'container_name': 'datasets', 'account_name': 'archaimnistmodels', 'endpoint': 'core.windows.net', 'protocol': 'https'})"
      ]
     },
     "execution_count": 6,
     "metadata": {},
     "output_type": "execute_result"
    }
   ],
   "source": [
    "# Register the datastore with AML\n",
    "data_store_name = \"datasets\"\n",
    "data_container_name = \"datasets\"\n",
    "\n",
    "data_store = AzureBlobDatastore(\n",
    "    name=data_store_name,\n",
    "    description=\"Datastore pointing to our dataset container.\",\n",
    "    account_name=storage_account_name,\n",
    "    container_name=data_container_name,\n",
    "    credentials=AccountKeyConfiguration(\n",
    "        account_key=storage_account_key\n",
    "    ),\n",
    ")\n",
    "\n",
    "ml_client.create_or_update(data_store)"
   ]
  },
  {
   "cell_type": "code",
   "execution_count": 7,
   "metadata": {},
   "outputs": [],
   "source": [
    "from store import ArchaiStore\n",
    "\n",
    "# make sure the datasets container exists\n",
    "store = ArchaiStore(storage_account_key, storage_account_name, blob_container_name=data_container_name)\n",
    "store.upload_blob(\"MNIST\", config_file)\n",
    "\n",
    "# make sure the models container exists\n",
    "store = ArchaiStore(storage_account_key, storage_account_name, blob_container_name=model_container_name)\n",
    "store.upload_blob(\"config\", config_file)\n",
    "\n",
    "datastore_path = f'azureml://datastores/{data_store_name}/paths/MNIST/'\n",
    "results_path = f'azureml://datastores/{model_container_name}/paths/MNIST/'"
   ]
  },
  {
   "cell_type": "code",
   "execution_count": 8,
   "metadata": {},
   "outputs": [],
   "source": [
    "from azure.ai.ml import command\n",
    "from azure.ai.ml import Input, Output\n",
    "\n",
    "\n",
    "data_prep_component = command(\n",
    "    name=\"data_prep2\",\n",
    "    display_name=\"Data preparation for training\",\n",
    "    description=\"Downloads the remote dataset to our blob store.\",\n",
    "    inputs= {\n",
    "        \"name\": Input(type='string')\n",
    "    },\n",
    "    outputs= {\n",
    "        \"data\": Output(type=\"uri_folder\", path=datastore_path, mode=\"rw_mount\")\n",
    "    },\n",
    "\n",
    "    # The source folder of the component\n",
    "    code=scripts_dir,\n",
    "    command=\"\"\"python3 prep_data_store.py \\\n",
    "            --path ${{outputs.data}} \\\n",
    "            \"\"\",\n",
    "    environment=f\"{archai_job_env.name}:{archai_job_env.version}\",\n",
    ")"
   ]
  },
  {
   "cell_type": "code",
   "execution_count": 13,
   "metadata": {},
   "outputs": [],
   "source": [
    "environment_name = f'{archai_job_env.name}:{archai_job_env.version}'\n",
    "hex_config = bytes(json.dumps(config), encoding='utf-8').hex()\n",
    "\n",
    "search_component = command(\n",
    "    name=\"search\",\n",
    "    display_name=\"The Archai NAS search\",\n",
    "    description=\"Runs the NAS search algorithm.\",    \n",
    "    inputs= {\n",
    "        \"data\": Input(type=\"uri_folder\")\n",
    "    },\n",
    "    outputs= {\n",
    "        \"results\": Output(type=\"uri_folder\", path=results_path, mode=\"rw_mount\")\n",
    "    },\n",
    "    code=scripts_dir,\n",
    "    command=\"\"\"python3 search.py\n",
    "            --data_dir ${{inputs.data}} \n",
    "            --output_dir ${{outputs.results}} \"\"\" + \\\n",
    "            f'--environment {environment_name} ' + \\\n",
    "            f'--compute {gpu_compute_name} ' + \\\n",
    "            f'--config {hex_config}',\n",
    "    environment=f\"{archai_job_env.name}:{archai_job_env.version}\",\n",
    ")"
   ]
  },
  {
   "cell_type": "code",
   "execution_count": 14,
   "metadata": {},
   "outputs": [
    {
     "data": {
      "text/plain": [
       "'python3 search.py\\n            --data_dir ${{inputs.data}} \\n            --output_dir ${{outputs.results}}--environment aml-archai:0.1.3--compute nas-gpu-cluster-NC6--config 7b22737562736372697074696f6e5f6964223a202263386237663931332d363066622d343735392d613331302d666335363330653536663939222c20227265736f757263655f67726f7570223a2022736e70652d616d6c2d7267222c2022776f726b73706163655f6e616d65223a2022736e70652d616d6c2d776f726b7370616365222c2022696f745f7265736f757263655f67726f7570223a2022736e70652d6465766963652d6875622d7267222c2022696f745f6875625f6e616d65223a20224d7372536e7065446576696365487562222c20226c6f636174696f6e223a202277657374757332222c202273746f726167655f6163636f756e745f6b6579223a202279485a4459454c3045774a65754c54517747395047713867564f6d78777031593836686e54367239735732666659535967686f4c496a694973712f4353454e45766471785a78546b713872482b4153747548445944773d3d222c202273746f726167655f6163636f756e745f6e616d65223a20226172636861696d6e6973746d6f64656c73227d'"
      ]
     },
     "execution_count": 14,
     "metadata": {},
     "output_type": "execute_result"
    }
   ],
   "source": [
    "search_component.command"
   ]
  },
  {
   "cell_type": "code",
   "execution_count": 11,
   "metadata": {},
   "outputs": [],
   "source": [
    "from azure.ai.ml import dsl, Input, Output\n",
    "\n",
    "@dsl.pipeline(\n",
    "    compute=cpu_compute_name,\n",
    "    description=\"Data prep pipeline2\",\n",
    ")\n",
    "def mnist_pipeline():\n",
    "    # using data_prep_function like a python call with its own inputs\n",
    "    data_prep_job = data_prep_component(\n",
    "        name=\"MNIST\"\n",
    "    )\n",
    "\n",
    "    # check the dataset\n",
    "    check_job = search_component(\n",
    "        data=data_prep_job.outputs.data\n",
    "    )\n",
    "    \n",
    "    return { \"data\": data_prep_job.outputs.data }"
   ]
  },
  {
   "cell_type": "code",
   "execution_count": 12,
   "metadata": {},
   "outputs": [
    {
     "name": "stderr",
     "output_type": "stream",
     "text": [
      "\u001b[32mUploading scripts (0.03 MBs): 100%|##########| 33395/33395 [00:00<00:00, 115668.61it/s]\n",
      "\u001b[39m\n",
      "\n"
     ]
    },
    {
     "ename": "Exception",
     "evalue": "{\n  \"result\": \"Failed\",\n  \"errors\": [\n    {\n      \"message\": \"Invalid data binding expression: environment_name, config, gpu_compute_name, hex_config\",\n      \"path\": \"command\",\n      \"value\": \"python3 search.py             --data_dir ${{inputs.data}}             --environment ${{environment_name}}             --client_config ${{config}}             --compute ${{gpu_compute_name}}             --config ${{hex_config}}             --output_dir ${{outputs.results}}\"\n    }\n  ]\n}",
     "output_type": "error",
     "traceback": [
      "\u001b[1;31m---------------------------------------------------------------------------\u001b[0m",
      "\u001b[1;31mValidationException\u001b[0m                       Traceback (most recent call last)",
      "File \u001b[1;32mc:\\Users\\clovett.REDMOND\\Anaconda3\\envs\\archai\\lib\\site-packages\\azure\\ai\\ml\\operations\\_job_operations.py:506\u001b[0m, in \u001b[0;36mJobOperations.create_or_update\u001b[1;34m(self, job, description, compute, tags, experiment_name, skip_validation, **kwargs)\u001b[0m\n\u001b[0;32m    505\u001b[0m \u001b[39m# Create all dependent resources\u001b[39;00m\n\u001b[1;32m--> 506\u001b[0m \u001b[39mself\u001b[39;49m\u001b[39m.\u001b[39;49m_resolve_arm_id_or_upload_dependencies(job)\n\u001b[0;32m    508\u001b[0m git_props \u001b[39m=\u001b[39m get_git_properties()\n",
      "File \u001b[1;32mc:\\Users\\clovett.REDMOND\\Anaconda3\\envs\\archai\\lib\\site-packages\\azure\\ai\\ml\\operations\\_job_operations.py:850\u001b[0m, in \u001b[0;36mJobOperations._resolve_arm_id_or_upload_dependencies\u001b[1;34m(self, job)\u001b[0m\n\u001b[0;32m    841\u001b[0m \u001b[39m\u001b[39m\u001b[39m\"\"\"This method converts name or name:version to ARM id. Or it\u001b[39;00m\n\u001b[0;32m    842\u001b[0m \u001b[39mregisters/uploads nested dependencies.\u001b[39;00m\n\u001b[0;32m    843\u001b[0m \n\u001b[1;32m   (...)\u001b[0m\n\u001b[0;32m    847\u001b[0m \u001b[39m:rtype: Job\u001b[39;00m\n\u001b[0;32m    848\u001b[0m \u001b[39m\"\"\"\u001b[39;00m\n\u001b[1;32m--> 850\u001b[0m \u001b[39mself\u001b[39;49m\u001b[39m.\u001b[39;49m_resolve_arm_id_or_azureml_id(job, \u001b[39mself\u001b[39;49m\u001b[39m.\u001b[39;49m_orchestrators\u001b[39m.\u001b[39;49mget_asset_arm_id)\n\u001b[0;32m    852\u001b[0m \u001b[39mif\u001b[39;00m \u001b[39misinstance\u001b[39m(job, PipelineJob):\n\u001b[0;32m    853\u001b[0m     \u001b[39m# Resolve top-level inputs\u001b[39;00m\n",
      "File \u001b[1;32mc:\\Users\\clovett.REDMOND\\Anaconda3\\envs\\archai\\lib\\site-packages\\azure\\ai\\ml\\operations\\_job_operations.py:1072\u001b[0m, in \u001b[0;36mJobOperations._resolve_arm_id_or_azureml_id\u001b[1;34m(self, job, resolver)\u001b[0m\n\u001b[0;32m   1071\u001b[0m \u001b[39melif\u001b[39;00m \u001b[39misinstance\u001b[39m(job, PipelineJob):\n\u001b[1;32m-> 1072\u001b[0m     job \u001b[39m=\u001b[39m \u001b[39mself\u001b[39;49m\u001b[39m.\u001b[39;49m_resolve_arm_id_for_pipeline_job(job, resolver)\n\u001b[0;32m   1073\u001b[0m \u001b[39melse\u001b[39;00m:\n",
      "File \u001b[1;32mc:\\Users\\clovett.REDMOND\\Anaconda3\\envs\\archai\\lib\\site-packages\\azure\\ai\\ml\\operations\\_job_operations.py:1187\u001b[0m, in \u001b[0;36mJobOperations._resolve_arm_id_for_pipeline_job\u001b[1;34m(self, pipeline_job, resolver)\u001b[0m\n\u001b[0;32m   1186\u001b[0m \u001b[39mtry\u001b[39;00m:\n\u001b[1;32m-> 1187\u001b[0m     \u001b[39mself\u001b[39;49m\u001b[39m.\u001b[39;49m_component_operations\u001b[39m.\u001b[39;49m_resolve_dependencies_for_pipeline_component_jobs(\n\u001b[0;32m   1188\u001b[0m         pipeline_job\u001b[39m.\u001b[39;49mcomponent, resolver\n\u001b[0;32m   1189\u001b[0m     )\n\u001b[0;32m   1190\u001b[0m \u001b[39mexcept\u001b[39;00m ComponentException \u001b[39mas\u001b[39;00m e:\n",
      "File \u001b[1;32mc:\\Users\\clovett.REDMOND\\Anaconda3\\envs\\archai\\lib\\site-packages\\azure\\ai\\ml\\operations\\_component_operations.py:763\u001b[0m, in \u001b[0;36mComponentOperations._resolve_dependencies_for_pipeline_component_jobs\u001b[1;34m(self, component, resolver, resolve_inputs)\u001b[0m\n\u001b[0;32m    756\u001b[0m         \u001b[39mraise\u001b[39;00m ComponentException(\n\u001b[0;32m    757\u001b[0m             message\u001b[39m=\u001b[39mmsg,\n\u001b[0;32m    758\u001b[0m             target\u001b[39m=\u001b[39mErrorTarget\u001b[39m.\u001b[39mCOMPONENT,\n\u001b[0;32m    759\u001b[0m             no_personal_data_message\u001b[39m=\u001b[39mmsg,\n\u001b[0;32m    760\u001b[0m             error_category\u001b[39m=\u001b[39mErrorCategory\u001b[39m.\u001b[39mUSER_ERROR,\n\u001b[0;32m    761\u001b[0m         )\n\u001b[1;32m--> 763\u001b[0m component_cache\u001b[39m.\u001b[39;49mresolve_nodes()\n",
      "File \u001b[1;32mc:\\Users\\clovett.REDMOND\\Anaconda3\\envs\\archai\\lib\\site-packages\\azure\\ai\\ml\\_utils\\_cache_utils.py:376\u001b[0m, in \u001b[0;36mCachedNodeResolver.resolve_nodes\u001b[1;34m(self)\u001b[0m\n\u001b[0;32m    375\u001b[0m \u001b[39mtry\u001b[39;00m:\n\u001b[1;32m--> 376\u001b[0m     \u001b[39mself\u001b[39;49m\u001b[39m.\u001b[39;49m_resolve_nodes()\n\u001b[0;32m    377\u001b[0m \u001b[39mfinally\u001b[39;00m:\n\u001b[0;32m    378\u001b[0m     \u001b[39m# release lock even if exception happens\u001b[39;00m\n",
      "File \u001b[1;32mc:\\Users\\clovett.REDMOND\\Anaconda3\\envs\\archai\\lib\\site-packages\\azure\\ai\\ml\\_utils\\_cache_utils.py:340\u001b[0m, in \u001b[0;36mCachedNodeResolver._resolve_nodes\u001b[1;34m(self)\u001b[0m\n\u001b[0;32m    338\u001b[0m     cache_contents_to_resolve \u001b[39m=\u001b[39m \u001b[39mself\u001b[39m\u001b[39m.\u001b[39m_resolve_cache_contents_from_disk(cache_contents_to_resolve)\n\u001b[1;32m--> 340\u001b[0m \u001b[39mself\u001b[39;49m\u001b[39m.\u001b[39;49m_resolve_cache_contents(cache_contents_to_resolve, resolver\u001b[39m=\u001b[39;49m\u001b[39mself\u001b[39;49m\u001b[39m.\u001b[39;49m_resolver)\n\u001b[0;32m    342\u001b[0m \u001b[39mself\u001b[39m\u001b[39m.\u001b[39m_fill_back_component_to_nodes(dict_of_nodes_to_resolve)\n",
      "File \u001b[1;32mc:\\Users\\clovett.REDMOND\\Anaconda3\\envs\\archai\\lib\\site-packages\\azure\\ai\\ml\\_utils\\_cache_utils.py:270\u001b[0m, in \u001b[0;36mCachedNodeResolver._resolve_cache_contents\u001b[1;34m(self, cache_contents_to_resolve, resolver)\u001b[0m\n\u001b[0;32m    268\u001b[0m     resolution_results \u001b[39m=\u001b[39m \u001b[39mmap\u001b[39m(_map_func, _components)\n\u001b[1;32m--> 270\u001b[0m \u001b[39mfor\u001b[39;00m cache_content, resolution_results \u001b[39min\u001b[39;00m \u001b[39mzip\u001b[39m(cache_contents_to_resolve, resolution_results):\n\u001b[0;32m    271\u001b[0m     cache_content\u001b[39m.\u001b[39marm_id \u001b[39m=\u001b[39m resolution_results\n",
      "File \u001b[1;32mc:\\Users\\clovett.REDMOND\\Anaconda3\\envs\\archai\\lib\\site-packages\\azure\\ai\\ml\\operations\\_operation_orchestrator.py:226\u001b[0m, in \u001b[0;36mOperationOrchestrator.get_asset_arm_id\u001b[1;34m(self, asset, azureml_type, register_asset, sub_workspace_resource)\u001b[0m\n\u001b[0;32m    225\u001b[0m \u001b[39melif\u001b[39;00m azureml_type \u001b[39m==\u001b[39m AzureMLResourceType\u001b[39m.\u001b[39mCOMPONENT \u001b[39mand\u001b[39;00m \u001b[39misinstance\u001b[39m(asset, Component):\n\u001b[1;32m--> 226\u001b[0m     result \u001b[39m=\u001b[39m \u001b[39mself\u001b[39;49m\u001b[39m.\u001b[39;49m_get_component_arm_id(asset)\n\u001b[0;32m    227\u001b[0m \u001b[39melse\u001b[39;00m:\n",
      "File \u001b[1;32mc:\\Users\\clovett.REDMOND\\Anaconda3\\envs\\archai\\lib\\site-packages\\azure\\ai\\ml\\operations\\_operation_orchestrator.py:352\u001b[0m, in \u001b[0;36mOperationOrchestrator._get_component_arm_id\u001b[1;34m(self, component)\u001b[0m\n\u001b[0;32m    351\u001b[0m \u001b[39mif\u001b[39;00m \u001b[39mnot\u001b[39;00m component\u001b[39m.\u001b[39mid:\n\u001b[1;32m--> 352\u001b[0m     component\u001b[39m.\u001b[39m_id \u001b[39m=\u001b[39m \u001b[39mself\u001b[39;49m\u001b[39m.\u001b[39;49m_component\u001b[39m.\u001b[39;49mcreate_or_update(\n\u001b[0;32m    353\u001b[0m         component, is_anonymous\u001b[39m=\u001b[39;49m\u001b[39mTrue\u001b[39;49;00m, show_progress\u001b[39m=\u001b[39;49m\u001b[39mself\u001b[39;49m\u001b[39m.\u001b[39;49m_operation_config\u001b[39m.\u001b[39;49mshow_progress\n\u001b[0;32m    354\u001b[0m     )\u001b[39m.\u001b[39mid\n\u001b[0;32m    355\u001b[0m \u001b[39mreturn\u001b[39;00m component\u001b[39m.\u001b[39mid\n",
      "File \u001b[1;32mc:\\Users\\clovett.REDMOND\\Anaconda3\\envs\\archai\\lib\\site-packages\\azure\\ai\\ml\\operations\\_component_operations.py:317\u001b[0m, in \u001b[0;36mComponentOperations.create_or_update\u001b[1;34m(self, component, version, skip_validation, **kwargs)\u001b[0m\n\u001b[0;32m    316\u001b[0m \u001b[39mif\u001b[39;00m \u001b[39mnot\u001b[39;00m skip_validation:\n\u001b[1;32m--> 317\u001b[0m     \u001b[39mself\u001b[39;49m\u001b[39m.\u001b[39;49m_validate(component, raise_on_failure\u001b[39m=\u001b[39;49m\u001b[39mTrue\u001b[39;49;00m)\n\u001b[0;32m    319\u001b[0m \u001b[39m# Create all dependent resources\u001b[39;00m\n",
      "File \u001b[1;32mc:\\Users\\clovett.REDMOND\\Anaconda3\\envs\\archai\\lib\\site-packages\\azure\\ai\\ml\\operations\\_component_operations.py:258\u001b[0m, in \u001b[0;36mComponentOperations._validate\u001b[1;34m(self, component, raise_on_failure)\u001b[0m\n\u001b[0;32m    256\u001b[0m \u001b[39m# local validation only for now\u001b[39;00m\n\u001b[0;32m    257\u001b[0m \u001b[39m# TODO: use remote call to validate the entire component after MFE API is ready\u001b[39;00m\n\u001b[1;32m--> 258\u001b[0m result \u001b[39m=\u001b[39m component\u001b[39m.\u001b[39;49m_validate(raise_error\u001b[39m=\u001b[39;49mraise_on_failure)\n\u001b[0;32m    259\u001b[0m result\u001b[39m.\u001b[39mresolve_location_for_diagnostics(component\u001b[39m.\u001b[39m_source_path)\n",
      "File \u001b[1;32mc:\\Users\\clovett.REDMOND\\Anaconda3\\envs\\archai\\lib\\site-packages\\azure\\ai\\ml\\entities\\_component\\component.py:435\u001b[0m, in \u001b[0;36mComponent._validate\u001b[1;34m(self, raise_error)\u001b[0m\n\u001b[0;32m    434\u001b[0m \u001b[39mtry\u001b[39;00m:\n\u001b[1;32m--> 435\u001b[0m     \u001b[39mreturn\u001b[39;00m \u001b[39msuper\u001b[39;49m()\u001b[39m.\u001b[39;49m_validate(raise_error)\n\u001b[0;32m    436\u001b[0m \u001b[39mfinally\u001b[39;00m:\n",
      "File \u001b[1;32mc:\\Users\\clovett.REDMOND\\Anaconda3\\envs\\archai\\lib\\site-packages\\azure\\ai\\ml\\entities\\_validation.py:408\u001b[0m, in \u001b[0;36mSchemaValidatableMixin._validate\u001b[1;34m(self, raise_error)\u001b[0m\n\u001b[0;32m    407\u001b[0m result\u001b[39m.\u001b[39mmerge_with(\u001b[39mself\u001b[39m\u001b[39m.\u001b[39m_customized_validate())\n\u001b[1;32m--> 408\u001b[0m \u001b[39mreturn\u001b[39;00m result\u001b[39m.\u001b[39;49mtry_raise(raise_error\u001b[39m=\u001b[39;49mraise_error, error_target\u001b[39m=\u001b[39;49m\u001b[39mself\u001b[39;49m\u001b[39m.\u001b[39;49m_get_validation_error_target())\n",
      "File \u001b[1;32mc:\\Users\\clovett.REDMOND\\Anaconda3\\envs\\archai\\lib\\site-packages\\azure\\ai\\ml\\entities\\_validation.py:257\u001b[0m, in \u001b[0;36mMutableValidationResult.try_raise\u001b[1;34m(self, error_target, error_category, raise_error, schema, additional_message, raise_mashmallow_error)\u001b[0m\n\u001b[0;32m    255\u001b[0m         \u001b[39mraise\u001b[39;00m ValidationError(message)\n\u001b[1;32m--> 257\u001b[0m     \u001b[39mraise\u001b[39;00m ValidationException(\n\u001b[0;32m    258\u001b[0m         message\u001b[39m=\u001b[39mmessage,\n\u001b[0;32m    259\u001b[0m         no_personal_data_message\u001b[39m=\u001b[39m\u001b[39m\"\u001b[39m\u001b[39mvalidation failed on the following fields: \u001b[39m\u001b[39m\"\u001b[39m \u001b[39m+\u001b[39m \u001b[39m\"\u001b[39m\u001b[39m, \u001b[39m\u001b[39m\"\u001b[39m\u001b[39m.\u001b[39mjoin(\u001b[39mself\u001b[39m\u001b[39m.\u001b[39merror_messages),\n\u001b[0;32m    260\u001b[0m         target\u001b[39m=\u001b[39merror_target,\n\u001b[0;32m    261\u001b[0m         error_category\u001b[39m=\u001b[39merror_category,\n\u001b[0;32m    262\u001b[0m     )\n\u001b[0;32m    263\u001b[0m \u001b[39mreturn\u001b[39;00m \u001b[39mself\u001b[39m\n",
      "\u001b[1;31mValidationException\u001b[0m: {\n  \"result\": \"Failed\",\n  \"errors\": [\n    {\n      \"message\": \"Invalid data binding expression: environment_name, config, gpu_compute_name, hex_config\",\n      \"path\": \"command\",\n      \"value\": \"python3 search.py             --data_dir ${{inputs.data}}             --environment ${{environment_name}}             --client_config ${{config}}             --compute ${{gpu_compute_name}}             --config ${{hex_config}}             --output_dir ${{outputs.results}}\"\n    }\n  ]\n}",
      "\nDuring handling of the above exception, another exception occurred:\n",
      "\u001b[1;31mException\u001b[0m                                 Traceback (most recent call last)",
      "Cell \u001b[1;32mIn[12], line 4\u001b[0m\n\u001b[0;32m      1\u001b[0m pipeline \u001b[39m=\u001b[39m mnist_pipeline()\n\u001b[0;32m      3\u001b[0m \u001b[39m# submit the pipeline job\u001b[39;00m\n\u001b[1;32m----> 4\u001b[0m pipeline_job \u001b[39m=\u001b[39m ml_client\u001b[39m.\u001b[39;49mjobs\u001b[39m.\u001b[39;49mcreate_or_update(\n\u001b[0;32m      5\u001b[0m     pipeline,\n\u001b[0;32m      6\u001b[0m     \u001b[39m# Project's name\u001b[39;49;00m\n\u001b[0;32m      7\u001b[0m     experiment_name\u001b[39m=\u001b[39;49m\u001b[39m\"\u001b[39;49m\u001b[39mmnist_test_run\u001b[39;49m\u001b[39m\"\u001b[39;49m,\n\u001b[0;32m      8\u001b[0m )\n",
      "File \u001b[1;32mc:\\Users\\clovett.REDMOND\\Anaconda3\\envs\\archai\\lib\\site-packages\\azure\\core\\tracing\\decorator.py:78\u001b[0m, in \u001b[0;36mdistributed_trace.<locals>.decorator.<locals>.wrapper_use_tracer\u001b[1;34m(*args, **kwargs)\u001b[0m\n\u001b[0;32m     76\u001b[0m span_impl_type \u001b[39m=\u001b[39m settings\u001b[39m.\u001b[39mtracing_implementation()\n\u001b[0;32m     77\u001b[0m \u001b[39mif\u001b[39;00m span_impl_type \u001b[39mis\u001b[39;00m \u001b[39mNone\u001b[39;00m:\n\u001b[1;32m---> 78\u001b[0m     \u001b[39mreturn\u001b[39;00m func(\u001b[39m*\u001b[39margs, \u001b[39m*\u001b[39m\u001b[39m*\u001b[39mkwargs)\n\u001b[0;32m     80\u001b[0m \u001b[39m# Merge span is parameter is set, but only if no explicit parent are passed\u001b[39;00m\n\u001b[0;32m     81\u001b[0m \u001b[39mif\u001b[39;00m merge_span \u001b[39mand\u001b[39;00m \u001b[39mnot\u001b[39;00m passed_in_parent:\n",
      "File \u001b[1;32mc:\\Users\\clovett.REDMOND\\Anaconda3\\envs\\archai\\lib\\site-packages\\azure\\ai\\ml\\operations\\_job_operations.py:568\u001b[0m, in \u001b[0;36mJobOperations.create_or_update\u001b[1;34m(self, job, description, compute, tags, experiment_name, skip_validation, **kwargs)\u001b[0m\n\u001b[0;32m    566\u001b[0m \u001b[39mexcept\u001b[39;00m \u001b[39mException\u001b[39;00m \u001b[39mas\u001b[39;00m ex:  \u001b[39m# pylint: disable=broad-except\u001b[39;00m\n\u001b[0;32m    567\u001b[0m     \u001b[39mif\u001b[39;00m \u001b[39misinstance\u001b[39m(ex, (ValidationException, SchemaValidationError)):\n\u001b[1;32m--> 568\u001b[0m         log_and_raise_error(ex)\n\u001b[0;32m    569\u001b[0m     \u001b[39melse\u001b[39;00m:\n\u001b[0;32m    570\u001b[0m         \u001b[39mraise\u001b[39;00m ex\n",
      "File \u001b[1;32mc:\\Users\\clovett.REDMOND\\Anaconda3\\envs\\archai\\lib\\site-packages\\azure\\ai\\ml\\_exception_helper.py:295\u001b[0m, in \u001b[0;36mlog_and_raise_error\u001b[1;34m(error, debug, yaml_operation)\u001b[0m\n\u001b[0;32m    292\u001b[0m \u001b[39melse\u001b[39;00m:\n\u001b[0;32m    293\u001b[0m     \u001b[39mraise\u001b[39;00m error\n\u001b[1;32m--> 295\u001b[0m \u001b[39mraise\u001b[39;00m \u001b[39mException\u001b[39;00m(formatted_error)\n",
      "\u001b[1;31mException\u001b[0m: {\n  \"result\": \"Failed\",\n  \"errors\": [\n    {\n      \"message\": \"Invalid data binding expression: environment_name, config, gpu_compute_name, hex_config\",\n      \"path\": \"command\",\n      \"value\": \"python3 search.py             --data_dir ${{inputs.data}}             --environment ${{environment_name}}             --client_config ${{config}}             --compute ${{gpu_compute_name}}             --config ${{hex_config}}             --output_dir ${{outputs.results}}\"\n    }\n  ]\n}"
     ]
    }
   ],
   "source": [
    "pipeline = mnist_pipeline()\n",
    "\n",
    "# submit the pipeline job\n",
    "pipeline_job = ml_client.jobs.create_or_update(\n",
    "    pipeline,\n",
    "    # Project's name\n",
    "    experiment_name=\"mnist_test_run\",\n",
    ")\n"
   ]
  },
  {
   "cell_type": "code",
   "execution_count": 14,
   "metadata": {},
   "outputs": [
    {
     "data": {
      "text/plain": [
       "True"
      ]
     },
     "execution_count": 14,
     "metadata": {},
     "output_type": "execute_result"
    }
   ],
   "source": [
    "import webbrowser\n",
    "# open the pipeline in web browser\n",
    "webbrowser.open(pipeline_job.services[\"Studio\"].endpoint)"
   ]
  },
  {
   "cell_type": "code",
   "execution_count": 25,
   "metadata": {},
   "outputs": [
    {
     "name": "stdout",
     "output_type": "stream",
     "text": [
      "aml-archai:0.1.3\n"
     ]
    }
   ],
   "source": [
    "print(f\"{archai_job_env.name}:{archai_job_env.version}\")"
   ]
  },
  {
   "cell_type": "code",
   "execution_count": 20,
   "metadata": {},
   "outputs": [
    {
     "name": "stdout",
     "output_type": "stream",
     "text": [
      "_PYTHON_SDK_TYPE_MAPPING\n",
      "_SchemaValidatableMixin__base_path_for_validation\n",
      "_SchemaValidatableMixin__schema_validate\n",
      "__abstractmethods__\n",
      "__class__\n",
      "__delattr__\n",
      "__dict__\n",
      "__dir__\n",
      "__doc__\n",
      "__eq__\n",
      "__format__\n",
      "__ge__\n",
      "__getattribute__\n",
      "__gt__\n",
      "__hash__\n",
      "__init__\n",
      "__init_subclass__\n",
      "__le__\n",
      "__lt__\n",
      "__module__\n",
      "__ne__\n",
      "__new__\n",
      "__reduce__\n",
      "__reduce_ex__\n",
      "__repr__\n",
      "__setattr__\n",
      "__sizeof__\n",
      "__slotnames__\n",
      "__slots__\n",
      "__str__\n",
      "__subclasshook__\n",
      "__weakref__\n",
      "_abc_impl\n",
      "_build_input\n",
      "_build_inputs\n",
      "_build_inputs_dict\n",
      "_build_inputs_dict_without_meta\n",
      "_build_output\n",
      "_build_output_for_pipeline\n",
      "_build_outputs\n",
      "_build_outputs_dict\n",
      "_build_outputs_dict_without_meta\n",
      "_build_pipeline_outputs_dict\n",
      "_check_private_preview_features\n",
      "_component_items_from_path\n",
      "_create_empty_validation_result\n",
      "_create_schema_for_validation\n",
      "_create_schema_for_validation_with_base_path\n",
      "_customized_validate\n",
      "_dump_for_validation\n",
      "_find_source_from_other_jobs\n",
      "_find_source_from_parent_inputs\n",
      "_find_source_from_parent_outputs\n",
      "_find_source_input_output_type\n",
      "_from_rest_inputs\n",
      "_from_rest_object\n",
      "_from_rest_outputs\n",
      "_get_arm_resource\n",
      "_get_arm_resource_and_params\n",
      "_get_base_info_dict\n",
      "_get_default_input_val\n",
      "_get_skip_fields_in_schema_validation\n",
      "_get_telemetry_values\n",
      "_get_validation_error_target\n",
      "_input_entity_to_rest_inputs\n",
      "_load\n",
      "_load_from_dict\n",
      "_load_from_rest\n",
      "_remove_pipeline_input\n",
      "_repr_html_\n",
      "_resolve_cls_and_type\n",
      "_schema_for_validation\n",
      "_skip_required_compute_missing_validation\n",
      "_source_path\n",
      "_to_component\n",
      "_to_dict\n",
      "_to_input\n",
      "_to_input_builder_function\n",
      "_to_inputs\n",
      "_to_node\n",
      "_to_output\n",
      "_to_outputs\n",
      "_to_rest_inputs\n",
      "_to_rest_object\n",
      "_to_rest_outputs\n",
      "_to_yaml\n",
      "_validate\n",
      "_validate_compute_is_set\n",
      "_validate_group_input_type\n",
      "_validate_init_finalize_job\n",
      "_validate_input\n",
      "base_path\n",
      "creation_context\n",
      "dump\n",
      "id\n",
      "inputs\n",
      "jobs\n",
      "log_files\n",
      "outputs\n",
      "settings\n",
      "status\n",
      "studio_url\n",
      "type\n"
     ]
    }
   ],
   "source": [
    "@dsl.pipeline(\n",
    "    compute=cpu_compute_name,\n",
    "    description=\"Archai MNIST search\",\n",
    ")\n",
    "def mnist_pipeline():\n",
    "    # using data_prep_function like a python call with its own inputs\n",
    "    data_prep_job = data_prep_component(\n",
    "        name=\"MNIST\"\n",
    "    )\n",
    "\n",
    "    # check the dataset\n",
    "    check_job = search_component(\n",
    "        data=data_prep_job.outputs.data\n",
    "    )\n",
    "    \n",
    "    return { \"data\": data_prep_job.outputs.data }\n"
   ]
  },
  {
   "cell_type": "code",
   "execution_count": null,
   "metadata": {},
   "outputs": [],
   "source": []
  }
 ],
 "metadata": {
  "kernelspec": {
   "display_name": "archai",
   "language": "python",
   "name": "python3"
  },
  "language_info": {
   "codemirror_mode": {
    "name": "ipython",
    "version": 3
   },
   "file_extension": ".py",
   "mimetype": "text/x-python",
   "name": "python",
   "nbconvert_exporter": "python",
   "pygments_lexer": "ipython3",
   "version": "3.10.9"
  },
  "orig_nbformat": 4,
  "vscode": {
   "interpreter": {
    "hash": "799abcba35f70097d02fca042963180a03ec3451fe1b7671ac5d22383cd0232c"
   }
  }
 },
 "nbformat": 4,
 "nbformat_minor": 2
}
