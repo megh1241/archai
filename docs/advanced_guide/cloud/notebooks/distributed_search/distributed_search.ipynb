{
 "cells": [
  {
   "cell_type": "code",
   "execution_count": null,
   "metadata": {},
   "outputs": [],
   "source": [
    "# Connect to Azure Machine Learning Workspace \n",
    "import sys\n",
    "import os\n",
    "import json\n",
    "import archai.common.azureml_helper as aml_helper\n",
    "\n",
    "sys.path.append(os.path.realpath('scripts'))\n",
    "\n",
    "from cnn_search_space import CNNSearchSpace\n",
    "\n",
    "# make sure we have a scripts dir for the code to run our jobs.\n",
    "import os\n",
    "scripts_dir = \"./scripts\"\n",
    "os.makedirs(scripts_dir, exist_ok=True)\n",
    "\n",
    "config_file = \"../.azureml/config.json\"\n",
    "config = json.load(open(config_file, 'r'))\n",
    "\n",
    "for required_key in ['subscription_id', 'resource_group', 'workspace_name', 'storage_account_key', 'storage_account_name']:\n",
    "    if not required_key in config:\n",
    "        print(f\"### Error: please add a {required_key} to {config_file}\")\n",
    "\n",
    "storage_account_key = config['storage_account_key']    \n",
    "storage_account_name = config['storage_account_name']"
   ]
  },
  {
   "cell_type": "code",
   "execution_count": 3,
   "metadata": {},
   "outputs": [
    {
     "name": "stderr",
     "output_type": "stream",
     "text": [
      "Found the config file in: ..\\.azureml\\config.json\n"
     ]
    }
   ],
   "source": [
    "# Get a handle to the workspace\n",
    "ml_client = aml_helper.get_aml_client_from_file(config_path=config_file)"
   ]
  },
  {
   "cell_type": "code",
   "execution_count": 4,
   "metadata": {},
   "outputs": [
    {
     "name": "stdout",
     "output_type": "stream",
     "text": [
      "You already have a cluster named nas-cpu-cluster-D14-v2, we'll reuse it as is.\n",
      "You already have a cluster named nas-gpu-cluster-NC6, we'll reuse it as is.\n"
     ]
    }
   ],
   "source": [
    "# Create cpu cluster for running the search\n",
    "cpu_compute_name = \"nas-cpu-cluster-D14-v2\"\n",
    "aml_helper.create_compute_cluster(ml_client, cpu_compute_name, size=\"Standard_D14_v2\", location=\"westus\")\n",
    "\n",
    "# Create gpu cluster for running the search\n",
    "gpu_compute_name = \"nas-gpu-cluster-NC6\"\n",
    "aml_helper.create_compute_cluster(ml_client, gpu_compute_name, size=\"Standard_NC6\", location=\"westus\")"
   ]
  },
  {
   "cell_type": "code",
   "execution_count": 7,
   "metadata": {},
   "outputs": [
    {
     "name": "stdout",
     "output_type": "stream",
     "text": [
      "Environment with name aml-archai is registered to workspace, the environment version is 0.1.1\n"
     ]
    }
   ],
   "source": [
    "archai_job_env = aml_helper.create_environment_from_file(ml_client, conda_file=\"conda.yaml\", version='0.1.1')"
   ]
  },
  {
   "cell_type": "code",
   "execution_count": 8,
   "metadata": {},
   "outputs": [
    {
     "data": {
      "text/plain": [
       "AzureBlobDatastore({'type': <DatastoreType.AZURE_BLOB: 'AzureBlob'>, 'name': 'amlmnistmodels', 'description': 'Datastore pointing to our models blob container.', 'tags': {}, 'properties': {}, 'print_as_yaml': True, 'id': '/subscriptions/c8b7f913-60fb-4759-a310-fc5630e56f99/resourceGroups/snpe-aml-rg/providers/Microsoft.MachineLearningServices/workspaces/snpe-aml-workspace/datastores/amlmnistmodels', 'Resource__source_path': None, 'base_path': 'd:\\\\git\\\\microsoft\\\\archai\\\\docs\\\\advanced_guide\\\\cloud\\\\notebooks\\\\distributed_search', 'creation_context': None, 'serialize': <msrest.serialization.Serializer object at 0x0000014E5B267220>, 'credentials': {'type': 'account_key'}, 'container_name': 'models', 'account_name': 'amlmnistmodels', 'endpoint': 'core.windows.net', 'protocol': 'https'})"
      ]
     },
     "execution_count": 8,
     "metadata": {},
     "output_type": "execute_result"
    }
   ],
   "source": [
    "from azure.ai.ml.entities import AzureBlobDatastore\n",
    "from azure.ai.ml.entities._credentials import AccountKeyConfiguration\n",
    "\n",
    "# Create a blob store container for storing our NAS generated models in.\n",
    "blob_store = AzureBlobDatastore(\n",
    "    name=storage_account_name,\n",
    "    description=\"Datastore pointing to our models blob container.\",\n",
    "    account_name=storage_account_name,\n",
    "    container_name=\"models\",\n",
    "    credentials=AccountKeyConfiguration(\n",
    "        account_key=storage_account_key\n",
    "    ),\n",
    ")\n",
    "\n",
    "ml_client.create_or_update(blob_store)"
   ]
  },
  {
   "cell_type": "code",
   "execution_count": 11,
   "metadata": {},
   "outputs": [
    {
     "ename": "AttributeError",
     "evalue": "'ArchaiStatus' object has no attribute 'get_status_table_service'",
     "output_type": "error",
     "traceback": [
      "\u001b[1;31m---------------------------------------------------------------------------\u001b[0m",
      "\u001b[1;31mAttributeError\u001b[0m                            Traceback (most recent call last)",
      "Cell \u001b[1;32mIn[11], line 5\u001b[0m\n\u001b[0;32m      3\u001b[0m \u001b[39m# make sure the status table exists.\u001b[39;00m\n\u001b[0;32m      4\u001b[0m status \u001b[39m=\u001b[39m ArchaiStatus(storage_connection_string)\n\u001b[1;32m----> 5\u001b[0m status\u001b[39m.\u001b[39;49mget_all_status_entities()\n",
      "File \u001b[1;32mD:\\git\\microsoft\\archai\\docs\\advanced_guide\\cloud\\notebooks\\distributed_search\\scripts\\status.py:43\u001b[0m, in \u001b[0;36mArchaiStatus.get_all_status_entities\u001b[1;34m(self, status, not_equal)\u001b[0m\n\u001b[0;32m     37\u001b[0m \u001b[39mdef\u001b[39;00m \u001b[39mget_all_status_entities\u001b[39m(\u001b[39mself\u001b[39m, status\u001b[39m=\u001b[39m\u001b[39mNone\u001b[39;00m, not_equal\u001b[39m=\u001b[39m\u001b[39mFalse\u001b[39;00m):\n\u001b[0;32m     38\u001b[0m \u001b[39m    \u001b[39m\u001b[39m\"\"\" Get all status entities with optional status column filter.\u001b[39;00m\n\u001b[0;32m     39\u001b[0m \u001b[39m    For example, pass \"status=complete\" to find all status rows that\u001b[39;00m\n\u001b[0;32m     40\u001b[0m \u001b[39m    have the status \"complete\".  Pass not_equal of True if you want\u001b[39;00m\n\u001b[0;32m     41\u001b[0m \u001b[39m    to check the status is not equal to the given value.\u001b[39;00m\n\u001b[0;32m     42\u001b[0m \u001b[39m    \"\"\"\u001b[39;00m\n\u001b[1;32m---> 43\u001b[0m     table_client \u001b[39m=\u001b[39m \u001b[39mself\u001b[39;49m\u001b[39m.\u001b[39;49m_get_table_client()\n\u001b[0;32m     45\u001b[0m     entities \u001b[39m=\u001b[39m []\n\u001b[0;32m     46\u001b[0m     query \u001b[39m=\u001b[39m \u001b[39m\"\u001b[39m\u001b[39mPartitionKey eq \u001b[39m\u001b[39m'\u001b[39m\u001b[39mmain\u001b[39m\u001b[39m'\u001b[39m\u001b[39m\"\u001b[39m\n",
      "File \u001b[1;32mD:\\git\\microsoft\\archai\\docs\\advanced_guide\\cloud\\notebooks\\distributed_search\\scripts\\status.py:33\u001b[0m, in \u001b[0;36mArchaiStatus._get_table_client\u001b[1;34m(self)\u001b[0m\n\u001b[0;32m     31\u001b[0m \u001b[39mif\u001b[39;00m \u001b[39mnot\u001b[39;00m \u001b[39mself\u001b[39m\u001b[39m.\u001b[39mtable_client:\n\u001b[0;32m     32\u001b[0m     \u001b[39mif\u001b[39;00m \u001b[39mnot\u001b[39;00m \u001b[39mself\u001b[39m\u001b[39m.\u001b[39mservice:\n\u001b[1;32m---> 33\u001b[0m         \u001b[39mself\u001b[39m\u001b[39m.\u001b[39mservice \u001b[39m=\u001b[39m \u001b[39mself\u001b[39;49m\u001b[39m.\u001b[39;49mget_status_table_service()\n\u001b[0;32m     34\u001b[0m     \u001b[39mself\u001b[39m\u001b[39m.\u001b[39mtable_client \u001b[39m=\u001b[39m \u001b[39mself\u001b[39m\u001b[39m.\u001b[39mservice\u001b[39m.\u001b[39mcreate_table_if_not_exists(\u001b[39mself\u001b[39m\u001b[39m.\u001b[39mstatus_table_name)\n\u001b[0;32m     35\u001b[0m \u001b[39mreturn\u001b[39;00m \u001b[39mself\u001b[39m\u001b[39m.\u001b[39mtable_client\n",
      "\u001b[1;31mAttributeError\u001b[0m: 'ArchaiStatus' object has no attribute 'get_status_table_service'"
     ]
    }
   ],
   "source": [
    "from status import ArchaiStatus\n",
    "\n",
    "# make sure the status table exists.\n",
    "status = ArchaiStatus(storage_connection_string)\n",
    "status.get_all_status_entities()"
   ]
  },
  {
   "cell_type": "code",
   "execution_count": null,
   "metadata": {},
   "outputs": [],
   "source": []
  }
 ],
 "metadata": {
  "kernelspec": {
   "display_name": "archai",
   "language": "python",
   "name": "python3"
  },
  "language_info": {
   "codemirror_mode": {
    "name": "ipython",
    "version": 3
   },
   "file_extension": ".py",
   "mimetype": "text/x-python",
   "name": "python",
   "nbconvert_exporter": "python",
   "pygments_lexer": "ipython3",
   "version": "3.10.9"
  },
  "orig_nbformat": 4,
  "vscode": {
   "interpreter": {
    "hash": "6e17fa15dde6767600fffe17352775c2dcab3bfbf1fd9e12a03b13b1554fc994"
   }
  }
 },
 "nbformat": 4,
 "nbformat_minor": 2
}
