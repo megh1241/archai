{
 "cells": [
  {
   "attachments": {},
   "cell_type": "markdown",
   "metadata": {},
   "source": [
    "# Multi-node Search\n",
    "\n",
    "This notebook and accompanying code shows how to run an Archai Network Architecture Search (NAS)\n",
    "using an Azure Machine Learning Workspace with partial training of models on a GPU cluster providing\n",
    "validation accuracies to guide that search. This example requires a storage account and Azure\n",
    "machine learning workspace specified in a config.json file like this:\n",
    "\n",
    "```json\n",
    "{\n",
    "    \"subscription_id\": \"...\",\n",
    "    \"resource_group\": \"...\",\n",
    "    \"workspace_name\": \"...\",\n",
    "    \"storage_account_key\": \"...\",\n",
    "    \"storage_account_name\": \"...\"\n",
    "}\n",
    "```"
   ]
  },
  {
   "cell_type": "code",
   "execution_count": 1,
   "metadata": {},
   "outputs": [
    {
     "name": "stdout",
     "output_type": "stream",
     "text": [
      "Using storage account: archaimnistmodels\n"
     ]
    }
   ],
   "source": [
    "import sys\n",
    "import os\n",
    "import json\n",
    "import archai.common.azureml_helper as aml_helper\n",
    "from azure.ai.ml.entities import UserIdentityConfiguration\n",
    "from archai.discrete_search.search_spaces.config import ArchParamTree, DiscreteChoice, ArchConfig\n",
    "\n",
    "sys.path.append(os.path.realpath('scripts'))\n",
    "\n",
    "# make sure we have a scripts dir for the code to run our jobs.\n",
    "import os\n",
    "scripts_dir = \"./scripts\"\n",
    "data_scripts_dir = \"./data_prep\"\n",
    "os.makedirs(scripts_dir, exist_ok=True)\n",
    "\n",
    "config_file = \"../.azureml/config.json\"\n",
    "config = json.load(open(config_file, 'r'))\n",
    "\n",
    "for required_key in ['subscription_id', 'resource_group', 'workspace_name', 'storage_account_key', 'storage_account_name']:\n",
    "    if not required_key in config:\n",
    "        print(f\"### Error: please add a {required_key} to {config_file}\")\n",
    "\n",
    "storage_account_key = config['storage_account_key']    \n",
    "storage_account_name = config['storage_account_name']\n",
    "\n",
    "print(f'Using storage account: {storage_account_name}')\n",
    "\n",
    "# This is the AML experiment name \n",
    "experiment_name = 'mnist_test_run'"
   ]
  },
  {
   "attachments": {},
   "cell_type": "markdown",
   "metadata": {},
   "source": [
    "Our [search.py](scripts/search.py) will use a ConfigSearchSpace based on the following parameters, the model defined in [model.py](scripts/model.py) will take various configurations and build different shape CNN models for each configuration as shown below. Each time you execute this cell it will generate a new random CNN model."
   ]
  },
  {
   "cell_type": "code",
   "execution_count": 2,
   "metadata": {},
   "outputs": [
    {
     "name": "stdout",
     "output_type": "stream",
     "text": [
      "ArchConfig({\n",
      "    \"nb_layers\": 7,\n",
      "    \"kernel_size\": 1,\n",
      "    \"hidden_dim\": 64\n",
      "})\n"
     ]
    },
    {
     "data": {
      "text/plain": [
       "MyModel(\n",
       "  (cross_entropy_loss): CrossEntropyLoss()\n",
       "  (model): Sequential(\n",
       "    (0): Conv2d(1, 64, kernel_size=(1, 1), stride=(1, 1))\n",
       "    (1): BatchNorm2d(64, eps=1e-05, momentum=0.1, affine=True, track_running_stats=True)\n",
       "    (2): ReLU()\n",
       "    (3): Conv2d(64, 64, kernel_size=(1, 1), stride=(1, 1))\n",
       "    (4): BatchNorm2d(64, eps=1e-05, momentum=0.1, affine=True, track_running_stats=True)\n",
       "    (5): ReLU()\n",
       "    (6): Conv2d(64, 64, kernel_size=(1, 1), stride=(1, 1))\n",
       "    (7): BatchNorm2d(64, eps=1e-05, momentum=0.1, affine=True, track_running_stats=True)\n",
       "    (8): ReLU()\n",
       "    (9): Conv2d(64, 64, kernel_size=(1, 1), stride=(1, 1))\n",
       "    (10): BatchNorm2d(64, eps=1e-05, momentum=0.1, affine=True, track_running_stats=True)\n",
       "    (11): ReLU()\n",
       "    (12): Conv2d(64, 64, kernel_size=(1, 1), stride=(1, 1))\n",
       "    (13): BatchNorm2d(64, eps=1e-05, momentum=0.1, affine=True, track_running_stats=True)\n",
       "    (14): ReLU()\n",
       "    (15): Conv2d(64, 64, kernel_size=(1, 1), stride=(1, 1))\n",
       "    (16): BatchNorm2d(64, eps=1e-05, momentum=0.1, affine=True, track_running_stats=True)\n",
       "    (17): ReLU()\n",
       "    (18): Conv2d(64, 64, kernel_size=(1, 1), stride=(1, 1))\n",
       "    (19): BatchNorm2d(64, eps=1e-05, momentum=0.1, affine=True, track_running_stats=True)\n",
       "    (20): ReLU()\n",
       "    (21): AdaptiveAvgPool2d(output_size=(1, 1))\n",
       "    (22): Conv2d(64, 10, kernel_size=(1, 1), stride=(1, 1))\n",
       "  )\n",
       ")"
      ]
     },
     "execution_count": 2,
     "metadata": {},
     "output_type": "execute_result"
    }
   ],
   "source": [
    "from model import MyModel\n",
    "\n",
    "arch_param_tree = ArchParamTree({\n",
    "    'nb_layers': DiscreteChoice(list(range(1, 13))),\n",
    "    'kernel_size': DiscreteChoice([1, 3, 5, 7]),\n",
    "    'hidden_dim': DiscreteChoice([16, 32, 64, 128])\n",
    "})\n",
    "\n",
    "arch_config = arch_param_tree.sample_config()\n",
    "print(arch_config)\n",
    "\n",
    "MyModel(arch_config)"
   ]
  },
  {
   "attachments": {},
   "cell_type": "markdown",
   "metadata": {},
   "source": [
    "Get a handle to the workspace"
   ]
  },
  {
   "cell_type": "code",
   "execution_count": 3,
   "metadata": {},
   "outputs": [
    {
     "name": "stderr",
     "output_type": "stream",
     "text": [
      "Found the config file in: ..\\.azureml\\config.json\n"
     ]
    },
    {
     "name": "stdout",
     "output_type": "stream",
     "text": [
      "Using workspace \"snpe-aml-workspace\" in resource group \"snpe-aml-rg\"\n"
     ]
    }
   ],
   "source": [
    "ml_client = aml_helper.get_aml_client_from_file(config_path=config_file)\n",
    "print(f'Using workspace \"{ml_client.workspace_name}\" in resource group \"{ml_client.resource_group_name}\"')"
   ]
  },
  {
   "attachments": {},
   "cell_type": "markdown",
   "metadata": {},
   "source": [
    "Create the compute clusters that we need"
   ]
  },
  {
   "cell_type": "code",
   "execution_count": 4,
   "metadata": {},
   "outputs": [
    {
     "name": "stdout",
     "output_type": "stream",
     "text": [
      "You already have a cluster named nas-cpu-cluster-D14-v2, we'll reuse it as is.\n",
      "You already have a cluster named nas-gpu-cluster-NC6, we'll reuse it as is.\n"
     ]
    }
   ],
   "source": [
    "# Create cpu cluster for running the search\n",
    "cpu_compute_name = \"nas-cpu-cluster-D14-v2\"\n",
    "aml_helper.create_compute_cluster(ml_client, cpu_compute_name, size=\"Standard_D14_v2\", location=\"westus2\")\n",
    "\n",
    "# Create gpu cluster for running the search\n",
    "gpu_compute_name = \"nas-gpu-cluster-NC6\"\n",
    "aml_helper.create_compute_cluster(ml_client, gpu_compute_name, size=\"Standard_NC6\", location=\"westus2\", max_instances=8)"
   ]
  },
  {
   "attachments": {},
   "cell_type": "markdown",
   "metadata": {},
   "source": [
    "Create the AML Environment from our conda.yaml file.  This ensures our conda environment contains the Archai framework that we are using here."
   ]
  },
  {
   "cell_type": "code",
   "execution_count": 5,
   "metadata": {},
   "outputs": [
    {
     "name": "stdout",
     "output_type": "stream",
     "text": [
      "Environment with name aml-archai is registered to workspace, the environment version is 0.1.8\n",
      "aml-archai:0.1.8\n"
     ]
    }
   ],
   "source": [
    "archai_job_env = aml_helper.create_environment_from_file(ml_client, conda_file=\"conda.yaml\", version='0.1.8')\n",
    "environment_name = f\"{archai_job_env.name}:{archai_job_env.version}\"\n",
    "print(environment_name)"
   ]
  },
  {
   "attachments": {},
   "cell_type": "markdown",
   "metadata": {},
   "source": [
    "Ensure our storage account is setup with a `models` blob store container for storing the final onnx models, a `datasets` blob store for our training dataset and a `status` storage table."
   ]
  },
  {
   "cell_type": "code",
   "execution_count": 6,
   "metadata": {},
   "outputs": [],
   "source": [
    "from store import ArchaiStore\n",
    "\n",
    "# Register the datastore with AML\n",
    "data_store_name = \"datasets\"\n",
    "data_container_name = \"datasets\"\n",
    "model_store_name = \"models\"\n",
    "model_container_name = \"models\"\n",
    "root_folder = experiment_name\n",
    "\n",
    "# make sure the datasets container exists\n",
    "store = ArchaiStore(storage_account_name, storage_account_key, blob_container_name=data_container_name)\n",
    "store.upload_blob(root_folder, config_file)\n",
    "\n",
    "# make sure the models container exists\n",
    "store = ArchaiStore(storage_account_name, storage_account_key, blob_container_name=model_container_name)\n",
    "store.upload_blob(\"config\", config_file)\n",
    "\n",
    "datastore_path = f'azureml://datastores/{data_store_name}/paths/{root_folder}'\n",
    "results_path = f'azureml://datastores/{model_store_name}/paths/{root_folder}'"
   ]
  },
  {
   "attachments": {},
   "cell_type": "markdown",
   "metadata": {},
   "source": [
    "Register the `models` blob store container in the ML workspace `datastores`"
   ]
  },
  {
   "cell_type": "code",
   "execution_count": 7,
   "metadata": {},
   "outputs": [],
   "source": [
    "from azure.ai.ml.entities import AzureBlobDatastore\n",
    "from azure.ai.ml.entities._credentials import AccountKeyConfiguration\n",
    "\n",
    "try:\n",
    "    model_store = ml_client.datastores.get(model_store_name)\n",
    "except:    \n",
    "    model_store = AzureBlobDatastore(\n",
    "        name=model_store_name,\n",
    "        description=\"Datastore pointing to our models blob container.\",\n",
    "        account_name=storage_account_name,\n",
    "        container_name=model_container_name,\n",
    "        credentials=AccountKeyConfiguration(\n",
    "            account_key=storage_account_key\n",
    "        ),\n",
    "    )\n",
    "\n",
    "    ml_client.create_or_update(model_store)"
   ]
  },
  {
   "attachments": {},
   "cell_type": "markdown",
   "metadata": {},
   "source": [
    "Register the `datasets` blob store container in the ML workspace `datastores`"
   ]
  },
  {
   "cell_type": "code",
   "execution_count": 8,
   "metadata": {},
   "outputs": [],
   "source": [
    "try:\n",
    "    data_store = ml_client.datastores.get(data_store_name)\n",
    "except:\n",
    "    data_store = AzureBlobDatastore(\n",
    "        name=data_store_name,\n",
    "        description=\"Datastore pointing to our dataset container.\",\n",
    "        account_name=storage_account_name,\n",
    "        container_name=data_container_name,\n",
    "        credentials=AccountKeyConfiguration(\n",
    "            account_key=storage_account_key\n",
    "        ),\n",
    "    )\n",
    "\n",
    "    ml_client.create_or_update(data_store)"
   ]
  },
  {
   "attachments": {},
   "cell_type": "markdown",
   "metadata": {},
   "source": [
    "Create a pipeline command that prepares our training dataset using `prep_data_store.py`.  This pipeline will write the output do our `datasets` blob store so the training jobs can find the dataset there all ready to go.  That way each training job doesn't have to repeat the download and preparation of the dataset."
   ]
  },
  {
   "cell_type": "code",
   "execution_count": 9,
   "metadata": {},
   "outputs": [],
   "source": [
    "from azure.ai.ml import command\n",
    "from azure.ai.ml import Input, Output\n",
    "\n",
    "data_prep_component = command(\n",
    "    name=\"data_prep2\",\n",
    "    display_name=\"Data preparation for training\",\n",
    "    description=\"Downloads the remote dataset to our blob store.\",  \n",
    "    inputs= {\n",
    "        \"name\": Input(type='string')\n",
    "    },\n",
    "    outputs= {\n",
    "        \"data\": Output(type=\"uri_folder\", path=datastore_path, mode=\"rw_mount\")\n",
    "    },\n",
    "\n",
    "    # The source folder of the component\n",
    "    code=data_scripts_dir,\n",
    "    command=\"\"\"python3 prep_data_store.py \\\n",
    "            --path ${{outputs.data}} \\\n",
    "            \"\"\",\n",
    "    environment=environment_name,\n",
    ")"
   ]
  },
  {
   "attachments": {},
   "cell_type": "markdown",
   "metadata": {},
   "source": [
    "Create a command that kicks off the Archai Search using `search.py`, it will take the dataset as input so it can pass it along to the training jobs later on.  It also produces some search output files, .png charts, and json results files which will also go into our `models` blob store under the folder named the same as our `experiment_name`."
   ]
  },
  {
   "cell_type": "code",
   "execution_count": 10,
   "metadata": {},
   "outputs": [
    {
     "name": "stdout",
     "output_type": "stream",
     "text": [
      "--data_dir azureml://datastores/datasets/paths/mnist_test_run --output_dir azureml://datastores/models/paths/mnist_test_run/mnist_test_run --environment \"aml-archai:0.1.8\" --experiment \"mnist_test_run\" --compute \"nas-gpu-cluster-NC6\" --config \"7b22737562736372697074696f6e5f6964223a202263386237663931332d363066622d343735392d613331302d666335363330653536663939222c20227265736f757263655f67726f7570223a2022736e70652d616d6c2d7267222c2022776f726b73706163655f6e616d65223a2022736e70652d616d6c2d776f726b7370616365222c2022696f745f7265736f757263655f67726f7570223a2022736e70652d6465766963652d6875622d7267222c2022696f745f6875625f6e616d65223a20224d7372536e7065446576696365487562222c20226c6f636174696f6e223a202277657374757332222c202273746f726167655f6163636f756e745f6b6579223a202279485a4459454c3045774a65754c54517747395047713867564f6d78777031593836686e54367239735732666659535967686f4c496a694973712f4353454e45766471785a78546b713872482b4153747548445944773d3d222c202273746f726167655f6163636f756e745f6e616d65223a20226172636861696d6e6973746d6f64656c73227d\" --search_iterations 5 --init_num_models 10 --max_unseen_population 16 --partial_training_epochs 0.1 \n"
     ]
    }
   ],
   "source": [
    "hex_config = bytes(json.dumps(config), encoding='utf-8').hex()\n",
    "\n",
    "partial_epochs = 0.1\n",
    "max_unseen_population = 16  # best if this is an even multiple our gpu cluster size, we'll get much better throughput.\n",
    "search_iterations = 5  # for quick debugging.\n",
    "init_num_models = 10\n",
    "\n",
    "output_path = results_path + '/' + experiment_name\n",
    "fixed_args = f'--data_dir {datastore_path} ' + \\\n",
    "             f'--output_dir {output_path} ' + \\\n",
    "             f'--environment \"{environment_name}\" ' + \\\n",
    "             f'--experiment \"{experiment_name}\" ' + \\\n",
    "             f'--compute \"{gpu_compute_name}\" ' + \\\n",
    "             f'--config \"{hex_config}\" ' + \\\n",
    "             f'--search_iterations {search_iterations} ' + \\\n",
    "             f'--init_num_models {init_num_models} ' + \\\n",
    "             f'--max_unseen_population {max_unseen_population} ' + \\\n",
    "             f'--partial_training_epochs {partial_epochs} '\n",
    "\n",
    "print(fixed_args)\n",
    "\n",
    "search_component = command(\n",
    "    name=\"search\",\n",
    "    display_name=\"The Archai NAS search\",\n",
    "    description=\"Runs the NAS search algorithm.\",    \n",
    "    is_deterministic=False,\n",
    "    inputs= {\n",
    "        \"data\": Input(type=\"uri_folder\")\n",
    "    },\n",
    "    outputs= {\n",
    "        \"results\": Output(type=\"uri_folder\", path=output_path, mode=\"rw_mount\")\n",
    "    },\n",
    "    code=scripts_dir,\n",
    "    identity= UserIdentityConfiguration(),\n",
    "    command='python3 search.py --local_output ${{outputs.results}} ' + \\\n",
    "        fixed_args,\n",
    "    environment=environment_name,\n",
    ")"
   ]
  },
  {
   "attachments": {},
   "cell_type": "markdown",
   "metadata": {},
   "source": [
    "This creates a command that kicks off the full training on the final list of great models produced by the above search command."
   ]
  },
  {
   "cell_type": "code",
   "execution_count": 11,
   "metadata": {},
   "outputs": [],
   "source": [
    "from commands import make_training_pipeline_command, make_monitor_command\n",
    "full_epochs = 10\n",
    "timeout = 3600\n",
    "hex_config = bytes(json.dumps(config), encoding='utf-8').hex()\n",
    "\n",
    "full_training_component = make_training_pipeline_command(\n",
    "    \"Full Training Pipeline\", hex_config, scripts_dir, gpu_compute_name, \n",
    "    datastore_path, output_path, experiment_name, environment_name, full_epochs, save_models=True)\n",
    "                                                 \n",
    "monitor_component = make_monitor_command(hex_config, scripts_dir, results_path, environment_name, timeout)"
   ]
  },
  {
   "attachments": {},
   "cell_type": "markdown",
   "metadata": {},
   "source": [
    "Create an AML pipeline with the data prep and search components piping the output of the data prep to the search component. Then finish with a full training job of the final top models using a dynamic subgraph."
   ]
  },
  {
   "cell_type": "code",
   "execution_count": 12,
   "metadata": {},
   "outputs": [],
   "source": [
    "from azure.ai.ml import dsl\n",
    "\n",
    "@dsl.pipeline(\n",
    "    compute=cpu_compute_name,\n",
    "    description=\"Archai search pipeline\",\n",
    ")\n",
    "def archai_search_pipeline():\n",
    "    \n",
    "    data_prep_job = data_prep_component(\n",
    "        name=\"MNIST\"\n",
    "    )\n",
    "\n",
    "    search_job = search_component(\n",
    "        data=data_prep_job.outputs.data\n",
    "    )\n",
    "    \n",
    "    training_job = full_training_component(\n",
    "        models=search_job.outputs.results,\n",
    "        data=data_prep_job.outputs.data\n",
    "    )\n",
    "\n",
    "    monitor_job = monitor_component(\n",
    "        models=search_job.outputs.results,\n",
    "        training_results=training_job.outputs.results\n",
    "    )\n",
    "\n",
    "    return {\n",
    "        \"results\": monitor_job.outputs.results\n",
    "    }\n"
   ]
  },
  {
   "attachments": {},
   "cell_type": "markdown",
   "metadata": {},
   "source": [
    "Run the search pipeline"
   ]
  },
  {
   "cell_type": "code",
   "execution_count": 13,
   "metadata": {},
   "outputs": [
    {
     "name": "stderr",
     "output_type": "stream",
     "text": [
      "\u001b[32mUploading scripts (66.61 MBs): 100%|##########| 66612893/66612893 [00:22<00:00, 2922017.11it/s]\n",
      "\u001b[39m\n",
      "\n"
     ]
    }
   ],
   "source": [
    "# submit the pipeline job\n",
    "pipeline_job = ml_client.jobs.create_or_update(\n",
    "    archai_search_pipeline(),\n",
    "    # Project's name\n",
    "    experiment_name=experiment_name,\n",
    ")"
   ]
  },
  {
   "attachments": {},
   "cell_type": "markdown",
   "metadata": {},
   "source": [
    "Open the pipeline azure ML studio portal in your web browser (This works when you are running this notbook in VS code)."
   ]
  },
  {
   "cell_type": "code",
   "execution_count": 14,
   "metadata": {},
   "outputs": [
    {
     "name": "stdout",
     "output_type": "stream",
     "text": [
      "Started pipeline: loyal_truck_jb7gkgss6k\n"
     ]
    }
   ],
   "source": [
    "import webbrowser\n",
    "webbrowser.open(pipeline_job.services[\"Studio\"].endpoint)\n",
    "\n",
    "job_name = pipeline_job.name\n",
    "print(f'Started pipeline: {job_name}')"
   ]
  },
  {
   "cell_type": "code",
   "execution_count": 15,
   "metadata": {},
   "outputs": [],
   "source": [
    "# you can fetch any pipeline job again if you needed to continue this notebook later:\n",
    "from azure.ai.ml import dsl, Input, Output\n",
    "# job_name = 'loyal_truck_jb7gkgss6k'\n",
    "pipeline_job = ml_client.jobs.get(job_name)"
   ]
  },
  {
   "attachments": {},
   "cell_type": "markdown",
   "metadata": {},
   "source": [
    "## Plots\n",
    "\n",
    "Take a look at the pareto curve plots.  This cell can be run multiple times and you will see updates as each iteration finishes.\n",
    "You can even run this later after restarting the jupyter notebook because it is not dependent on variable state it is only\n",
    "dependent on the persistent 'models' blob store."
   ]
  },
  {
   "cell_type": "code",
   "execution_count": 16,
   "metadata": {},
   "outputs": [
    {
     "name": "stdout",
     "output_type": "stream",
     "text": [
      "Fetching results for mnist_test_run...\n",
      "Downloading file: archai.log to D:\\git\\microsoft\\archai\\archai\\docs\\advanced_guide\\cloud\\azure\\notebooks\\multi_node_search\\mnist_test_run\\archai.log ...\n",
      "Downloading file: models.json to D:\\git\\microsoft\\archai\\archai\\docs\\advanced_guide\\cloud\\azure\\notebooks\\multi_node_search\\mnist_test_run\\models.json ...\n",
      "Downloading file: pareto.json to D:\\git\\microsoft\\archai\\archai\\docs\\advanced_guide\\cloud\\azure\\notebooks\\multi_node_search\\mnist_test_run\\pareto.json ...\n",
      "Downloading file: pareto_FLOPs_vs_AmlTrainingValAccuracy.png to D:\\git\\microsoft\\archai\\archai\\docs\\advanced_guide\\cloud\\azure\\notebooks\\multi_node_search\\mnist_test_run\\pareto_FLOPs_vs_AmlTrainingValAccuracy.png ...\n",
      "Downloading file: pareto_ONNX_Latency_ms_vs_AmlTrainingValAccuracy.png to D:\\git\\microsoft\\archai\\archai\\docs\\advanced_guide\\cloud\\azure\\notebooks\\multi_node_search\\mnist_test_run\\pareto_ONNX_Latency_ms_vs_AmlTrainingValAccuracy.png ...\n",
      "Downloading file: pareto_ONNX_Latency_ms_vs_FLOPs.png to D:\\git\\microsoft\\archai\\archai\\docs\\advanced_guide\\cloud\\azure\\notebooks\\multi_node_search\\mnist_test_run\\pareto_ONNX_Latency_ms_vs_FLOPs.png ...\n",
      "Downloading file: pareto_models_iter_1 to D:\\git\\microsoft\\archai\\archai\\docs\\advanced_guide\\cloud\\azure\\notebooks\\multi_node_search\\mnist_test_run\\pareto_models_iter_1 ...\n",
      "Downloading file: pareto_models_iter_1/16e0a58350be6c79c8ca41c393794941dfdd09c0.json to D:\\git\\microsoft\\archai\\archai\\docs\\advanced_guide\\cloud\\azure\\notebooks\\multi_node_search\\mnist_test_run\\pareto_models_iter_1\\16e0a58350be6c79c8ca41c393794941dfdd09c0.json ...\n",
      "Downloading file: pareto_models_iter_1/195dd9f8e55b4441ecc584ef98fd897c6b5fee92.json to D:\\git\\microsoft\\archai\\archai\\docs\\advanced_guide\\cloud\\azure\\notebooks\\multi_node_search\\mnist_test_run\\pareto_models_iter_1\\195dd9f8e55b4441ecc584ef98fd897c6b5fee92.json ...\n",
      "Downloading file: pareto_models_iter_1/1bd9680dbc845d92f623aee22bd288e1a29bf2cd.json to D:\\git\\microsoft\\archai\\archai\\docs\\advanced_guide\\cloud\\azure\\notebooks\\multi_node_search\\mnist_test_run\\pareto_models_iter_1\\1bd9680dbc845d92f623aee22bd288e1a29bf2cd.json ...\n",
      "Downloading file: pareto_models_iter_1/1d8448d23eff8288798e0f0f855c6d25115f737c.json to D:\\git\\microsoft\\archai\\archai\\docs\\advanced_guide\\cloud\\azure\\notebooks\\multi_node_search\\mnist_test_run\\pareto_models_iter_1\\1d8448d23eff8288798e0f0f855c6d25115f737c.json ...\n",
      "Downloading file: pareto_models_iter_1/2641726b76b7908a0f9c629177dac01c43875d3e.json to D:\\git\\microsoft\\archai\\archai\\docs\\advanced_guide\\cloud\\azure\\notebooks\\multi_node_search\\mnist_test_run\\pareto_models_iter_1\\2641726b76b7908a0f9c629177dac01c43875d3e.json ...\n",
      "Downloading file: pareto_models_iter_1/33e4047803c5dbfe2cd0af9ca86529a31f1a34cc.json to D:\\git\\microsoft\\archai\\archai\\docs\\advanced_guide\\cloud\\azure\\notebooks\\multi_node_search\\mnist_test_run\\pareto_models_iter_1\\33e4047803c5dbfe2cd0af9ca86529a31f1a34cc.json ...\n",
      "Downloading file: pareto_models_iter_1/49c52b993025991abc11194970084cbddae60cc9.json to D:\\git\\microsoft\\archai\\archai\\docs\\advanced_guide\\cloud\\azure\\notebooks\\multi_node_search\\mnist_test_run\\pareto_models_iter_1\\49c52b993025991abc11194970084cbddae60cc9.json ...\n",
      "Downloading file: pareto_models_iter_1/821b0e0fcbdc144ae4c223c7c9291727e2413485.json to D:\\git\\microsoft\\archai\\archai\\docs\\advanced_guide\\cloud\\azure\\notebooks\\multi_node_search\\mnist_test_run\\pareto_models_iter_1\\821b0e0fcbdc144ae4c223c7c9291727e2413485.json ...\n",
      "Downloading file: pareto_models_iter_1/ab6bde48d77e42f2559ac070e36904ae6b1c0f2b.json to D:\\git\\microsoft\\archai\\archai\\docs\\advanced_guide\\cloud\\azure\\notebooks\\multi_node_search\\mnist_test_run\\pareto_models_iter_1\\ab6bde48d77e42f2559ac070e36904ae6b1c0f2b.json ...\n",
      "Downloading file: pareto_models_iter_1/acbe4f76a7aaf7444125b7f7c81ac9eb2054868b.json to D:\\git\\microsoft\\archai\\archai\\docs\\advanced_guide\\cloud\\azure\\notebooks\\multi_node_search\\mnist_test_run\\pareto_models_iter_1\\acbe4f76a7aaf7444125b7f7c81ac9eb2054868b.json ...\n",
      "Downloading file: pareto_models_iter_1/c11b3549c49c1c58af2d6b7e2ed8e4f929ba4123.json to D:\\git\\microsoft\\archai\\archai\\docs\\advanced_guide\\cloud\\azure\\notebooks\\multi_node_search\\mnist_test_run\\pareto_models_iter_1\\c11b3549c49c1c58af2d6b7e2ed8e4f929ba4123.json ...\n",
      "Downloading file: pareto_models_iter_1/cc3bfa8581c8aec6f6faba274e0dba8b66c7286c.json to D:\\git\\microsoft\\archai\\archai\\docs\\advanced_guide\\cloud\\azure\\notebooks\\multi_node_search\\mnist_test_run\\pareto_models_iter_1\\cc3bfa8581c8aec6f6faba274e0dba8b66c7286c.json ...\n",
      "Downloading file: pareto_models_iter_1/e93feda07c620ff5cd6abff6734ce757580f75f5.json to D:\\git\\microsoft\\archai\\archai\\docs\\advanced_guide\\cloud\\azure\\notebooks\\multi_node_search\\mnist_test_run\\pareto_models_iter_1\\e93feda07c620ff5cd6abff6734ce757580f75f5.json ...\n",
      "Downloading file: pareto_models_iter_1/f054c49b6bee62288d8057f642794f68e108246c.json to D:\\git\\microsoft\\archai\\archai\\docs\\advanced_guide\\cloud\\azure\\notebooks\\multi_node_search\\mnist_test_run\\pareto_models_iter_1\\f054c49b6bee62288d8057f642794f68e108246c.json ...\n",
      "Downloading file: pareto_models_iter_2 to D:\\git\\microsoft\\archai\\archai\\docs\\advanced_guide\\cloud\\azure\\notebooks\\multi_node_search\\mnist_test_run\\pareto_models_iter_2 ...\n",
      "Downloading file: pareto_models_iter_2/16e0a58350be6c79c8ca41c393794941dfdd09c0.json to D:\\git\\microsoft\\archai\\archai\\docs\\advanced_guide\\cloud\\azure\\notebooks\\multi_node_search\\mnist_test_run\\pareto_models_iter_2\\16e0a58350be6c79c8ca41c393794941dfdd09c0.json ...\n",
      "Downloading file: pareto_models_iter_2/195dd9f8e55b4441ecc584ef98fd897c6b5fee92.json to D:\\git\\microsoft\\archai\\archai\\docs\\advanced_guide\\cloud\\azure\\notebooks\\multi_node_search\\mnist_test_run\\pareto_models_iter_2\\195dd9f8e55b4441ecc584ef98fd897c6b5fee92.json ...\n",
      "Downloading file: pareto_models_iter_2/1bd9680dbc845d92f623aee22bd288e1a29bf2cd.json to D:\\git\\microsoft\\archai\\archai\\docs\\advanced_guide\\cloud\\azure\\notebooks\\multi_node_search\\mnist_test_run\\pareto_models_iter_2\\1bd9680dbc845d92f623aee22bd288e1a29bf2cd.json ...\n",
      "Downloading file: pareto_models_iter_2/1d8448d23eff8288798e0f0f855c6d25115f737c.json to D:\\git\\microsoft\\archai\\archai\\docs\\advanced_guide\\cloud\\azure\\notebooks\\multi_node_search\\mnist_test_run\\pareto_models_iter_2\\1d8448d23eff8288798e0f0f855c6d25115f737c.json ...\n",
      "Downloading file: pareto_models_iter_2/23c94c578e1447e6f9623113f22b08411cd54781.json to D:\\git\\microsoft\\archai\\archai\\docs\\advanced_guide\\cloud\\azure\\notebooks\\multi_node_search\\mnist_test_run\\pareto_models_iter_2\\23c94c578e1447e6f9623113f22b08411cd54781.json ...\n",
      "Downloading file: pareto_models_iter_2/2641726b76b7908a0f9c629177dac01c43875d3e.json to D:\\git\\microsoft\\archai\\archai\\docs\\advanced_guide\\cloud\\azure\\notebooks\\multi_node_search\\mnist_test_run\\pareto_models_iter_2\\2641726b76b7908a0f9c629177dac01c43875d3e.json ...\n",
      "Downloading file: pareto_models_iter_2/2cd19afd5bfd5d023454471fc9bf2dcd4ab37c8f.json to D:\\git\\microsoft\\archai\\archai\\docs\\advanced_guide\\cloud\\azure\\notebooks\\multi_node_search\\mnist_test_run\\pareto_models_iter_2\\2cd19afd5bfd5d023454471fc9bf2dcd4ab37c8f.json ...\n",
      "Downloading file: pareto_models_iter_2/302284a3fc8fec9a465645f7601b1b2968deefca.json to D:\\git\\microsoft\\archai\\archai\\docs\\advanced_guide\\cloud\\azure\\notebooks\\multi_node_search\\mnist_test_run\\pareto_models_iter_2\\302284a3fc8fec9a465645f7601b1b2968deefca.json ...\n",
      "Downloading file: pareto_models_iter_2/33e4047803c5dbfe2cd0af9ca86529a31f1a34cc.json to D:\\git\\microsoft\\archai\\archai\\docs\\advanced_guide\\cloud\\azure\\notebooks\\multi_node_search\\mnist_test_run\\pareto_models_iter_2\\33e4047803c5dbfe2cd0af9ca86529a31f1a34cc.json ...\n",
      "Downloading file: pareto_models_iter_2/3a07ce71ad63d5820dea60056adb1ae4951c41fd.json to D:\\git\\microsoft\\archai\\archai\\docs\\advanced_guide\\cloud\\azure\\notebooks\\multi_node_search\\mnist_test_run\\pareto_models_iter_2\\3a07ce71ad63d5820dea60056adb1ae4951c41fd.json ...\n",
      "Downloading file: pareto_models_iter_2/49c52b993025991abc11194970084cbddae60cc9.json to D:\\git\\microsoft\\archai\\archai\\docs\\advanced_guide\\cloud\\azure\\notebooks\\multi_node_search\\mnist_test_run\\pareto_models_iter_2\\49c52b993025991abc11194970084cbddae60cc9.json ...\n",
      "Downloading file: pareto_models_iter_2/5d23bc8e70b56a1155f63aeb862b75906a8aa1d7.json to D:\\git\\microsoft\\archai\\archai\\docs\\advanced_guide\\cloud\\azure\\notebooks\\multi_node_search\\mnist_test_run\\pareto_models_iter_2\\5d23bc8e70b56a1155f63aeb862b75906a8aa1d7.json ...\n",
      "Downloading file: pareto_models_iter_2/61cd48d955413358832cd6787d1da19b82d1d824.json to D:\\git\\microsoft\\archai\\archai\\docs\\advanced_guide\\cloud\\azure\\notebooks\\multi_node_search\\mnist_test_run\\pareto_models_iter_2\\61cd48d955413358832cd6787d1da19b82d1d824.json ...\n",
      "Downloading file: pareto_models_iter_2/65c17a87e5e2f06ec7aff7e3e940d0c41f286137.json to D:\\git\\microsoft\\archai\\archai\\docs\\advanced_guide\\cloud\\azure\\notebooks\\multi_node_search\\mnist_test_run\\pareto_models_iter_2\\65c17a87e5e2f06ec7aff7e3e940d0c41f286137.json ...\n",
      "Downloading file: pareto_models_iter_2/76bb13ffb40c1715f3089bbccdaa47929e190a1b.json to D:\\git\\microsoft\\archai\\archai\\docs\\advanced_guide\\cloud\\azure\\notebooks\\multi_node_search\\mnist_test_run\\pareto_models_iter_2\\76bb13ffb40c1715f3089bbccdaa47929e190a1b.json ...\n",
      "Downloading file: pareto_models_iter_2/781f6db586b52471d12e036a1f1134cea4b40ec9.json to D:\\git\\microsoft\\archai\\archai\\docs\\advanced_guide\\cloud\\azure\\notebooks\\multi_node_search\\mnist_test_run\\pareto_models_iter_2\\781f6db586b52471d12e036a1f1134cea4b40ec9.json ...\n",
      "Downloading file: pareto_models_iter_2/821b0e0fcbdc144ae4c223c7c9291727e2413485.json to D:\\git\\microsoft\\archai\\archai\\docs\\advanced_guide\\cloud\\azure\\notebooks\\multi_node_search\\mnist_test_run\\pareto_models_iter_2\\821b0e0fcbdc144ae4c223c7c9291727e2413485.json ...\n",
      "Downloading file: pareto_models_iter_2/8e102049a7ee79dcdc1bf8834aef414ac3709a41.json to D:\\git\\microsoft\\archai\\archai\\docs\\advanced_guide\\cloud\\azure\\notebooks\\multi_node_search\\mnist_test_run\\pareto_models_iter_2\\8e102049a7ee79dcdc1bf8834aef414ac3709a41.json ...\n",
      "Downloading file: pareto_models_iter_2/a938fdf4ccd1af64da359b356a764d0a10536602.json to D:\\git\\microsoft\\archai\\archai\\docs\\advanced_guide\\cloud\\azure\\notebooks\\multi_node_search\\mnist_test_run\\pareto_models_iter_2\\a938fdf4ccd1af64da359b356a764d0a10536602.json ...\n",
      "Downloading file: pareto_models_iter_2/ab6bde48d77e42f2559ac070e36904ae6b1c0f2b.json to D:\\git\\microsoft\\archai\\archai\\docs\\advanced_guide\\cloud\\azure\\notebooks\\multi_node_search\\mnist_test_run\\pareto_models_iter_2\\ab6bde48d77e42f2559ac070e36904ae6b1c0f2b.json ...\n",
      "Downloading file: pareto_models_iter_2/bbfc8727f72bf92775a065df8919fe0f171cc3bd.json to D:\\git\\microsoft\\archai\\archai\\docs\\advanced_guide\\cloud\\azure\\notebooks\\multi_node_search\\mnist_test_run\\pareto_models_iter_2\\bbfc8727f72bf92775a065df8919fe0f171cc3bd.json ...\n",
      "Downloading file: pareto_models_iter_2/be7841a9c073b73f16f5ec65b6fa03f546a6d936.json to D:\\git\\microsoft\\archai\\archai\\docs\\advanced_guide\\cloud\\azure\\notebooks\\multi_node_search\\mnist_test_run\\pareto_models_iter_2\\be7841a9c073b73f16f5ec65b6fa03f546a6d936.json ...\n",
      "Downloading file: pareto_models_iter_2/c11b3549c49c1c58af2d6b7e2ed8e4f929ba4123.json to D:\\git\\microsoft\\archai\\archai\\docs\\advanced_guide\\cloud\\azure\\notebooks\\multi_node_search\\mnist_test_run\\pareto_models_iter_2\\c11b3549c49c1c58af2d6b7e2ed8e4f929ba4123.json ...\n",
      "Downloading file: pareto_models_iter_2/cc3bfa8581c8aec6f6faba274e0dba8b66c7286c.json to D:\\git\\microsoft\\archai\\archai\\docs\\advanced_guide\\cloud\\azure\\notebooks\\multi_node_search\\mnist_test_run\\pareto_models_iter_2\\cc3bfa8581c8aec6f6faba274e0dba8b66c7286c.json ...\n",
      "Downloading file: pareto_models_iter_2/d62d2ddd5af77537a26ca9d1e8b924a79029db06.json to D:\\git\\microsoft\\archai\\archai\\docs\\advanced_guide\\cloud\\azure\\notebooks\\multi_node_search\\mnist_test_run\\pareto_models_iter_2\\d62d2ddd5af77537a26ca9d1e8b924a79029db06.json ...\n",
      "Downloading file: pareto_models_iter_2/e0c26f1fa6f1e51822d0f496e899d9c415050dc9.json to D:\\git\\microsoft\\archai\\archai\\docs\\advanced_guide\\cloud\\azure\\notebooks\\multi_node_search\\mnist_test_run\\pareto_models_iter_2\\e0c26f1fa6f1e51822d0f496e899d9c415050dc9.json ...\n",
      "Downloading file: pareto_models_iter_2/e93feda07c620ff5cd6abff6734ce757580f75f5.json to D:\\git\\microsoft\\archai\\archai\\docs\\advanced_guide\\cloud\\azure\\notebooks\\multi_node_search\\mnist_test_run\\pareto_models_iter_2\\e93feda07c620ff5cd6abff6734ce757580f75f5.json ...\n",
      "Downloading file: pareto_models_iter_2/f054c49b6bee62288d8057f642794f68e108246c.json to D:\\git\\microsoft\\archai\\archai\\docs\\advanced_guide\\cloud\\azure\\notebooks\\multi_node_search\\mnist_test_run\\pareto_models_iter_2\\f054c49b6bee62288d8057f642794f68e108246c.json ...\n",
      "Downloading file: pareto_models_iter_3 to D:\\git\\microsoft\\archai\\archai\\docs\\advanced_guide\\cloud\\azure\\notebooks\\multi_node_search\\mnist_test_run\\pareto_models_iter_3 ...\n",
      "Downloading file: pareto_models_iter_3/0580140451595a97cba5014fe430dce1f6924e2e.json to D:\\git\\microsoft\\archai\\archai\\docs\\advanced_guide\\cloud\\azure\\notebooks\\multi_node_search\\mnist_test_run\\pareto_models_iter_3\\0580140451595a97cba5014fe430dce1f6924e2e.json ...\n",
      "Downloading file: pareto_models_iter_3/0e1ab9cac1c20c0461c8ff321e2fbd3fc1e3637a.json to D:\\git\\microsoft\\archai\\archai\\docs\\advanced_guide\\cloud\\azure\\notebooks\\multi_node_search\\mnist_test_run\\pareto_models_iter_3\\0e1ab9cac1c20c0461c8ff321e2fbd3fc1e3637a.json ...\n",
      "Downloading file: pareto_models_iter_3/14da00a0fd07ab84c73235a5d9fcdc3a36139bfd.json to D:\\git\\microsoft\\archai\\archai\\docs\\advanced_guide\\cloud\\azure\\notebooks\\multi_node_search\\mnist_test_run\\pareto_models_iter_3\\14da00a0fd07ab84c73235a5d9fcdc3a36139bfd.json ...\n",
      "Downloading file: pareto_models_iter_3/16e0a58350be6c79c8ca41c393794941dfdd09c0.json to D:\\git\\microsoft\\archai\\archai\\docs\\advanced_guide\\cloud\\azure\\notebooks\\multi_node_search\\mnist_test_run\\pareto_models_iter_3\\16e0a58350be6c79c8ca41c393794941dfdd09c0.json ...\n",
      "Downloading file: pareto_models_iter_3/195dd9f8e55b4441ecc584ef98fd897c6b5fee92.json to D:\\git\\microsoft\\archai\\archai\\docs\\advanced_guide\\cloud\\azure\\notebooks\\multi_node_search\\mnist_test_run\\pareto_models_iter_3\\195dd9f8e55b4441ecc584ef98fd897c6b5fee92.json ...\n",
      "Downloading file: pareto_models_iter_3/1d8448d23eff8288798e0f0f855c6d25115f737c.json to D:\\git\\microsoft\\archai\\archai\\docs\\advanced_guide\\cloud\\azure\\notebooks\\multi_node_search\\mnist_test_run\\pareto_models_iter_3\\1d8448d23eff8288798e0f0f855c6d25115f737c.json ...\n",
      "Downloading file: pareto_models_iter_3/1eb0e2679af1d371995981f17e46f3f90bcb8e5c.json to D:\\git\\microsoft\\archai\\archai\\docs\\advanced_guide\\cloud\\azure\\notebooks\\multi_node_search\\mnist_test_run\\pareto_models_iter_3\\1eb0e2679af1d371995981f17e46f3f90bcb8e5c.json ...\n",
      "Downloading file: pareto_models_iter_3/1f451461994a8cf8de889c161420a387c5c609e8.json to D:\\git\\microsoft\\archai\\archai\\docs\\advanced_guide\\cloud\\azure\\notebooks\\multi_node_search\\mnist_test_run\\pareto_models_iter_3\\1f451461994a8cf8de889c161420a387c5c609e8.json ...\n",
      "Downloading file: pareto_models_iter_3/23c94c578e1447e6f9623113f22b08411cd54781.json to D:\\git\\microsoft\\archai\\archai\\docs\\advanced_guide\\cloud\\azure\\notebooks\\multi_node_search\\mnist_test_run\\pareto_models_iter_3\\23c94c578e1447e6f9623113f22b08411cd54781.json ...\n",
      "Downloading file: pareto_models_iter_3/2641726b76b7908a0f9c629177dac01c43875d3e.json to D:\\git\\microsoft\\archai\\archai\\docs\\advanced_guide\\cloud\\azure\\notebooks\\multi_node_search\\mnist_test_run\\pareto_models_iter_3\\2641726b76b7908a0f9c629177dac01c43875d3e.json ...\n",
      "Downloading file: pareto_models_iter_3/2cd19afd5bfd5d023454471fc9bf2dcd4ab37c8f.json to D:\\git\\microsoft\\archai\\archai\\docs\\advanced_guide\\cloud\\azure\\notebooks\\multi_node_search\\mnist_test_run\\pareto_models_iter_3\\2cd19afd5bfd5d023454471fc9bf2dcd4ab37c8f.json ...\n",
      "Downloading file: pareto_models_iter_3/302284a3fc8fec9a465645f7601b1b2968deefca.json to D:\\git\\microsoft\\archai\\archai\\docs\\advanced_guide\\cloud\\azure\\notebooks\\multi_node_search\\mnist_test_run\\pareto_models_iter_3\\302284a3fc8fec9a465645f7601b1b2968deefca.json ...\n",
      "Downloading file: pareto_models_iter_3/33e4047803c5dbfe2cd0af9ca86529a31f1a34cc.json to D:\\git\\microsoft\\archai\\archai\\docs\\advanced_guide\\cloud\\azure\\notebooks\\multi_node_search\\mnist_test_run\\pareto_models_iter_3\\33e4047803c5dbfe2cd0af9ca86529a31f1a34cc.json ...\n",
      "Downloading file: pareto_models_iter_3/3ac5b3c1c42d07f5aef7b85de69a0d130bfcf98d.json to D:\\git\\microsoft\\archai\\archai\\docs\\advanced_guide\\cloud\\azure\\notebooks\\multi_node_search\\mnist_test_run\\pareto_models_iter_3\\3ac5b3c1c42d07f5aef7b85de69a0d130bfcf98d.json ...\n",
      "Downloading file: pareto_models_iter_3/55893fa4bb5749d0d87aa7cdd5caf5e2f86d63da.json to D:\\git\\microsoft\\archai\\archai\\docs\\advanced_guide\\cloud\\azure\\notebooks\\multi_node_search\\mnist_test_run\\pareto_models_iter_3\\55893fa4bb5749d0d87aa7cdd5caf5e2f86d63da.json ...\n",
      "Downloading file: pareto_models_iter_3/5d23bc8e70b56a1155f63aeb862b75906a8aa1d7.json to D:\\git\\microsoft\\archai\\archai\\docs\\advanced_guide\\cloud\\azure\\notebooks\\multi_node_search\\mnist_test_run\\pareto_models_iter_3\\5d23bc8e70b56a1155f63aeb862b75906a8aa1d7.json ...\n",
      "Downloading file: pareto_models_iter_3/61cd48d955413358832cd6787d1da19b82d1d824.json to D:\\git\\microsoft\\archai\\archai\\docs\\advanced_guide\\cloud\\azure\\notebooks\\multi_node_search\\mnist_test_run\\pareto_models_iter_3\\61cd48d955413358832cd6787d1da19b82d1d824.json ...\n",
      "Downloading file: pareto_models_iter_3/64bfbf248bdc902c40dd93a51b202bfb29807f89.json to D:\\git\\microsoft\\archai\\archai\\docs\\advanced_guide\\cloud\\azure\\notebooks\\multi_node_search\\mnist_test_run\\pareto_models_iter_3\\64bfbf248bdc902c40dd93a51b202bfb29807f89.json ...\n",
      "Downloading file: pareto_models_iter_3/65c17a87e5e2f06ec7aff7e3e940d0c41f286137.json to D:\\git\\microsoft\\archai\\archai\\docs\\advanced_guide\\cloud\\azure\\notebooks\\multi_node_search\\mnist_test_run\\pareto_models_iter_3\\65c17a87e5e2f06ec7aff7e3e940d0c41f286137.json ...\n",
      "Downloading file: pareto_models_iter_3/76bb13ffb40c1715f3089bbccdaa47929e190a1b.json to D:\\git\\microsoft\\archai\\archai\\docs\\advanced_guide\\cloud\\azure\\notebooks\\multi_node_search\\mnist_test_run\\pareto_models_iter_3\\76bb13ffb40c1715f3089bbccdaa47929e190a1b.json ...\n",
      "Downloading file: pareto_models_iter_3/781f6db586b52471d12e036a1f1134cea4b40ec9.json to D:\\git\\microsoft\\archai\\archai\\docs\\advanced_guide\\cloud\\azure\\notebooks\\multi_node_search\\mnist_test_run\\pareto_models_iter_3\\781f6db586b52471d12e036a1f1134cea4b40ec9.json ...\n",
      "Downloading file: pareto_models_iter_3/821b0e0fcbdc144ae4c223c7c9291727e2413485.json to D:\\git\\microsoft\\archai\\archai\\docs\\advanced_guide\\cloud\\azure\\notebooks\\multi_node_search\\mnist_test_run\\pareto_models_iter_3\\821b0e0fcbdc144ae4c223c7c9291727e2413485.json ...\n",
      "Downloading file: pareto_models_iter_3/83afe08ccd54f398fa30bebf4261353cd40700ac.json to D:\\git\\microsoft\\archai\\archai\\docs\\advanced_guide\\cloud\\azure\\notebooks\\multi_node_search\\mnist_test_run\\pareto_models_iter_3\\83afe08ccd54f398fa30bebf4261353cd40700ac.json ...\n",
      "Downloading file: pareto_models_iter_3/9669c2aea09759159caa1025d79e82839c80e2b4.json to D:\\git\\microsoft\\archai\\archai\\docs\\advanced_guide\\cloud\\azure\\notebooks\\multi_node_search\\mnist_test_run\\pareto_models_iter_3\\9669c2aea09759159caa1025d79e82839c80e2b4.json ...\n",
      "Downloading file: pareto_models_iter_3/a938fdf4ccd1af64da359b356a764d0a10536602.json to D:\\git\\microsoft\\archai\\archai\\docs\\advanced_guide\\cloud\\azure\\notebooks\\multi_node_search\\mnist_test_run\\pareto_models_iter_3\\a938fdf4ccd1af64da359b356a764d0a10536602.json ...\n",
      "Downloading file: pareto_models_iter_3/ab6bde48d77e42f2559ac070e36904ae6b1c0f2b.json to D:\\git\\microsoft\\archai\\archai\\docs\\advanced_guide\\cloud\\azure\\notebooks\\multi_node_search\\mnist_test_run\\pareto_models_iter_3\\ab6bde48d77e42f2559ac070e36904ae6b1c0f2b.json ...\n",
      "Downloading file: pareto_models_iter_3/bbfc8727f72bf92775a065df8919fe0f171cc3bd.json to D:\\git\\microsoft\\archai\\archai\\docs\\advanced_guide\\cloud\\azure\\notebooks\\multi_node_search\\mnist_test_run\\pareto_models_iter_3\\bbfc8727f72bf92775a065df8919fe0f171cc3bd.json ...\n",
      "Downloading file: pareto_models_iter_3/be7841a9c073b73f16f5ec65b6fa03f546a6d936.json to D:\\git\\microsoft\\archai\\archai\\docs\\advanced_guide\\cloud\\azure\\notebooks\\multi_node_search\\mnist_test_run\\pareto_models_iter_3\\be7841a9c073b73f16f5ec65b6fa03f546a6d936.json ...\n",
      "Downloading file: pareto_models_iter_3/c11b3549c49c1c58af2d6b7e2ed8e4f929ba4123.json to D:\\git\\microsoft\\archai\\archai\\docs\\advanced_guide\\cloud\\azure\\notebooks\\multi_node_search\\mnist_test_run\\pareto_models_iter_3\\c11b3549c49c1c58af2d6b7e2ed8e4f929ba4123.json ...\n",
      "Downloading file: pareto_models_iter_3/cb1fda9f59b2496fefae0cc10d78f2ec958be75a.json to D:\\git\\microsoft\\archai\\archai\\docs\\advanced_guide\\cloud\\azure\\notebooks\\multi_node_search\\mnist_test_run\\pareto_models_iter_3\\cb1fda9f59b2496fefae0cc10d78f2ec958be75a.json ...\n",
      "Downloading file: pareto_models_iter_3/cc3bfa8581c8aec6f6faba274e0dba8b66c7286c.json to D:\\git\\microsoft\\archai\\archai\\docs\\advanced_guide\\cloud\\azure\\notebooks\\multi_node_search\\mnist_test_run\\pareto_models_iter_3\\cc3bfa8581c8aec6f6faba274e0dba8b66c7286c.json ...\n",
      "Downloading file: pareto_models_iter_3/e0c26f1fa6f1e51822d0f496e899d9c415050dc9.json to D:\\git\\microsoft\\archai\\archai\\docs\\advanced_guide\\cloud\\azure\\notebooks\\multi_node_search\\mnist_test_run\\pareto_models_iter_3\\e0c26f1fa6f1e51822d0f496e899d9c415050dc9.json ...\n",
      "Downloading file: pareto_models_iter_3/e93feda07c620ff5cd6abff6734ce757580f75f5.json to D:\\git\\microsoft\\archai\\archai\\docs\\advanced_guide\\cloud\\azure\\notebooks\\multi_node_search\\mnist_test_run\\pareto_models_iter_3\\e93feda07c620ff5cd6abff6734ce757580f75f5.json ...\n",
      "Downloading file: pareto_models_iter_3/f054c49b6bee62288d8057f642794f68e108246c.json to D:\\git\\microsoft\\archai\\archai\\docs\\advanced_guide\\cloud\\azure\\notebooks\\multi_node_search\\mnist_test_run\\pareto_models_iter_3\\f054c49b6bee62288d8057f642794f68e108246c.json ...\n",
      "Downloading file: pareto_models_iter_3/f14bb2c31d7e54f794c2d139be87de7a79996c9b.json to D:\\git\\microsoft\\archai\\archai\\docs\\advanced_guide\\cloud\\azure\\notebooks\\multi_node_search\\mnist_test_run\\pareto_models_iter_3\\f14bb2c31d7e54f794c2d139be87de7a79996c9b.json ...\n",
      "Downloading file: pareto_models_iter_4 to D:\\git\\microsoft\\archai\\archai\\docs\\advanced_guide\\cloud\\azure\\notebooks\\multi_node_search\\mnist_test_run\\pareto_models_iter_4 ...\n",
      "Downloading file: pareto_models_iter_4/0580140451595a97cba5014fe430dce1f6924e2e.json to D:\\git\\microsoft\\archai\\archai\\docs\\advanced_guide\\cloud\\azure\\notebooks\\multi_node_search\\mnist_test_run\\pareto_models_iter_4\\0580140451595a97cba5014fe430dce1f6924e2e.json ...\n",
      "Downloading file: pareto_models_iter_4/0b36e0ce3e24d9848ee0f47704c9a68239ebc394.json to D:\\git\\microsoft\\archai\\archai\\docs\\advanced_guide\\cloud\\azure\\notebooks\\multi_node_search\\mnist_test_run\\pareto_models_iter_4\\0b36e0ce3e24d9848ee0f47704c9a68239ebc394.json ...\n",
      "Downloading file: pareto_models_iter_4/0e1ab9cac1c20c0461c8ff321e2fbd3fc1e3637a.json to D:\\git\\microsoft\\archai\\archai\\docs\\advanced_guide\\cloud\\azure\\notebooks\\multi_node_search\\mnist_test_run\\pareto_models_iter_4\\0e1ab9cac1c20c0461c8ff321e2fbd3fc1e3637a.json ...\n",
      "Downloading file: pareto_models_iter_4/14da00a0fd07ab84c73235a5d9fcdc3a36139bfd.json to D:\\git\\microsoft\\archai\\archai\\docs\\advanced_guide\\cloud\\azure\\notebooks\\multi_node_search\\mnist_test_run\\pareto_models_iter_4\\14da00a0fd07ab84c73235a5d9fcdc3a36139bfd.json ...\n",
      "Downloading file: pareto_models_iter_4/16e0a58350be6c79c8ca41c393794941dfdd09c0.json to D:\\git\\microsoft\\archai\\archai\\docs\\advanced_guide\\cloud\\azure\\notebooks\\multi_node_search\\mnist_test_run\\pareto_models_iter_4\\16e0a58350be6c79c8ca41c393794941dfdd09c0.json ...\n",
      "Downloading file: pareto_models_iter_4/195dd9f8e55b4441ecc584ef98fd897c6b5fee92.json to D:\\git\\microsoft\\archai\\archai\\docs\\advanced_guide\\cloud\\azure\\notebooks\\multi_node_search\\mnist_test_run\\pareto_models_iter_4\\195dd9f8e55b4441ecc584ef98fd897c6b5fee92.json ...\n",
      "Downloading file: pareto_models_iter_4/1d8448d23eff8288798e0f0f855c6d25115f737c.json to D:\\git\\microsoft\\archai\\archai\\docs\\advanced_guide\\cloud\\azure\\notebooks\\multi_node_search\\mnist_test_run\\pareto_models_iter_4\\1d8448d23eff8288798e0f0f855c6d25115f737c.json ...\n",
      "Downloading file: pareto_models_iter_4/1f451461994a8cf8de889c161420a387c5c609e8.json to D:\\git\\microsoft\\archai\\archai\\docs\\advanced_guide\\cloud\\azure\\notebooks\\multi_node_search\\mnist_test_run\\pareto_models_iter_4\\1f451461994a8cf8de889c161420a387c5c609e8.json ...\n",
      "Downloading file: pareto_models_iter_4/2641726b76b7908a0f9c629177dac01c43875d3e.json to D:\\git\\microsoft\\archai\\archai\\docs\\advanced_guide\\cloud\\azure\\notebooks\\multi_node_search\\mnist_test_run\\pareto_models_iter_4\\2641726b76b7908a0f9c629177dac01c43875d3e.json ...\n",
      "Downloading file: pareto_models_iter_4/2cd19afd5bfd5d023454471fc9bf2dcd4ab37c8f.json to D:\\git\\microsoft\\archai\\archai\\docs\\advanced_guide\\cloud\\azure\\notebooks\\multi_node_search\\mnist_test_run\\pareto_models_iter_4\\2cd19afd5bfd5d023454471fc9bf2dcd4ab37c8f.json ...\n",
      "Downloading file: pareto_models_iter_4/2ef83f40a2c0a2cb0f044852e1f48bd9930a9bd6.json to D:\\git\\microsoft\\archai\\archai\\docs\\advanced_guide\\cloud\\azure\\notebooks\\multi_node_search\\mnist_test_run\\pareto_models_iter_4\\2ef83f40a2c0a2cb0f044852e1f48bd9930a9bd6.json ...\n",
      "Downloading file: pareto_models_iter_4/34f48ed30614b66e860a0c97f7b82a6a5b5caea2.json to D:\\git\\microsoft\\archai\\archai\\docs\\advanced_guide\\cloud\\azure\\notebooks\\multi_node_search\\mnist_test_run\\pareto_models_iter_4\\34f48ed30614b66e860a0c97f7b82a6a5b5caea2.json ...\n",
      "Downloading file: pareto_models_iter_4/3ac5b3c1c42d07f5aef7b85de69a0d130bfcf98d.json to D:\\git\\microsoft\\archai\\archai\\docs\\advanced_guide\\cloud\\azure\\notebooks\\multi_node_search\\mnist_test_run\\pareto_models_iter_4\\3ac5b3c1c42d07f5aef7b85de69a0d130bfcf98d.json ...\n",
      "Downloading file: pareto_models_iter_4/41b17796311dd589f978cc61db0d1cfc4ef3f1d8.json to D:\\git\\microsoft\\archai\\archai\\docs\\advanced_guide\\cloud\\azure\\notebooks\\multi_node_search\\mnist_test_run\\pareto_models_iter_4\\41b17796311dd589f978cc61db0d1cfc4ef3f1d8.json ...\n",
      "Downloading file: pareto_models_iter_4/42076d5008a44f65c8abac537aa8adf85dcb0a55.json to D:\\git\\microsoft\\archai\\archai\\docs\\advanced_guide\\cloud\\azure\\notebooks\\multi_node_search\\mnist_test_run\\pareto_models_iter_4\\42076d5008a44f65c8abac537aa8adf85dcb0a55.json ...\n",
      "Downloading file: pareto_models_iter_4/55893fa4bb5749d0d87aa7cdd5caf5e2f86d63da.json to D:\\git\\microsoft\\archai\\archai\\docs\\advanced_guide\\cloud\\azure\\notebooks\\multi_node_search\\mnist_test_run\\pareto_models_iter_4\\55893fa4bb5749d0d87aa7cdd5caf5e2f86d63da.json ...\n",
      "Downloading file: pareto_models_iter_4/5c3002d79e7dd5c3e2e96df26be4be2631e4f5b3.json to D:\\git\\microsoft\\archai\\archai\\docs\\advanced_guide\\cloud\\azure\\notebooks\\multi_node_search\\mnist_test_run\\pareto_models_iter_4\\5c3002d79e7dd5c3e2e96df26be4be2631e4f5b3.json ...\n",
      "Downloading file: pareto_models_iter_4/5d23bc8e70b56a1155f63aeb862b75906a8aa1d7.json to D:\\git\\microsoft\\archai\\archai\\docs\\advanced_guide\\cloud\\azure\\notebooks\\multi_node_search\\mnist_test_run\\pareto_models_iter_4\\5d23bc8e70b56a1155f63aeb862b75906a8aa1d7.json ...\n",
      "Downloading file: pareto_models_iter_4/5d3ab570fb0955bf587eddb16cc2bc7501f835f2.json to D:\\git\\microsoft\\archai\\archai\\docs\\advanced_guide\\cloud\\azure\\notebooks\\multi_node_search\\mnist_test_run\\pareto_models_iter_4\\5d3ab570fb0955bf587eddb16cc2bc7501f835f2.json ...\n",
      "Downloading file: pareto_models_iter_4/61cd48d955413358832cd6787d1da19b82d1d824.json to D:\\git\\microsoft\\archai\\archai\\docs\\advanced_guide\\cloud\\azure\\notebooks\\multi_node_search\\mnist_test_run\\pareto_models_iter_4\\61cd48d955413358832cd6787d1da19b82d1d824.json ...\n",
      "Downloading file: pareto_models_iter_4/65c17a87e5e2f06ec7aff7e3e940d0c41f286137.json to D:\\git\\microsoft\\archai\\archai\\docs\\advanced_guide\\cloud\\azure\\notebooks\\multi_node_search\\mnist_test_run\\pareto_models_iter_4\\65c17a87e5e2f06ec7aff7e3e940d0c41f286137.json ...\n",
      "Downloading file: pareto_models_iter_4/76bb13ffb40c1715f3089bbccdaa47929e190a1b.json to D:\\git\\microsoft\\archai\\archai\\docs\\advanced_guide\\cloud\\azure\\notebooks\\multi_node_search\\mnist_test_run\\pareto_models_iter_4\\76bb13ffb40c1715f3089bbccdaa47929e190a1b.json ...\n",
      "Downloading file: pareto_models_iter_4/781f6db586b52471d12e036a1f1134cea4b40ec9.json to D:\\git\\microsoft\\archai\\archai\\docs\\advanced_guide\\cloud\\azure\\notebooks\\multi_node_search\\mnist_test_run\\pareto_models_iter_4\\781f6db586b52471d12e036a1f1134cea4b40ec9.json ...\n",
      "Downloading file: pareto_models_iter_4/83afe08ccd54f398fa30bebf4261353cd40700ac.json to D:\\git\\microsoft\\archai\\archai\\docs\\advanced_guide\\cloud\\azure\\notebooks\\multi_node_search\\mnist_test_run\\pareto_models_iter_4\\83afe08ccd54f398fa30bebf4261353cd40700ac.json ...\n",
      "Downloading file: pareto_models_iter_4/8e102049a7ee79dcdc1bf8834aef414ac3709a41.json to D:\\git\\microsoft\\archai\\archai\\docs\\advanced_guide\\cloud\\azure\\notebooks\\multi_node_search\\mnist_test_run\\pareto_models_iter_4\\8e102049a7ee79dcdc1bf8834aef414ac3709a41.json ...\n",
      "Downloading file: pareto_models_iter_4/9456a81ec516ef7d252880df87380ffdde73d627.json to D:\\git\\microsoft\\archai\\archai\\docs\\advanced_guide\\cloud\\azure\\notebooks\\multi_node_search\\mnist_test_run\\pareto_models_iter_4\\9456a81ec516ef7d252880df87380ffdde73d627.json ...\n",
      "Downloading file: pareto_models_iter_4/9669c2aea09759159caa1025d79e82839c80e2b4.json to D:\\git\\microsoft\\archai\\archai\\docs\\advanced_guide\\cloud\\azure\\notebooks\\multi_node_search\\mnist_test_run\\pareto_models_iter_4\\9669c2aea09759159caa1025d79e82839c80e2b4.json ...\n",
      "Downloading file: pareto_models_iter_4/96fb7db976ef30e2bd9c65e9657b7c7a61e7eee4.json to D:\\git\\microsoft\\archai\\archai\\docs\\advanced_guide\\cloud\\azure\\notebooks\\multi_node_search\\mnist_test_run\\pareto_models_iter_4\\96fb7db976ef30e2bd9c65e9657b7c7a61e7eee4.json ...\n",
      "Downloading file: pareto_models_iter_4/9d53f0479e4fb954fbd9d8105bba31c3849dcaaf.json to D:\\git\\microsoft\\archai\\archai\\docs\\advanced_guide\\cloud\\azure\\notebooks\\multi_node_search\\mnist_test_run\\pareto_models_iter_4\\9d53f0479e4fb954fbd9d8105bba31c3849dcaaf.json ...\n",
      "Downloading file: pareto_models_iter_4/a938fdf4ccd1af64da359b356a764d0a10536602.json to D:\\git\\microsoft\\archai\\archai\\docs\\advanced_guide\\cloud\\azure\\notebooks\\multi_node_search\\mnist_test_run\\pareto_models_iter_4\\a938fdf4ccd1af64da359b356a764d0a10536602.json ...\n",
      "Downloading file: pareto_models_iter_4/ab6bde48d77e42f2559ac070e36904ae6b1c0f2b.json to D:\\git\\microsoft\\archai\\archai\\docs\\advanced_guide\\cloud\\azure\\notebooks\\multi_node_search\\mnist_test_run\\pareto_models_iter_4\\ab6bde48d77e42f2559ac070e36904ae6b1c0f2b.json ...\n",
      "Downloading file: pareto_models_iter_4/bbfc8727f72bf92775a065df8919fe0f171cc3bd.json to D:\\git\\microsoft\\archai\\archai\\docs\\advanced_guide\\cloud\\azure\\notebooks\\multi_node_search\\mnist_test_run\\pareto_models_iter_4\\bbfc8727f72bf92775a065df8919fe0f171cc3bd.json ...\n",
      "Downloading file: pareto_models_iter_4/be7841a9c073b73f16f5ec65b6fa03f546a6d936.json to D:\\git\\microsoft\\archai\\archai\\docs\\advanced_guide\\cloud\\azure\\notebooks\\multi_node_search\\mnist_test_run\\pareto_models_iter_4\\be7841a9c073b73f16f5ec65b6fa03f546a6d936.json ...\n",
      "Downloading file: pareto_models_iter_4/c834473070cd3911e1003b1231c709f9f4461377.json to D:\\git\\microsoft\\archai\\archai\\docs\\advanced_guide\\cloud\\azure\\notebooks\\multi_node_search\\mnist_test_run\\pareto_models_iter_4\\c834473070cd3911e1003b1231c709f9f4461377.json ...\n",
      "Downloading file: pareto_models_iter_4/cc3bfa8581c8aec6f6faba274e0dba8b66c7286c.json to D:\\git\\microsoft\\archai\\archai\\docs\\advanced_guide\\cloud\\azure\\notebooks\\multi_node_search\\mnist_test_run\\pareto_models_iter_4\\cc3bfa8581c8aec6f6faba274e0dba8b66c7286c.json ...\n",
      "Downloading file: pareto_models_iter_4/e0c26f1fa6f1e51822d0f496e899d9c415050dc9.json to D:\\git\\microsoft\\archai\\archai\\docs\\advanced_guide\\cloud\\azure\\notebooks\\multi_node_search\\mnist_test_run\\pareto_models_iter_4\\e0c26f1fa6f1e51822d0f496e899d9c415050dc9.json ...\n",
      "Downloading file: pareto_models_iter_4/e93feda07c620ff5cd6abff6734ce757580f75f5.json to D:\\git\\microsoft\\archai\\archai\\docs\\advanced_guide\\cloud\\azure\\notebooks\\multi_node_search\\mnist_test_run\\pareto_models_iter_4\\e93feda07c620ff5cd6abff6734ce757580f75f5.json ...\n",
      "Downloading file: pareto_models_iter_4/f054c49b6bee62288d8057f642794f68e108246c.json to D:\\git\\microsoft\\archai\\archai\\docs\\advanced_guide\\cloud\\azure\\notebooks\\multi_node_search\\mnist_test_run\\pareto_models_iter_4\\f054c49b6bee62288d8057f642794f68e108246c.json ...\n",
      "Downloading file: pareto_models_iter_4/f14bb2c31d7e54f794c2d139be87de7a79996c9b.json to D:\\git\\microsoft\\archai\\archai\\docs\\advanced_guide\\cloud\\azure\\notebooks\\multi_node_search\\mnist_test_run\\pareto_models_iter_4\\f14bb2c31d7e54f794c2d139be87de7a79996c9b.json ...\n",
      "Downloading file: pareto_models_iter_5 to D:\\git\\microsoft\\archai\\archai\\docs\\advanced_guide\\cloud\\azure\\notebooks\\multi_node_search\\mnist_test_run\\pareto_models_iter_5 ...\n",
      "Downloading file: pareto_models_iter_5/0580140451595a97cba5014fe430dce1f6924e2e.json to D:\\git\\microsoft\\archai\\archai\\docs\\advanced_guide\\cloud\\azure\\notebooks\\multi_node_search\\mnist_test_run\\pareto_models_iter_5\\0580140451595a97cba5014fe430dce1f6924e2e.json ...\n",
      "Downloading file: pareto_models_iter_5/0b36e0ce3e24d9848ee0f47704c9a68239ebc394.json to D:\\git\\microsoft\\archai\\archai\\docs\\advanced_guide\\cloud\\azure\\notebooks\\multi_node_search\\mnist_test_run\\pareto_models_iter_5\\0b36e0ce3e24d9848ee0f47704c9a68239ebc394.json ...\n",
      "Downloading file: pareto_models_iter_5/0e1ab9cac1c20c0461c8ff321e2fbd3fc1e3637a.json to D:\\git\\microsoft\\archai\\archai\\docs\\advanced_guide\\cloud\\azure\\notebooks\\multi_node_search\\mnist_test_run\\pareto_models_iter_5\\0e1ab9cac1c20c0461c8ff321e2fbd3fc1e3637a.json ...\n",
      "Downloading file: pareto_models_iter_5/14da00a0fd07ab84c73235a5d9fcdc3a36139bfd.json to D:\\git\\microsoft\\archai\\archai\\docs\\advanced_guide\\cloud\\azure\\notebooks\\multi_node_search\\mnist_test_run\\pareto_models_iter_5\\14da00a0fd07ab84c73235a5d9fcdc3a36139bfd.json ...\n",
      "Downloading file: pareto_models_iter_5/16e0a58350be6c79c8ca41c393794941dfdd09c0.json to D:\\git\\microsoft\\archai\\archai\\docs\\advanced_guide\\cloud\\azure\\notebooks\\multi_node_search\\mnist_test_run\\pareto_models_iter_5\\16e0a58350be6c79c8ca41c393794941dfdd09c0.json ...\n",
      "Downloading file: pareto_models_iter_5/195dd9f8e55b4441ecc584ef98fd897c6b5fee92.json to D:\\git\\microsoft\\archai\\archai\\docs\\advanced_guide\\cloud\\azure\\notebooks\\multi_node_search\\mnist_test_run\\pareto_models_iter_5\\195dd9f8e55b4441ecc584ef98fd897c6b5fee92.json ...\n",
      "Downloading file: pareto_models_iter_5/1aa0fb17857f266a689cfd354d4f38e86ec76b1a.json to D:\\git\\microsoft\\archai\\archai\\docs\\advanced_guide\\cloud\\azure\\notebooks\\multi_node_search\\mnist_test_run\\pareto_models_iter_5\\1aa0fb17857f266a689cfd354d4f38e86ec76b1a.json ...\n",
      "Downloading file: pareto_models_iter_5/1d8448d23eff8288798e0f0f855c6d25115f737c.json to D:\\git\\microsoft\\archai\\archai\\docs\\advanced_guide\\cloud\\azure\\notebooks\\multi_node_search\\mnist_test_run\\pareto_models_iter_5\\1d8448d23eff8288798e0f0f855c6d25115f737c.json ...\n",
      "Downloading file: pareto_models_iter_5/1f451461994a8cf8de889c161420a387c5c609e8.json to D:\\git\\microsoft\\archai\\archai\\docs\\advanced_guide\\cloud\\azure\\notebooks\\multi_node_search\\mnist_test_run\\pareto_models_iter_5\\1f451461994a8cf8de889c161420a387c5c609e8.json ...\n",
      "Downloading file: pareto_models_iter_5/23c94c578e1447e6f9623113f22b08411cd54781.json to D:\\git\\microsoft\\archai\\archai\\docs\\advanced_guide\\cloud\\azure\\notebooks\\multi_node_search\\mnist_test_run\\pareto_models_iter_5\\23c94c578e1447e6f9623113f22b08411cd54781.json ...\n",
      "Downloading file: pareto_models_iter_5/2641726b76b7908a0f9c629177dac01c43875d3e.json to D:\\git\\microsoft\\archai\\archai\\docs\\advanced_guide\\cloud\\azure\\notebooks\\multi_node_search\\mnist_test_run\\pareto_models_iter_5\\2641726b76b7908a0f9c629177dac01c43875d3e.json ...\n",
      "Downloading file: pareto_models_iter_5/2cd19afd5bfd5d023454471fc9bf2dcd4ab37c8f.json to D:\\git\\microsoft\\archai\\archai\\docs\\advanced_guide\\cloud\\azure\\notebooks\\multi_node_search\\mnist_test_run\\pareto_models_iter_5\\2cd19afd5bfd5d023454471fc9bf2dcd4ab37c8f.json ...\n",
      "Downloading file: pareto_models_iter_5/2ef83f40a2c0a2cb0f044852e1f48bd9930a9bd6.json to D:\\git\\microsoft\\archai\\archai\\docs\\advanced_guide\\cloud\\azure\\notebooks\\multi_node_search\\mnist_test_run\\pareto_models_iter_5\\2ef83f40a2c0a2cb0f044852e1f48bd9930a9bd6.json ...\n",
      "Downloading file: pareto_models_iter_5/34f48ed30614b66e860a0c97f7b82a6a5b5caea2.json to D:\\git\\microsoft\\archai\\archai\\docs\\advanced_guide\\cloud\\azure\\notebooks\\multi_node_search\\mnist_test_run\\pareto_models_iter_5\\34f48ed30614b66e860a0c97f7b82a6a5b5caea2.json ...\n",
      "Downloading file: pareto_models_iter_5/3ac5b3c1c42d07f5aef7b85de69a0d130bfcf98d.json to D:\\git\\microsoft\\archai\\archai\\docs\\advanced_guide\\cloud\\azure\\notebooks\\multi_node_search\\mnist_test_run\\pareto_models_iter_5\\3ac5b3c1c42d07f5aef7b85de69a0d130bfcf98d.json ...\n",
      "Downloading file: pareto_models_iter_5/41b17796311dd589f978cc61db0d1cfc4ef3f1d8.json to D:\\git\\microsoft\\archai\\archai\\docs\\advanced_guide\\cloud\\azure\\notebooks\\multi_node_search\\mnist_test_run\\pareto_models_iter_5\\41b17796311dd589f978cc61db0d1cfc4ef3f1d8.json ...\n",
      "Downloading file: pareto_models_iter_5/42076d5008a44f65c8abac537aa8adf85dcb0a55.json to D:\\git\\microsoft\\archai\\archai\\docs\\advanced_guide\\cloud\\azure\\notebooks\\multi_node_search\\mnist_test_run\\pareto_models_iter_5\\42076d5008a44f65c8abac537aa8adf85dcb0a55.json ...\n",
      "Downloading file: pareto_models_iter_5/4b7856ca988d2268f8e5f939033ecdcd545fc1a7.json to D:\\git\\microsoft\\archai\\archai\\docs\\advanced_guide\\cloud\\azure\\notebooks\\multi_node_search\\mnist_test_run\\pareto_models_iter_5\\4b7856ca988d2268f8e5f939033ecdcd545fc1a7.json ...\n",
      "Downloading file: pareto_models_iter_5/55893fa4bb5749d0d87aa7cdd5caf5e2f86d63da.json to D:\\git\\microsoft\\archai\\archai\\docs\\advanced_guide\\cloud\\azure\\notebooks\\multi_node_search\\mnist_test_run\\pareto_models_iter_5\\55893fa4bb5749d0d87aa7cdd5caf5e2f86d63da.json ...\n",
      "Downloading file: pareto_models_iter_5/5c3002d79e7dd5c3e2e96df26be4be2631e4f5b3.json to D:\\git\\microsoft\\archai\\archai\\docs\\advanced_guide\\cloud\\azure\\notebooks\\multi_node_search\\mnist_test_run\\pareto_models_iter_5\\5c3002d79e7dd5c3e2e96df26be4be2631e4f5b3.json ...\n",
      "Downloading file: pareto_models_iter_5/5d3ab570fb0955bf587eddb16cc2bc7501f835f2.json to D:\\git\\microsoft\\archai\\archai\\docs\\advanced_guide\\cloud\\azure\\notebooks\\multi_node_search\\mnist_test_run\\pareto_models_iter_5\\5d3ab570fb0955bf587eddb16cc2bc7501f835f2.json ...\n",
      "Downloading file: pareto_models_iter_5/61cd48d955413358832cd6787d1da19b82d1d824.json to D:\\git\\microsoft\\archai\\archai\\docs\\advanced_guide\\cloud\\azure\\notebooks\\multi_node_search\\mnist_test_run\\pareto_models_iter_5\\61cd48d955413358832cd6787d1da19b82d1d824.json ...\n",
      "Downloading file: pareto_models_iter_5/65c17a87e5e2f06ec7aff7e3e940d0c41f286137.json to D:\\git\\microsoft\\archai\\archai\\docs\\advanced_guide\\cloud\\azure\\notebooks\\multi_node_search\\mnist_test_run\\pareto_models_iter_5\\65c17a87e5e2f06ec7aff7e3e940d0c41f286137.json ...\n",
      "Downloading file: pareto_models_iter_5/76bb13ffb40c1715f3089bbccdaa47929e190a1b.json to D:\\git\\microsoft\\archai\\archai\\docs\\advanced_guide\\cloud\\azure\\notebooks\\multi_node_search\\mnist_test_run\\pareto_models_iter_5\\76bb13ffb40c1715f3089bbccdaa47929e190a1b.json ...\n",
      "Downloading file: pareto_models_iter_5/781f6db586b52471d12e036a1f1134cea4b40ec9.json to D:\\git\\microsoft\\archai\\archai\\docs\\advanced_guide\\cloud\\azure\\notebooks\\multi_node_search\\mnist_test_run\\pareto_models_iter_5\\781f6db586b52471d12e036a1f1134cea4b40ec9.json ...\n",
      "Downloading file: pareto_models_iter_5/83afe08ccd54f398fa30bebf4261353cd40700ac.json to D:\\git\\microsoft\\archai\\archai\\docs\\advanced_guide\\cloud\\azure\\notebooks\\multi_node_search\\mnist_test_run\\pareto_models_iter_5\\83afe08ccd54f398fa30bebf4261353cd40700ac.json ...\n",
      "Downloading file: pareto_models_iter_5/8c493361e54504c07e18385a60a1d27eb5329dde.json to D:\\git\\microsoft\\archai\\archai\\docs\\advanced_guide\\cloud\\azure\\notebooks\\multi_node_search\\mnist_test_run\\pareto_models_iter_5\\8c493361e54504c07e18385a60a1d27eb5329dde.json ...\n",
      "Downloading file: pareto_models_iter_5/8e102049a7ee79dcdc1bf8834aef414ac3709a41.json to D:\\git\\microsoft\\archai\\archai\\docs\\advanced_guide\\cloud\\azure\\notebooks\\multi_node_search\\mnist_test_run\\pareto_models_iter_5\\8e102049a7ee79dcdc1bf8834aef414ac3709a41.json ...\n",
      "Downloading file: pareto_models_iter_5/9669c2aea09759159caa1025d79e82839c80e2b4.json to D:\\git\\microsoft\\archai\\archai\\docs\\advanced_guide\\cloud\\azure\\notebooks\\multi_node_search\\mnist_test_run\\pareto_models_iter_5\\9669c2aea09759159caa1025d79e82839c80e2b4.json ...\n",
      "Downloading file: pareto_models_iter_5/96fb7db976ef30e2bd9c65e9657b7c7a61e7eee4.json to D:\\git\\microsoft\\archai\\archai\\docs\\advanced_guide\\cloud\\azure\\notebooks\\multi_node_search\\mnist_test_run\\pareto_models_iter_5\\96fb7db976ef30e2bd9c65e9657b7c7a61e7eee4.json ...\n",
      "Downloading file: pareto_models_iter_5/9d53f0479e4fb954fbd9d8105bba31c3849dcaaf.json to D:\\git\\microsoft\\archai\\archai\\docs\\advanced_guide\\cloud\\azure\\notebooks\\multi_node_search\\mnist_test_run\\pareto_models_iter_5\\9d53f0479e4fb954fbd9d8105bba31c3849dcaaf.json ...\n",
      "Downloading file: pareto_models_iter_5/a938fdf4ccd1af64da359b356a764d0a10536602.json to D:\\git\\microsoft\\archai\\archai\\docs\\advanced_guide\\cloud\\azure\\notebooks\\multi_node_search\\mnist_test_run\\pareto_models_iter_5\\a938fdf4ccd1af64da359b356a764d0a10536602.json ...\n",
      "Downloading file: pareto_models_iter_5/ab6bde48d77e42f2559ac070e36904ae6b1c0f2b.json to D:\\git\\microsoft\\archai\\archai\\docs\\advanced_guide\\cloud\\azure\\notebooks\\multi_node_search\\mnist_test_run\\pareto_models_iter_5\\ab6bde48d77e42f2559ac070e36904ae6b1c0f2b.json ...\n",
      "Downloading file: pareto_models_iter_5/bbfc8727f72bf92775a065df8919fe0f171cc3bd.json to D:\\git\\microsoft\\archai\\archai\\docs\\advanced_guide\\cloud\\azure\\notebooks\\multi_node_search\\mnist_test_run\\pareto_models_iter_5\\bbfc8727f72bf92775a065df8919fe0f171cc3bd.json ...\n",
      "Downloading file: pareto_models_iter_5/be7841a9c073b73f16f5ec65b6fa03f546a6d936.json to D:\\git\\microsoft\\archai\\archai\\docs\\advanced_guide\\cloud\\azure\\notebooks\\multi_node_search\\mnist_test_run\\pareto_models_iter_5\\be7841a9c073b73f16f5ec65b6fa03f546a6d936.json ...\n",
      "Downloading file: pareto_models_iter_5/c834473070cd3911e1003b1231c709f9f4461377.json to D:\\git\\microsoft\\archai\\archai\\docs\\advanced_guide\\cloud\\azure\\notebooks\\multi_node_search\\mnist_test_run\\pareto_models_iter_5\\c834473070cd3911e1003b1231c709f9f4461377.json ...\n",
      "Downloading file: pareto_models_iter_5/cc3bfa8581c8aec6f6faba274e0dba8b66c7286c.json to D:\\git\\microsoft\\archai\\archai\\docs\\advanced_guide\\cloud\\azure\\notebooks\\multi_node_search\\mnist_test_run\\pareto_models_iter_5\\cc3bfa8581c8aec6f6faba274e0dba8b66c7286c.json ...\n",
      "Downloading file: pareto_models_iter_5/e0c26f1fa6f1e51822d0f496e899d9c415050dc9.json to D:\\git\\microsoft\\archai\\archai\\docs\\advanced_guide\\cloud\\azure\\notebooks\\multi_node_search\\mnist_test_run\\pareto_models_iter_5\\e0c26f1fa6f1e51822d0f496e899d9c415050dc9.json ...\n",
      "Downloading file: pareto_models_iter_5/e93feda07c620ff5cd6abff6734ce757580f75f5.json to D:\\git\\microsoft\\archai\\archai\\docs\\advanced_guide\\cloud\\azure\\notebooks\\multi_node_search\\mnist_test_run\\pareto_models_iter_5\\e93feda07c620ff5cd6abff6734ce757580f75f5.json ...\n",
      "Downloading file: pareto_models_iter_5/f054c49b6bee62288d8057f642794f68e108246c.json to D:\\git\\microsoft\\archai\\archai\\docs\\advanced_guide\\cloud\\azure\\notebooks\\multi_node_search\\mnist_test_run\\pareto_models_iter_5\\f054c49b6bee62288d8057f642794f68e108246c.json ...\n",
      "Downloading file: pareto_models_iter_5/f13f8d295c8e89f01d2c158ce967e1b72158299d.json to D:\\git\\microsoft\\archai\\archai\\docs\\advanced_guide\\cloud\\azure\\notebooks\\multi_node_search\\mnist_test_run\\pareto_models_iter_5\\f13f8d295c8e89f01d2c158ce967e1b72158299d.json ...\n",
      "Downloading file: pareto_models_iter_5/f14bb2c31d7e54f794c2d139be87de7a79996c9b.json to D:\\git\\microsoft\\archai\\archai\\docs\\advanced_guide\\cloud\\azure\\notebooks\\multi_node_search\\mnist_test_run\\pareto_models_iter_5\\f14bb2c31d7e54f794c2d139be87de7a79996c9b.json ...\n",
      "Downloading file: search_state_1.csv to D:\\git\\microsoft\\archai\\archai\\docs\\advanced_guide\\cloud\\azure\\notebooks\\multi_node_search\\mnist_test_run\\search_state_1.csv ...\n",
      "Downloading file: search_state_2.csv to D:\\git\\microsoft\\archai\\archai\\docs\\advanced_guide\\cloud\\azure\\notebooks\\multi_node_search\\mnist_test_run\\search_state_2.csv ...\n",
      "Downloading file: search_state_3.csv to D:\\git\\microsoft\\archai\\archai\\docs\\advanced_guide\\cloud\\azure\\notebooks\\multi_node_search\\mnist_test_run\\search_state_3.csv ...\n",
      "Downloading file: search_state_4.csv to D:\\git\\microsoft\\archai\\archai\\docs\\advanced_guide\\cloud\\azure\\notebooks\\multi_node_search\\mnist_test_run\\search_state_4.csv ...\n",
      "Downloading file: search_state_5.csv to D:\\git\\microsoft\\archai\\archai\\docs\\advanced_guide\\cloud\\azure\\notebooks\\multi_node_search\\mnist_test_run\\search_state_5.csv ...\n"
     ]
    }
   ],
   "source": [
    "from utils import get_results, show_results, download_best_models\n",
    "from store import ArchaiStore\n",
    "store = ArchaiStore(storage_account_name, storage_account_key, blob_container_name=model_container_name)\n",
    "\n",
    "print(f'Fetching results for {experiment_name}...')\n",
    "blob_path = root_folder + '/' + experiment_name\n",
    "output_folder = experiment_name\n",
    "\n",
    "get_results(store, blob_path, output_folder)\n",
    "download_best_models(store, experiment_name, output_folder)"
   ]
  },
  {
   "cell_type": "code",
   "execution_count": 17,
   "metadata": {},
   "outputs": [
    {
     "data": {
      "image/png": "[encoded data removed]",
      "text/plain": [
       "<IPython.core.display.Image object>"
      ]
     },
     "metadata": {},
     "output_type": "display_data"
    },
    {
     "data": {
      "image/png": "[encoded data removed]",
      "text/plain": [
       "<IPython.core.display.Image object>"
      ]
     },
     "metadata": {},
     "output_type": "display_data"
    },
    {
     "data": {
      "image/png": "[encoded data removed]",
      "text/plain": [
       "<IPython.core.display.Image object>"
      ]
     },
     "metadata": {},
     "output_type": "display_data"
    }
   ],
   "source": [
    "show_results(output_folder)"
   ]
  },
  {
   "attachments": {},
   "cell_type": "markdown",
   "metadata": {},
   "source": [
    "## Test ONNX Runtime Inference on the Best Model\n",
    "\n",
    "When the search pipeline completes you should have a `models.json` file in the experiment_name output folder and you can use that to find the most accurate model and run it through the ONNX runtime to see if the ONNX inference gets the same accuracy."
   ]
  },
  {
   "cell_type": "code",
   "execution_count": 18,
   "metadata": {},
   "outputs": [
    {
     "name": "stdout",
     "output_type": "stream",
     "text": [
      "The top model is id_4c48381a_47d4_49c4_bd63_ebd26c526bc1 with accuracy 0.0 and architecture nb_layers=4, kernel_size=7, hidden_dim=16\n"
     ]
    }
   ],
   "source": [
    "# find the top model in the json results.\n",
    "filename = os.path.join(output_folder, \"models.json\")\n",
    "best_of_the_best = None\n",
    "top_accuracy = -1\n",
    "row = None\n",
    "if not os.path.isfile(filename):\n",
    "    raise Exception(f\"Could not find {filename} file. Please wait for job to finish.\")\n",
    "\n",
    "results = json.load(open(filename, \"r\"))\n",
    "models = results['models']\n",
    "for a in models:\n",
    "    if type(a) is dict and 'val_acc' in a:\n",
    "        val_acc = a['val_acc']\n",
    "        if val_acc > top_accuracy:\n",
    "            top_accuracy = val_acc\n",
    "            best_of_the_best = a['id']\n",
    "            row = a\n",
    "\n",
    "config = ArchConfig(row)\n",
    "model = MyModel(config)\n",
    "\n",
    "arch = f\"nb_layers={model.nb_layers}, kernel_size={model.kernel_size}, hidden_dim={model.hidden_dim}\"\n",
    "print(f\"The top model is {best_of_the_best} with accuracy {top_accuracy} and architecture {arch}\")\n",
    "\n",
    "blob_path = root_folder + '/' + best_of_the_best\n",
    "model_output = os.path.join(output_folder, 'top_model')\n",
    "get_results(store, blob_path, model_output)\n",
    "\n",
    "model_path = os.path.join(model_output, 'model.onnx')\n"
   ]
  },
  {
   "cell_type": "code",
   "execution_count": 19,
   "metadata": {},
   "outputs": [
    {
     "name": "stdout",
     "output_type": "stream",
     "text": [
      "data has shape: torch.Size([28, 28])\n"
     ]
    },
    {
     "data": {
      "image/png": "[encoded data removed]",
      "text/plain": [
       "<Figure size 200x200 with 1 Axes>"
      ]
     },
     "metadata": {},
     "output_type": "display_data"
    },
    {
     "name": "stdout",
     "output_type": "stream",
     "text": [
      "input: input, [1, 1, 28, 28], tensor(float)\n",
      "Testing 10000 rows\n"
     ]
    },
    {
     "name": "stderr",
     "output_type": "stream",
     "text": [
      "c:\\anaconda3\\envs\\archai\\lib\\site-packages\\torchvision\\datasets\\mnist.py:65: UserWarning: train_labels has been renamed targets\n",
      "  warnings.warn(\"train_labels has been renamed targets\")\n"
     ]
    },
    {
     "name": "stdout",
     "output_type": "stream",
     "text": [
      "Failed 48 out of 10000 rows\n",
      "Inference pass rate is  99.52 %.\n",
      "How does this compare with the training validation accuracy of 0.0\n",
      "The onnx runtime is giving different results.\n"
     ]
    }
   ],
   "source": [
    "# Great, now let's test if this model works as advertised.\n",
    "from archai.datasets.cv.mnist_dataset_provider import MnistDatasetProvider\n",
    "import onnxruntime as ort\n",
    "import numpy as np\n",
    "\n",
    "dataset_provider = MnistDatasetProvider()\n",
    "val_data = dataset_provider.get_val_dataset()\n",
    "count = val_data.data.shape[0]\n",
    "test = np.random.choice(count, 1)[0]\n",
    "data = val_data.data[test]\n",
    "\n",
    "import matplotlib.pyplot as plt\n",
    "\n",
    "# check what the images look like.\n",
    "plt.figure(figsize=(2,2))\n",
    "plt.imshow(data, cmap='gray')\n",
    "print(f'data has shape: {data.shape}')\n",
    "plt.axis('off')\n",
    "plt.show()\n",
    "\n",
    "# Now run the ONNX runtime on this the validation set.\n",
    "# You can change this to `CUDAExecutionProvider` if you have a GPU and have\n",
    "# installed the CUDA runtime.\n",
    "ort_sess = ort.InferenceSession(model_path, providers=['CPUExecutionProvider'])\n",
    "for i in ort_sess.get_inputs():\n",
    "    print(f'input: {i.name}, {i.shape}, {i.type}')\n",
    "    \n",
    "print(f'Testing {count} rows')\n",
    "failed = 0\n",
    "for i in range(val_data.data.shape[0]):\n",
    "    data = val_data.data[i]    \n",
    "    expected = int(val_data.train_labels[i])\n",
    "\n",
    "    while len(data.shape) < 4:\n",
    "        data = np.expand_dims(data, axis=0)\n",
    "    outputs = ort_sess.run(None, {'input': data.astype(np.float32) / 255.0})\n",
    "    result = outputs[0]\n",
    "    index = np.argmax(result)\n",
    "    label = val_data.classes[index]\n",
    "    if expected != index:\n",
    "        # print(f'### Failed: {expected} and got {label}')\n",
    "        failed += 1\n",
    "          \n",
    "rate = (count - failed) * 100 / count\n",
    "print(f\"Failed {failed} out of {count} rows\")\n",
    "print(f'Inference pass rate is  {rate} %.')\n",
    "print(f'How does this compare with the training validation accuracy of {top_accuracy}')\n",
    "if np.isclose(rate, top_accuracy* 100, atol=0.1):\n",
    "    print('Success! The model is working as expected.')\n",
    "else:\n",
    "    print('The onnx runtime is giving different results.')\n"
   ]
  },
  {
   "cell_type": "code",
   "execution_count": null,
   "metadata": {},
   "outputs": [],
   "source": []
  }
 ],
 "metadata": {
  "kernelspec": {
   "display_name": "archai",
   "language": "python",
   "name": "python3"
  },
  "language_info": {
   "codemirror_mode": {
    "name": "ipython",
    "version": 3
   },
   "file_extension": ".py",
   "mimetype": "text/x-python",
   "name": "python",
   "nbconvert_exporter": "python",
   "pygments_lexer": "ipython3",
   "version": "3.10.9"
  },
  "orig_nbformat": 4,
  "vscode": {
   "interpreter": {
    "hash": "799abcba35f70097d02fca042963180a03ec3451fe1b7671ac5d22383cd0232c"
   }
  }
 },
 "nbformat": 4,
 "nbformat_minor": 2
}
